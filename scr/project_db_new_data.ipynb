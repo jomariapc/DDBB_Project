{
 "cells": [
  {
   "cell_type": "markdown",
   "id": "5a2f75f9-5831-4f95-ab49-9fa6f63e31ff",
   "metadata": {},
   "source": [
    "# III. Database filling\n",
    "1. [Import libraries and scr.py file](#libraries-scrpy)\n",
    "2. [New records for film](#new-records-film)\n",
    "3. [New records for customer](#new-records-customer)\n",
    "4. [Fill new \"price\" column in rental](#fill-price-column)\n",
    "5. [Some extra imports and exports](#extra-imports-exports)"
   ]
  },
  {
   "cell_type": "markdown",
   "id": "24165004-f0e8-40bb-869e-4da008d40d44",
   "metadata": {
    "jp-MarkdownHeadingCollapsed": true
   },
   "source": [
    "## 1. Import libraries and scr.py file"
   ]
  },
  {
   "cell_type": "code",
   "execution_count": 2,
   "id": "d2652169-9aaf-4396-9ff0-6e3d2be3f4c9",
   "metadata": {},
   "outputs": [],
   "source": [
    "import numpy as np\n",
    "import pandas as pd\n",
    "\n",
    "pd.set_option('display.max_columns', None)"
   ]
  },
  {
   "cell_type": "code",
   "execution_count": 4,
   "id": "742b7a63-6081-4dec-ae7e-b68aa782b7ae",
   "metadata": {},
   "outputs": [],
   "source": [
    "import scr as sc #Functions"
   ]
  },
  {
   "cell_type": "code",
   "execution_count": 3,
   "id": "419083fe-3160-4343-b5ca-f06f5dd8b197",
   "metadata": {},
   "outputs": [],
   "source": [
    "import pylab as plt  \n",
    "import seaborn as sns\n",
    "import random\n",
    "\n",
    "%matplotlib inline\n",
    "\n",
    "#%pip install Faker"
   ]
  },
  {
   "cell_type": "markdown",
   "id": "8455020b-3263-4588-9234-63f0df9f1656",
   "metadata": {},
   "source": [
    "## 2. New records for film"
   ]
  },
  {
   "cell_type": "code",
   "execution_count": 29,
   "id": "fb56339e-2daf-4822-b0ac-3d3d4f97b4a1",
   "metadata": {},
   "outputs": [
    {
     "data": {
      "text/plain": [
       "'from faker import Faker\\n\\nfake = Faker()\\n\\npeliculas = []\\n\\nfor film_id in range(1000, 1500):\\n    title = fake.text(50).upper()\\n    description = fake.paragraph(nb_sentences=3, variable_nb_sentences=True).upper()\\n    release_year = random.randint(2022, 2024)\\n    language_id = None\\n    original_language_id = random.choice([1, 2, 3, 4, 5, 6])\\n    rental_duration = random.randint(3, 9)\\n    rental_rate = round(random.uniform(0.99, 4.99), 2)\\n    length = random.randint(60, 180)\\n    replacement_cost = round(random.uniform(9.99, 29.99), 2)\\n    rating = \"\"\\n    category_id = random.choice([1, 3, 4, 2, 5, 6, 7, 8, 9, 10, 11, 12, 13, 14, 15, 16, 17])\\n\\n    actors = [fake.first_name(), fake.last_name(), fake.first_name(), fake.last_name(), fake.first_name(), fake.last_name(), fake.first_name(), fake.last_name()]\\n\\n    peliculas.append({\\n        \\'film_id\\': film_id,\\n        \\'title\\': title,\\n        \\'description\\': description,\\n        \\'release_year\\': release_year,\\n        \\'language_id\\': language_id,\\n        \\'original_language_id\\': original_language_id,\\n        \\'rental_duration\\': rental_duration,\\n        \\'rental_rate\\': rental_rate,\\n        \\'length\\': length,\\n        \\'replacement_cost\\': replacement_cost,\\n        \\'rating\\': rating,\\n        \\'category_id\\': category_id,\\n        \\'actor1_first_name\\': actors[0],\\n        \\'actor1_last_name\\': actors[1],\\n        \\'actor2_first_name\\': actors[2],\\n        \\'actor2_last_name\\': actors[3],\\n        \\'actor3_first_name\\': actors[4],\\n        \\'actor3_last_name\\': actors[5],\\n        \\'actor4_first_name\\': actors[6],\\n        \\'actor4_last_name\\': actors[7]\\n    })\\n\\ndf = pd.DataFrame(peliculas)\\n\\ndf'"
      ]
     },
     "execution_count": 29,
     "metadata": {},
     "output_type": "execute_result"
    }
   ],
   "source": [
    "\"\"\"from faker import Faker\n",
    "\n",
    "fake = Faker()\n",
    "\n",
    "peliculas = []\n",
    "\n",
    "for film_id in range(1000, 1500):\n",
    "    title = fake.text(50).upper()\n",
    "    description = fake.paragraph(nb_sentences=3, variable_nb_sentences=True).upper()\n",
    "    release_year = random.randint(2022, 2024)\n",
    "    language_id = None\n",
    "    original_language_id = random.choice([1, 2, 3, 4, 5, 6])\n",
    "    rental_duration = random.randint(3, 9)\n",
    "    rental_rate = round(random.uniform(0.99, 4.99), 2)\n",
    "    length = random.randint(60, 180)\n",
    "    replacement_cost = round(random.uniform(9.99, 29.99), 2)\n",
    "    rating = \"\"\n",
    "    category_id = random.choice([1, 3, 4, 2, 5, 6, 7, 8, 9, 10, 11, 12, 13, 14, 15, 16, 17])\n",
    "\n",
    "    actors = [fake.first_name(), fake.last_name(), fake.first_name(), fake.last_name(), fake.first_name(), fake.last_name(), fake.first_name(), fake.last_name()]\n",
    "\n",
    "    peliculas.append({\n",
    "        'film_id': film_id,\n",
    "        'title': title,\n",
    "        'description': description,\n",
    "        'release_year': release_year,\n",
    "        'language_id': language_id,\n",
    "        'original_language_id': original_language_id,\n",
    "        'rental_duration': rental_duration,\n",
    "        'rental_rate': rental_rate,\n",
    "        'length': length,\n",
    "        'replacement_cost': replacement_cost,\n",
    "        'rating': rating,\n",
    "        'category_id': category_id,\n",
    "        'actor1_first_name': actors[0],\n",
    "        'actor1_last_name': actors[1],\n",
    "        'actor2_first_name': actors[2],\n",
    "        'actor2_last_name': actors[3],\n",
    "        'actor3_first_name': actors[4],\n",
    "        'actor3_last_name': actors[5],\n",
    "        'actor4_first_name': actors[6],\n",
    "        'actor4_last_name': actors[7]\n",
    "    })\n",
    "\n",
    "df = pd.DataFrame(peliculas)\n",
    "\n",
    "df\"\"\""
   ]
  },
  {
   "cell_type": "code",
   "execution_count": 15,
   "id": "914bfb2f-e79c-429d-b9cc-aba80dbea32f",
   "metadata": {},
   "outputs": [],
   "source": [
    "#df.to_excel('../data/3-fill_db/prefilms.xlsx', index=False)"
   ]
  },
  {
   "cell_type": "markdown",
   "id": "b23cb1ad-3eaf-4f66-926a-3cee669523f4",
   "metadata": {
    "jp-MarkdownHeadingCollapsed": true
   },
   "source": [
    "## 3. New records for customer"
   ]
  },
  {
   "cell_type": "code",
   "execution_count": 39,
   "id": "fad5ad82-b38a-4bab-a3a9-373f360c8abc",
   "metadata": {},
   "outputs": [
    {
     "data": {
      "text/html": [
       "<div>\n",
       "<style scoped>\n",
       "    .dataframe tbody tr th:only-of-type {\n",
       "        vertical-align: middle;\n",
       "    }\n",
       "\n",
       "    .dataframe tbody tr th {\n",
       "        vertical-align: top;\n",
       "    }\n",
       "\n",
       "    .dataframe thead th {\n",
       "        text-align: right;\n",
       "    }\n",
       "</style>\n",
       "<table border=\"1\" class=\"dataframe\">\n",
       "  <thead>\n",
       "    <tr style=\"text-align: right;\">\n",
       "      <th></th>\n",
       "      <th>customer_id</th>\n",
       "      <th>first_name</th>\n",
       "      <th>last_name</th>\n",
       "      <th>mobile</th>\n",
       "      <th>email</th>\n",
       "      <th>dni</th>\n",
       "    </tr>\n",
       "  </thead>\n",
       "  <tbody>\n",
       "    <tr>\n",
       "      <th>0</th>\n",
       "      <td>1</td>\n",
       "      <td>Nathan</td>\n",
       "      <td>Murray</td>\n",
       "      <td>623463976</td>\n",
       "      <td>haley44@example.org</td>\n",
       "      <td>42843811A</td>\n",
       "    </tr>\n",
       "    <tr>\n",
       "      <th>1</th>\n",
       "      <td>2</td>\n",
       "      <td>Kimberly</td>\n",
       "      <td>Deleon</td>\n",
       "      <td>673591576</td>\n",
       "      <td>watsonkathryn@example.com</td>\n",
       "      <td>47032981U</td>\n",
       "    </tr>\n",
       "    <tr>\n",
       "      <th>2</th>\n",
       "      <td>3</td>\n",
       "      <td>Lacey</td>\n",
       "      <td>Brown</td>\n",
       "      <td>647471458</td>\n",
       "      <td>danielshepherd@example.net</td>\n",
       "      <td>70360684J</td>\n",
       "    </tr>\n",
       "    <tr>\n",
       "      <th>3</th>\n",
       "      <td>4</td>\n",
       "      <td>Ricky</td>\n",
       "      <td>Nichols</td>\n",
       "      <td>619218677</td>\n",
       "      <td>jeffrey32@example.net</td>\n",
       "      <td>87236148H</td>\n",
       "    </tr>\n",
       "    <tr>\n",
       "      <th>4</th>\n",
       "      <td>5</td>\n",
       "      <td>Jon</td>\n",
       "      <td>Velazquez</td>\n",
       "      <td>613249589</td>\n",
       "      <td>rwells@example.net</td>\n",
       "      <td>65856974S</td>\n",
       "    </tr>\n",
       "  </tbody>\n",
       "</table>\n",
       "</div>"
      ],
      "text/plain": [
       "   customer_id first_name  last_name     mobile                       email  \\\n",
       "0            1     Nathan     Murray  623463976         haley44@example.org   \n",
       "1            2   Kimberly     Deleon  673591576   watsonkathryn@example.com   \n",
       "2            3      Lacey      Brown  647471458  danielshepherd@example.net   \n",
       "3            4      Ricky    Nichols  619218677       jeffrey32@example.net   \n",
       "4            5        Jon  Velazquez  613249589          rwells@example.net   \n",
       "\n",
       "         dni  \n",
       "0  42843811A  \n",
       "1  47032981U  \n",
       "2  70360684J  \n",
       "3  87236148H  \n",
       "4  65856974S  "
      ]
     },
     "execution_count": 39,
     "metadata": {},
     "output_type": "execute_result"
    }
   ],
   "source": [
    "\"\"\"fake = Faker()\n",
    "\n",
    "clientes = []\n",
    "\n",
    "for _ in range(50):\n",
    "    first_name = fake.first_name().capitalize()\n",
    "    last_name = fake.last_name().capitalize()\n",
    "    mobile = \"6\" + str(fake.random_number(digits=8))\n",
    "    email = fake.email()\n",
    "    dni = str(fake.random_number(digits=8)) + fake.random_letter().upper()\n",
    "\n",
    "    clientes.append({\n",
    "        'customer_id': _ + 1, \n",
    "        'first_name': first_name,\n",
    "        'last_name': last_name,\n",
    "        'mobile': mobile,\n",
    "        'email': email,\n",
    "        'dni': dni\n",
    "    })\n",
    "\n",
    "df = pd.DataFrame(clientes)\n",
    "\n",
    "df.head()\"\"\""
   ]
  },
  {
   "cell_type": "code",
   "execution_count": 40,
   "id": "0f31f055-f1af-4124-8a94-7daa44c0c0f4",
   "metadata": {},
   "outputs": [],
   "source": [
    "#df.to_csv('../data/3-fill_db/customer.csv', index=False)"
   ]
  },
  {
   "cell_type": "markdown",
   "id": "105559aa-aa52-4caf-962c-8c5457b1dceb",
   "metadata": {
    "jp-MarkdownHeadingCollapsed": true
   },
   "source": [
    "## 4. Fill new \"price\" column in rental"
   ]
  },
  {
   "cell_type": "code",
   "execution_count": 93,
   "id": "b669a848-014e-4af4-ba2e-5a829b57d868",
   "metadata": {},
   "outputs": [
    {
     "data": {
      "text/html": [
       "<div>\n",
       "<style scoped>\n",
       "    .dataframe tbody tr th:only-of-type {\n",
       "        vertical-align: middle;\n",
       "    }\n",
       "\n",
       "    .dataframe tbody tr th {\n",
       "        vertical-align: top;\n",
       "    }\n",
       "\n",
       "    .dataframe thead th {\n",
       "        text-align: right;\n",
       "    }\n",
       "</style>\n",
       "<table border=\"1\" class=\"dataframe\">\n",
       "  <thead>\n",
       "    <tr style=\"text-align: right;\">\n",
       "      <th></th>\n",
       "      <th>rental_id</th>\n",
       "      <th>rental_date</th>\n",
       "      <th>return_date</th>\n",
       "      <th>total_quantity</th>\n",
       "      <th>price</th>\n",
       "      <th>discount</th>\n",
       "      <th>store_id</th>\n",
       "      <th>staff_id</th>\n",
       "      <th>customer_id</th>\n",
       "    </tr>\n",
       "  </thead>\n",
       "  <tbody>\n",
       "    <tr>\n",
       "      <th>0</th>\n",
       "      <td>1</td>\n",
       "      <td>24/05/2005 22:53</td>\n",
       "      <td>26/05/2005 22:04</td>\n",
       "      <td>3</td>\n",
       "      <td>21</td>\n",
       "      <td>0</td>\n",
       "      <td>1</td>\n",
       "      <td>1</td>\n",
       "      <td>9</td>\n",
       "    </tr>\n",
       "    <tr>\n",
       "      <th>1</th>\n",
       "      <td>2</td>\n",
       "      <td>24/05/2005 22:54</td>\n",
       "      <td>28/05/2005 19:40</td>\n",
       "      <td>1</td>\n",
       "      <td>5</td>\n",
       "      <td>0</td>\n",
       "      <td>1</td>\n",
       "      <td>1</td>\n",
       "      <td>11</td>\n",
       "    </tr>\n",
       "    <tr>\n",
       "      <th>2</th>\n",
       "      <td>3</td>\n",
       "      <td>24/05/2005 23:03</td>\n",
       "      <td>01/06/2005 22:12</td>\n",
       "      <td>1</td>\n",
       "      <td>5</td>\n",
       "      <td>0</td>\n",
       "      <td>1</td>\n",
       "      <td>1</td>\n",
       "      <td>13</td>\n",
       "    </tr>\n",
       "    <tr>\n",
       "      <th>3</th>\n",
       "      <td>4</td>\n",
       "      <td>24/05/2005 23:04</td>\n",
       "      <td>03/06/2005 1:43</td>\n",
       "      <td>2</td>\n",
       "      <td>8</td>\n",
       "      <td>0</td>\n",
       "      <td>1</td>\n",
       "      <td>2</td>\n",
       "      <td>1</td>\n",
       "    </tr>\n",
       "    <tr>\n",
       "      <th>4</th>\n",
       "      <td>5</td>\n",
       "      <td>24/05/2005 23:05</td>\n",
       "      <td>02/06/2005 4:33</td>\n",
       "      <td>1</td>\n",
       "      <td>8</td>\n",
       "      <td>0</td>\n",
       "      <td>1</td>\n",
       "      <td>1</td>\n",
       "      <td>9</td>\n",
       "    </tr>\n",
       "    <tr>\n",
       "      <th>...</th>\n",
       "      <td>...</td>\n",
       "      <td>...</td>\n",
       "      <td>...</td>\n",
       "      <td>...</td>\n",
       "      <td>...</td>\n",
       "      <td>...</td>\n",
       "      <td>...</td>\n",
       "      <td>...</td>\n",
       "      <td>...</td>\n",
       "    </tr>\n",
       "    <tr>\n",
       "      <th>995</th>\n",
       "      <td>996</td>\n",
       "      <td>31/05/2005 0:08</td>\n",
       "      <td>02/06/2005 0:17</td>\n",
       "      <td>3</td>\n",
       "      <td>30</td>\n",
       "      <td>0</td>\n",
       "      <td>1</td>\n",
       "      <td>2</td>\n",
       "      <td>32</td>\n",
       "    </tr>\n",
       "    <tr>\n",
       "      <th>996</th>\n",
       "      <td>997</td>\n",
       "      <td>31/05/2005 0:16</td>\n",
       "      <td>01/06/2005 22:41</td>\n",
       "      <td>1</td>\n",
       "      <td>9</td>\n",
       "      <td>0</td>\n",
       "      <td>1</td>\n",
       "      <td>1</td>\n",
       "      <td>39</td>\n",
       "    </tr>\n",
       "    <tr>\n",
       "      <th>997</th>\n",
       "      <td>998</td>\n",
       "      <td>31/05/2005 0:25</td>\n",
       "      <td>03/06/2005 6:05</td>\n",
       "      <td>3</td>\n",
       "      <td>24</td>\n",
       "      <td>0</td>\n",
       "      <td>1</td>\n",
       "      <td>2</td>\n",
       "      <td>13</td>\n",
       "    </tr>\n",
       "    <tr>\n",
       "      <th>998</th>\n",
       "      <td>999</td>\n",
       "      <td>31/05/2005 0:25</td>\n",
       "      <td>08/06/2005 19:42</td>\n",
       "      <td>1</td>\n",
       "      <td>5</td>\n",
       "      <td>0</td>\n",
       "      <td>1</td>\n",
       "      <td>2</td>\n",
       "      <td>27</td>\n",
       "    </tr>\n",
       "    <tr>\n",
       "      <th>999</th>\n",
       "      <td>1000</td>\n",
       "      <td>31/05/2005 0:46</td>\n",
       "      <td>06/06/2005 6:14</td>\n",
       "      <td>3</td>\n",
       "      <td>9</td>\n",
       "      <td>0</td>\n",
       "      <td>1</td>\n",
       "      <td>2</td>\n",
       "      <td>29</td>\n",
       "    </tr>\n",
       "  </tbody>\n",
       "</table>\n",
       "<p>1000 rows × 9 columns</p>\n",
       "</div>"
      ],
      "text/plain": [
       "     rental_id       rental_date       return_date  total_quantity  price  \\\n",
       "0            1  24/05/2005 22:53  26/05/2005 22:04               3     21   \n",
       "1            2  24/05/2005 22:54  28/05/2005 19:40               1      5   \n",
       "2            3  24/05/2005 23:03  01/06/2005 22:12               1      5   \n",
       "3            4  24/05/2005 23:04   03/06/2005 1:43               2      8   \n",
       "4            5  24/05/2005 23:05   02/06/2005 4:33               1      8   \n",
       "..         ...               ...               ...             ...    ...   \n",
       "995        996   31/05/2005 0:08   02/06/2005 0:17               3     30   \n",
       "996        997   31/05/2005 0:16  01/06/2005 22:41               1      9   \n",
       "997        998   31/05/2005 0:25   03/06/2005 6:05               3     24   \n",
       "998        999   31/05/2005 0:25  08/06/2005 19:42               1      5   \n",
       "999       1000   31/05/2005 0:46   06/06/2005 6:14               3      9   \n",
       "\n",
       "     discount  store_id  staff_id  customer_id  \n",
       "0           0         1         1            9  \n",
       "1           0         1         1           11  \n",
       "2           0         1         1           13  \n",
       "3           0         1         2            1  \n",
       "4           0         1         1            9  \n",
       "..        ...       ...       ...          ...  \n",
       "995         0         1         2           32  \n",
       "996         0         1         1           39  \n",
       "997         0         1         2           13  \n",
       "998         0         1         2           27  \n",
       "999         0         1         2           29  \n",
       "\n",
       "[1000 rows x 9 columns]"
      ]
     },
     "execution_count": 93,
     "metadata": {},
     "output_type": "execute_result"
    }
   ],
   "source": [
    "\"\"\"def generate_random_price(row):\n",
    "    random_number = np.random.randint(3, 12)  # Generar un número aleatorio\n",
    "    return random_number * row['total_quantity']  # Multiplicar por el valor en 'total_quantity'\n",
    "\n",
    "# Aplicar la función a cada fila para llenar la columna 'price'\n",
    "rental['price'] = rental.apply(generate_random_price, axis=1)\n",
    "\n",
    "rental\"\"\""
   ]
  },
  {
   "cell_type": "markdown",
   "id": "11dde6f8-3b21-4ce6-81e5-65c8d6aa338e",
   "metadata": {
    "jp-MarkdownHeadingCollapsed": true
   },
   "source": [
    "## 5. Some extra imports and exports\n",
    "At this point I worked with excel files. It is important to practice too, isn't it? In the end we will end up using it, so..."
   ]
  },
  {
   "cell_type": "code",
   "execution_count": 19,
   "id": "4a88ab54-f986-4fc6-8533-82a182b2ba9f",
   "metadata": {},
   "outputs": [],
   "source": [
    "film = pd.read_csv('../data/3-fill_db/film.csv')"
   ]
  },
  {
   "cell_type": "code",
   "execution_count": 44,
   "id": "5c8530be-f6da-4702-af0c-f2744b791746",
   "metadata": {},
   "outputs": [],
   "source": [
    "film.to_csv('../data/3-fill_db/film.csv', index=False)"
   ]
  },
  {
   "cell_type": "code",
   "execution_count": 70,
   "id": "0c43b076-6c71-4c9b-bac2-9bdb82896dd9",
   "metadata": {},
   "outputs": [],
   "source": [
    "film_has_special_features= pd.read_csv('../data/3-fill_db/film_has_special_features.csv', sep=';')"
   ]
  },
  {
   "cell_type": "code",
   "execution_count": 71,
   "id": "a9189c55-2f6d-4602-aa5f-562f73d5f55a",
   "metadata": {},
   "outputs": [],
   "source": [
    "film_has_special_features.to_csv('../data/3-fill_db/film_has_special_features.csv', index=False)"
   ]
  },
  {
   "cell_type": "code",
   "execution_count": 95,
   "id": "35b0729b-8778-46be-a6fb-3280b628f8a9",
   "metadata": {},
   "outputs": [],
   "source": [
    "film_has_language = pd.read_csv('../data/3-fill_db/film_has_language.csv', sep=';')"
   ]
  },
  {
   "cell_type": "code",
   "execution_count": 96,
   "id": "90a897a4-0aea-40cc-84d6-eed0a63de552",
   "metadata": {},
   "outputs": [],
   "source": [
    "film_has_language.to_csv('../data/3-fill_db/film_has_language.csv', index=False)"
   ]
  },
  {
   "cell_type": "code",
   "execution_count": 73,
   "id": "93080d59-bfd0-43e7-a3cb-6551accbf772",
   "metadata": {},
   "outputs": [],
   "source": [
    "actors= pd.read_csv('../data/3-fill_db/actor.csv', sep=';')"
   ]
  },
  {
   "cell_type": "code",
   "execution_count": 74,
   "id": "9b7de457-873e-4aa6-89a0-748e8ddf67f8",
   "metadata": {},
   "outputs": [],
   "source": [
    "actors.to_csv('../data/3-fill_db/actor.csv', index=False)"
   ]
  },
  {
   "cell_type": "code",
   "execution_count": 13,
   "id": "e9e87267-d77a-4dc1-8937-1e466b77402b",
   "metadata": {},
   "outputs": [],
   "source": [
    "film_has_actors= pd.read_csv('../data/3-fill_db/film_has_actor.csv', sep=';')"
   ]
  },
  {
   "cell_type": "code",
   "execution_count": 14,
   "id": "b49161d0-5c15-46cc-97ae-364d35ac6cc0",
   "metadata": {},
   "outputs": [],
   "source": [
    "film_has_actors.to_csv('../data/3-fill_db/film_has_actor.csv', index=False)"
   ]
  },
  {
   "cell_type": "code",
   "execution_count": 15,
   "id": "f121fcb2-010a-4f01-ae5f-352a8c95ac4e",
   "metadata": {},
   "outputs": [],
   "source": [
    "film_has_special_features= pd.read_csv('../data/3-fill_db/film_has_special_features.csv', sep=';')"
   ]
  },
  {
   "cell_type": "code",
   "execution_count": 12,
   "id": "0b4fcba9-54d6-4fc7-aeca-1dfb6678da7f",
   "metadata": {},
   "outputs": [],
   "source": [
    "film_has_special_features.to_csv('../data/3-fill_db/film_has_special_features.csv', index=False)"
   ]
  },
  {
   "cell_type": "code",
   "execution_count": 97,
   "id": "ac3be56e-26b7-4014-892b-d56dfa449763",
   "metadata": {},
   "outputs": [],
   "source": [
    "rental_detail= pd.read_csv('../data/3-fill_db/rental_detail.csv', sep=';')"
   ]
  },
  {
   "cell_type": "code",
   "execution_count": 98,
   "id": "0441e141-4d88-4254-b2bc-7ada6f07a9ef",
   "metadata": {},
   "outputs": [],
   "source": [
    "rental_detail.to_csv('../data/3-fill_db/rental_detail.csv', index=False)"
   ]
  },
  {
   "cell_type": "code",
   "execution_count": 80,
   "id": "b09ebd06-01c6-468b-a62c-8863dc03a7a4",
   "metadata": {},
   "outputs": [],
   "source": [
    "rental = pd.read_csv('../data/3-fill_db/rental.csv', sep=';')"
   ]
  },
  {
   "cell_type": "code",
   "execution_count": 81,
   "id": "a943bcee-a078-45f0-a2e7-fe9f5a997c66",
   "metadata": {},
   "outputs": [],
   "source": [
    "rental.to_csv('../data/3-fill_db/rental.csv', index=False)"
   ]
  }
 ],
 "metadata": {
  "kernelspec": {
   "display_name": "clase",
   "language": "python",
   "name": "clase"
  },
  "language_info": {
   "codemirror_mode": {
    "name": "ipython",
    "version": 3
   },
   "file_extension": ".py",
   "mimetype": "text/x-python",
   "name": "python",
   "nbconvert_exporter": "python",
   "pygments_lexer": "ipython3",
   "version": "3.10.13"
  }
 },
 "nbformat": 4,
 "nbformat_minor": 5
}
