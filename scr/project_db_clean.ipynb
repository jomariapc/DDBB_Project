{
 "cells": [
  {
   "cell_type": "markdown",
   "id": "8e854e8d-3c8d-46d3-9ee0-c7e4c9e96b7d",
   "metadata": {},
   "source": [
    "# I. Data Cleaning\n",
    "\n",
    "1. [Import libraries and scr.py file](#import-libraries)\n",
    "2. [Import & clean documents](#import-clean-documents)\n",
    "    - 2.1. [actors.csv](#import-actors)\n",
    "    - 2.2. [category.csv](#import-category)\n",
    "    - 2.3. [film.csv](#import-film)\n",
    "    - 2.4. [inventory.csv](#import-inventory)\n",
    "    - 2.5. [language.csv](#import-language)\n",
    "    - 2.6. [old_HDD.csv](#import-old-hdd)\n",
    "    - 2.7. [rental.csv](#import-rental)\n",
    "3. [Export documents](#export-documents)\n"
   ]
  },
  {
   "cell_type": "markdown",
   "id": "3d255e9f-9939-4ed1-bb6b-cb628891aa5d",
   "metadata": {
    "jp-MarkdownHeadingCollapsed": true
   },
   "source": [
    "## 1.Import libraries and scr.py file"
   ]
  },
  {
   "cell_type": "code",
   "execution_count": 348,
   "id": "ba2baab9-beae-4d4f-b921-21a1069cf234",
   "metadata": {},
   "outputs": [],
   "source": [
    "import numpy as np\n",
    "import pandas as pd\n",
    "\n",
    "pd.set_option('display.max_columns', None)"
   ]
  },
  {
   "cell_type": "code",
   "execution_count": 349,
   "id": "cfd70fcd-e4c5-46b4-bc80-834293d5f4fa",
   "metadata": {},
   "outputs": [],
   "source": [
    "import scr as sc #Functions"
   ]
  },
  {
   "cell_type": "code",
   "execution_count": 350,
   "id": "8d1fe003-0498-441e-aded-9278c13a77b4",
   "metadata": {},
   "outputs": [],
   "source": [
    "import pylab as plt  \n",
    "import seaborn as sns\n",
    "\n",
    "%matplotlib inline"
   ]
  },
  {
   "cell_type": "markdown",
   "id": "3ace9cc5-13ee-4031-8585-40259c043748",
   "metadata": {},
   "source": [
    "## 2. Import & clean documents"
   ]
  },
  {
   "cell_type": "markdown",
   "id": "20df2203-8278-4ffc-90b9-e39e6fbf1d9f",
   "metadata": {},
   "source": [
    "### 2.1 actors.csv"
   ]
  },
  {
   "cell_type": "code",
   "execution_count": 351,
   "id": "99ea8378-492f-4b66-8c35-1c703eaa57e6",
   "metadata": {},
   "outputs": [
    {
     "data": {
      "text/html": [
       "<div>\n",
       "<style scoped>\n",
       "    .dataframe tbody tr th:only-of-type {\n",
       "        vertical-align: middle;\n",
       "    }\n",
       "\n",
       "    .dataframe tbody tr th {\n",
       "        vertical-align: top;\n",
       "    }\n",
       "\n",
       "    .dataframe thead th {\n",
       "        text-align: right;\n",
       "    }\n",
       "</style>\n",
       "<table border=\"1\" class=\"dataframe\">\n",
       "  <thead>\n",
       "    <tr style=\"text-align: right;\">\n",
       "      <th></th>\n",
       "      <th>actor_id</th>\n",
       "      <th>first_name</th>\n",
       "      <th>last_name</th>\n",
       "      <th>last_update</th>\n",
       "    </tr>\n",
       "  </thead>\n",
       "  <tbody>\n",
       "    <tr>\n",
       "      <th>0</th>\n",
       "      <td>1</td>\n",
       "      <td>PENELOPE</td>\n",
       "      <td>GUINESS</td>\n",
       "      <td>2006-02-15 04:34:33</td>\n",
       "    </tr>\n",
       "    <tr>\n",
       "      <th>1</th>\n",
       "      <td>2</td>\n",
       "      <td>NICK</td>\n",
       "      <td>WAHLBERG</td>\n",
       "      <td>2006-02-15 04:34:33</td>\n",
       "    </tr>\n",
       "    <tr>\n",
       "      <th>2</th>\n",
       "      <td>3</td>\n",
       "      <td>ED</td>\n",
       "      <td>CHASE</td>\n",
       "      <td>2006-02-15 04:34:33</td>\n",
       "    </tr>\n",
       "    <tr>\n",
       "      <th>3</th>\n",
       "      <td>4</td>\n",
       "      <td>JENNIFER</td>\n",
       "      <td>DAVIS</td>\n",
       "      <td>2006-02-15 04:34:33</td>\n",
       "    </tr>\n",
       "    <tr>\n",
       "      <th>4</th>\n",
       "      <td>5</td>\n",
       "      <td>JOHNNY</td>\n",
       "      <td>LOLLOBRIGIDA</td>\n",
       "      <td>2006-02-15 04:34:33</td>\n",
       "    </tr>\n",
       "  </tbody>\n",
       "</table>\n",
       "</div>"
      ],
      "text/plain": [
       "   actor_id first_name     last_name          last_update\n",
       "0         1   PENELOPE       GUINESS  2006-02-15 04:34:33\n",
       "1         2       NICK      WAHLBERG  2006-02-15 04:34:33\n",
       "2         3         ED         CHASE  2006-02-15 04:34:33\n",
       "3         4   JENNIFER         DAVIS  2006-02-15 04:34:33\n",
       "4         5     JOHNNY  LOLLOBRIGIDA  2006-02-15 04:34:33"
      ]
     },
     "execution_count": 351,
     "metadata": {},
     "output_type": "execute_result"
    }
   ],
   "source": [
    "actors = pd.read_csv('../data/0-raw/actor.csv')\n",
    "actors.head()"
   ]
  },
  {
   "cell_type": "code",
   "execution_count": 352,
   "id": "6574f761-a6a6-4a7b-bf3a-5a0a35832833",
   "metadata": {},
   "outputs": [
    {
     "name": "stdout",
     "output_type": "stream",
     "text": [
      "<class 'pandas.core.frame.DataFrame'>\n",
      "RangeIndex: 200 entries, 0 to 199\n",
      "Data columns (total 4 columns):\n",
      " #   Column       Non-Null Count  Dtype \n",
      "---  ------       --------------  ----- \n",
      " 0   actor_id     200 non-null    int64 \n",
      " 1   first_name   200 non-null    object\n",
      " 2   last_name    200 non-null    object\n",
      " 3   last_update  200 non-null    object\n",
      "dtypes: int64(1), object(3)\n",
      "memory usage: 41.0 KB\n"
     ]
    }
   ],
   "source": [
    "actors.info(memory_usage='deep')"
   ]
  },
  {
   "cell_type": "code",
   "execution_count": 353,
   "id": "d4328230-a396-4c9b-8475-eebf00c029a6",
   "metadata": {},
   "outputs": [
    {
     "data": {
      "text/plain": [
       "(200, 4)"
      ]
     },
     "execution_count": 353,
     "metadata": {},
     "output_type": "execute_result"
    }
   ],
   "source": [
    "actors.shape"
   ]
  },
  {
   "cell_type": "code",
   "execution_count": 354,
   "id": "ddaf59ab-212a-4160-976c-4e52a3775137",
   "metadata": {},
   "outputs": [
    {
     "data": {
      "text/plain": [
       "'N nan cols: 0'"
      ]
     },
     "execution_count": 354,
     "metadata": {},
     "output_type": "execute_result"
    },
    {
     "data": {
      "text/plain": [
       "Series([], dtype: float64)"
      ]
     },
     "execution_count": 354,
     "metadata": {},
     "output_type": "execute_result"
    }
   ],
   "source": [
    "sc.check_nan(actors)"
   ]
  },
  {
   "cell_type": "code",
   "execution_count": 355,
   "id": "25270b7f-75a4-457a-bb91-d2a5d356f179",
   "metadata": {},
   "outputs": [],
   "source": [
    "#Column cleaning function\n",
    "\n",
    "actors= sc.column_unification(actors)"
   ]
  },
  {
   "cell_type": "code",
   "execution_count": 356,
   "id": "1075d9b5-d5f6-4b5d-9236-ca4d86e24eab",
   "metadata": {},
   "outputs": [
    {
     "data": {
      "text/html": [
       "<div>\n",
       "<style scoped>\n",
       "    .dataframe tbody tr th:only-of-type {\n",
       "        vertical-align: middle;\n",
       "    }\n",
       "\n",
       "    .dataframe tbody tr th {\n",
       "        vertical-align: top;\n",
       "    }\n",
       "\n",
       "    .dataframe thead th {\n",
       "        text-align: right;\n",
       "    }\n",
       "</style>\n",
       "<table border=\"1\" class=\"dataframe\">\n",
       "  <thead>\n",
       "    <tr style=\"text-align: right;\">\n",
       "      <th></th>\n",
       "      <th>actor_id</th>\n",
       "      <th>first_name</th>\n",
       "      <th>last_name</th>\n",
       "      <th>last_update</th>\n",
       "    </tr>\n",
       "  </thead>\n",
       "  <tbody>\n",
       "    <tr>\n",
       "      <th>109</th>\n",
       "      <td>110</td>\n",
       "      <td>SUSAN</td>\n",
       "      <td>DAVIS</td>\n",
       "      <td>2006-02-15 04:34:33</td>\n",
       "    </tr>\n",
       "  </tbody>\n",
       "</table>\n",
       "</div>"
      ],
      "text/plain": [
       "     actor_id first_name last_name          last_update\n",
       "109       110      SUSAN     DAVIS  2006-02-15 04:34:33"
      ]
     },
     "execution_count": 356,
     "metadata": {},
     "output_type": "execute_result"
    }
   ],
   "source": [
    "actors[actors.duplicated([\"first_name\",\"last_name\"])]"
   ]
  },
  {
   "cell_type": "code",
   "execution_count": 357,
   "id": "dc5e94c6-a678-4257-b678-cef76b3d10c5",
   "metadata": {},
   "outputs": [],
   "source": [
    "actors.drop(index=109, inplace=True)"
   ]
  },
  {
   "cell_type": "code",
   "execution_count": 358,
   "id": "f4f8f5b5-74c2-4419-9c74-0356f7860ed8",
   "metadata": {},
   "outputs": [
    {
     "data": {
      "text/html": [
       "<div>\n",
       "<style scoped>\n",
       "    .dataframe tbody tr th:only-of-type {\n",
       "        vertical-align: middle;\n",
       "    }\n",
       "\n",
       "    .dataframe tbody tr th {\n",
       "        vertical-align: top;\n",
       "    }\n",
       "\n",
       "    .dataframe thead th {\n",
       "        text-align: right;\n",
       "    }\n",
       "</style>\n",
       "<table border=\"1\" class=\"dataframe\">\n",
       "  <thead>\n",
       "    <tr style=\"text-align: right;\">\n",
       "      <th></th>\n",
       "      <th>actor_id</th>\n",
       "      <th>first_name</th>\n",
       "      <th>last_name</th>\n",
       "      <th>last_update</th>\n",
       "    </tr>\n",
       "  </thead>\n",
       "  <tbody>\n",
       "  </tbody>\n",
       "</table>\n",
       "</div>"
      ],
      "text/plain": [
       "Empty DataFrame\n",
       "Columns: [actor_id, first_name, last_name, last_update]\n",
       "Index: []"
      ]
     },
     "execution_count": 358,
     "metadata": {},
     "output_type": "execute_result"
    }
   ],
   "source": [
    "actors[actors.duplicated(['first_name','last_name'])]"
   ]
  },
  {
   "cell_type": "markdown",
   "id": "397ac08d-2c36-4f92-a121-12ff6d3d2b52",
   "metadata": {},
   "source": [
    "##### \"first_name\" & \"last_name\""
   ]
  },
  {
   "cell_type": "code",
   "execution_count": 359,
   "id": "6b3b9bda-8fba-435e-8f73-09a2ffd42dc3",
   "metadata": {},
   "outputs": [
    {
     "data": {
      "text/html": [
       "<div>\n",
       "<style scoped>\n",
       "    .dataframe tbody tr th:only-of-type {\n",
       "        vertical-align: middle;\n",
       "    }\n",
       "\n",
       "    .dataframe tbody tr th {\n",
       "        vertical-align: top;\n",
       "    }\n",
       "\n",
       "    .dataframe thead th {\n",
       "        text-align: right;\n",
       "    }\n",
       "</style>\n",
       "<table border=\"1\" class=\"dataframe\">\n",
       "  <thead>\n",
       "    <tr style=\"text-align: right;\">\n",
       "      <th></th>\n",
       "      <th>actor_id</th>\n",
       "      <th>first_name</th>\n",
       "      <th>last_name</th>\n",
       "      <th>last_update</th>\n",
       "    </tr>\n",
       "  </thead>\n",
       "  <tbody>\n",
       "    <tr>\n",
       "      <th>0</th>\n",
       "      <td>1</td>\n",
       "      <td>Penelope</td>\n",
       "      <td>Guiness</td>\n",
       "      <td>2006-02-15 04:34:33</td>\n",
       "    </tr>\n",
       "    <tr>\n",
       "      <th>1</th>\n",
       "      <td>2</td>\n",
       "      <td>Nick</td>\n",
       "      <td>Wahlberg</td>\n",
       "      <td>2006-02-15 04:34:33</td>\n",
       "    </tr>\n",
       "    <tr>\n",
       "      <th>2</th>\n",
       "      <td>3</td>\n",
       "      <td>Ed</td>\n",
       "      <td>Chase</td>\n",
       "      <td>2006-02-15 04:34:33</td>\n",
       "    </tr>\n",
       "    <tr>\n",
       "      <th>3</th>\n",
       "      <td>4</td>\n",
       "      <td>Jennifer</td>\n",
       "      <td>Davis</td>\n",
       "      <td>2006-02-15 04:34:33</td>\n",
       "    </tr>\n",
       "    <tr>\n",
       "      <th>4</th>\n",
       "      <td>5</td>\n",
       "      <td>Johnny</td>\n",
       "      <td>Lollobrigida</td>\n",
       "      <td>2006-02-15 04:34:33</td>\n",
       "    </tr>\n",
       "  </tbody>\n",
       "</table>\n",
       "</div>"
      ],
      "text/plain": [
       "   actor_id first_name     last_name          last_update\n",
       "0         1   Penelope       Guiness  2006-02-15 04:34:33\n",
       "1         2       Nick      Wahlberg  2006-02-15 04:34:33\n",
       "2         3         Ed         Chase  2006-02-15 04:34:33\n",
       "3         4   Jennifer         Davis  2006-02-15 04:34:33\n",
       "4         5     Johnny  Lollobrigida  2006-02-15 04:34:33"
      ]
     },
     "execution_count": 359,
     "metadata": {},
     "output_type": "execute_result"
    }
   ],
   "source": [
    "actors['first_name']= actors['first_name'].str.capitalize()\n",
    "\n",
    "actors['last_name']= actors['last_name'].str.capitalize()\n",
    "\n",
    "actors.head()"
   ]
  },
  {
   "cell_type": "markdown",
   "id": "d09c6e33-77cf-4dc6-8053-9fc5fa9ef657",
   "metadata": {},
   "source": [
    "##### \"last_update\""
   ]
  },
  {
   "cell_type": "markdown",
   "id": "4b1e4418-f8f2-4da2-8c5a-1e0dc17c3943",
   "metadata": {},
   "source": [
    "###### Drop  column (constant)"
   ]
  },
  {
   "cell_type": "code",
   "execution_count": 360,
   "id": "d1546d46-83dc-4387-9a0c-eb1d2f72e70c",
   "metadata": {},
   "outputs": [],
   "source": [
    "actors= actors.drop('last_update', axis=1)"
   ]
  },
  {
   "cell_type": "markdown",
   "id": "13f2ef83-14f7-4d37-9b19-589d556ba6f5",
   "metadata": {
    "jp-MarkdownHeadingCollapsed": true
   },
   "source": [
    "### 2.2 category.csv"
   ]
  },
  {
   "cell_type": "code",
   "execution_count": 361,
   "id": "27a33c4e-7a51-4777-bfc5-eb6d6f68931d",
   "metadata": {},
   "outputs": [
    {
     "data": {
      "text/html": [
       "<div>\n",
       "<style scoped>\n",
       "    .dataframe tbody tr th:only-of-type {\n",
       "        vertical-align: middle;\n",
       "    }\n",
       "\n",
       "    .dataframe tbody tr th {\n",
       "        vertical-align: top;\n",
       "    }\n",
       "\n",
       "    .dataframe thead th {\n",
       "        text-align: right;\n",
       "    }\n",
       "</style>\n",
       "<table border=\"1\" class=\"dataframe\">\n",
       "  <thead>\n",
       "    <tr style=\"text-align: right;\">\n",
       "      <th></th>\n",
       "      <th>category_id</th>\n",
       "      <th>name</th>\n",
       "      <th>last_update</th>\n",
       "    </tr>\n",
       "  </thead>\n",
       "  <tbody>\n",
       "    <tr>\n",
       "      <th>0</th>\n",
       "      <td>1</td>\n",
       "      <td>Action</td>\n",
       "      <td>2006-02-15 04:46:27</td>\n",
       "    </tr>\n",
       "    <tr>\n",
       "      <th>1</th>\n",
       "      <td>2</td>\n",
       "      <td>Animation</td>\n",
       "      <td>2006-02-15 04:46:27</td>\n",
       "    </tr>\n",
       "  </tbody>\n",
       "</table>\n",
       "</div>"
      ],
      "text/plain": [
       "   category_id       name          last_update\n",
       "0            1     Action  2006-02-15 04:46:27\n",
       "1            2  Animation  2006-02-15 04:46:27"
      ]
     },
     "execution_count": 361,
     "metadata": {},
     "output_type": "execute_result"
    }
   ],
   "source": [
    "category = pd.read_csv('../data/0-raw/category.csv')\n",
    "category.head(2)"
   ]
  },
  {
   "cell_type": "code",
   "execution_count": 362,
   "id": "17773b4a-6eab-4fa4-b8ec-7c07b9726c1e",
   "metadata": {},
   "outputs": [
    {
     "name": "stdout",
     "output_type": "stream",
     "text": [
      "<class 'pandas.core.frame.DataFrame'>\n",
      "RangeIndex: 16 entries, 0 to 15\n",
      "Data columns (total 3 columns):\n",
      " #   Column       Non-Null Count  Dtype \n",
      "---  ------       --------------  ----- \n",
      " 0   category_id  16 non-null     int64 \n",
      " 1   name         16 non-null     object\n",
      " 2   last_update  16 non-null     object\n",
      "dtypes: int64(1), object(2)\n",
      "memory usage: 2.4 KB\n"
     ]
    }
   ],
   "source": [
    "category.info(memory_usage='deep')"
   ]
  },
  {
   "cell_type": "code",
   "execution_count": 363,
   "id": "ca0b1dc0-221f-4df6-9cf3-785e9ca9a1f7",
   "metadata": {},
   "outputs": [
    {
     "data": {
      "text/plain": [
       "(16, 3)"
      ]
     },
     "execution_count": 363,
     "metadata": {},
     "output_type": "execute_result"
    }
   ],
   "source": [
    "category.shape"
   ]
  },
  {
   "cell_type": "code",
   "execution_count": 364,
   "id": "9c6aed14-cf70-4170-a36a-cea8cbfb9496",
   "metadata": {},
   "outputs": [
    {
     "data": {
      "text/plain": [
       "'N nan cols: 0'"
      ]
     },
     "execution_count": 364,
     "metadata": {},
     "output_type": "execute_result"
    },
    {
     "data": {
      "text/plain": [
       "Series([], dtype: float64)"
      ]
     },
     "execution_count": 364,
     "metadata": {},
     "output_type": "execute_result"
    }
   ],
   "source": [
    "sc.check_nan(category)"
   ]
  },
  {
   "cell_type": "code",
   "execution_count": 365,
   "id": "23848c92-a5f0-494f-b03c-62cb3ca7415f",
   "metadata": {},
   "outputs": [],
   "source": [
    "#Column cleaning function\n",
    "\n",
    "category= sc.column_unification(category)"
   ]
  },
  {
   "cell_type": "code",
   "execution_count": 366,
   "id": "e9c1b886-f02d-4705-90fe-37de7d67e2c0",
   "metadata": {},
   "outputs": [
    {
     "data": {
      "text/html": [
       "<div>\n",
       "<style scoped>\n",
       "    .dataframe tbody tr th:only-of-type {\n",
       "        vertical-align: middle;\n",
       "    }\n",
       "\n",
       "    .dataframe tbody tr th {\n",
       "        vertical-align: top;\n",
       "    }\n",
       "\n",
       "    .dataframe thead th {\n",
       "        text-align: right;\n",
       "    }\n",
       "</style>\n",
       "<table border=\"1\" class=\"dataframe\">\n",
       "  <thead>\n",
       "    <tr style=\"text-align: right;\">\n",
       "      <th></th>\n",
       "      <th>count</th>\n",
       "      <th>unique</th>\n",
       "      <th>top</th>\n",
       "      <th>freq</th>\n",
       "      <th>mean</th>\n",
       "      <th>std</th>\n",
       "      <th>min</th>\n",
       "      <th>25%</th>\n",
       "      <th>50%</th>\n",
       "      <th>75%</th>\n",
       "      <th>max</th>\n",
       "    </tr>\n",
       "  </thead>\n",
       "  <tbody>\n",
       "    <tr>\n",
       "      <th>category_id</th>\n",
       "      <td>16.0</td>\n",
       "      <td>NaN</td>\n",
       "      <td>NaN</td>\n",
       "      <td>NaN</td>\n",
       "      <td>8.5</td>\n",
       "      <td>4.760952</td>\n",
       "      <td>1.0</td>\n",
       "      <td>4.75</td>\n",
       "      <td>8.5</td>\n",
       "      <td>12.25</td>\n",
       "      <td>16.0</td>\n",
       "    </tr>\n",
       "    <tr>\n",
       "      <th>name</th>\n",
       "      <td>16</td>\n",
       "      <td>16</td>\n",
       "      <td>Action</td>\n",
       "      <td>1</td>\n",
       "      <td>NaN</td>\n",
       "      <td>NaN</td>\n",
       "      <td>NaN</td>\n",
       "      <td>NaN</td>\n",
       "      <td>NaN</td>\n",
       "      <td>NaN</td>\n",
       "      <td>NaN</td>\n",
       "    </tr>\n",
       "    <tr>\n",
       "      <th>last_update</th>\n",
       "      <td>16</td>\n",
       "      <td>1</td>\n",
       "      <td>2006-02-15 04:46:27</td>\n",
       "      <td>16</td>\n",
       "      <td>NaN</td>\n",
       "      <td>NaN</td>\n",
       "      <td>NaN</td>\n",
       "      <td>NaN</td>\n",
       "      <td>NaN</td>\n",
       "      <td>NaN</td>\n",
       "      <td>NaN</td>\n",
       "    </tr>\n",
       "  </tbody>\n",
       "</table>\n",
       "</div>"
      ],
      "text/plain": [
       "            count unique                  top freq mean       std  min   25%  \\\n",
       "category_id  16.0    NaN                  NaN  NaN  8.5  4.760952  1.0  4.75   \n",
       "name           16     16               Action    1  NaN       NaN  NaN   NaN   \n",
       "last_update    16      1  2006-02-15 04:46:27   16  NaN       NaN  NaN   NaN   \n",
       "\n",
       "             50%    75%   max  \n",
       "category_id  8.5  12.25  16.0  \n",
       "name         NaN    NaN   NaN  \n",
       "last_update  NaN    NaN   NaN  "
      ]
     },
     "execution_count": 366,
     "metadata": {},
     "output_type": "execute_result"
    }
   ],
   "source": [
    "category.describe(include='all').T"
   ]
  },
  {
   "cell_type": "markdown",
   "id": "e67ed94b-c292-4466-b0f3-0ee8f13df3e3",
   "metadata": {},
   "source": [
    "##### \"name\""
   ]
  },
  {
   "cell_type": "code",
   "execution_count": 367,
   "id": "2b949a11-1ac0-4ec1-b437-76c278a5397e",
   "metadata": {},
   "outputs": [
    {
     "data": {
      "text/plain": [
       "name\n",
       "Action         1\n",
       "Animation      1\n",
       "Children       1\n",
       "Classics       1\n",
       "Comedy         1\n",
       "Documentary    1\n",
       "Drama          1\n",
       "Family         1\n",
       "Foreign        1\n",
       "Games          1\n",
       "Horror         1\n",
       "Music          1\n",
       "New            1\n",
       "Sci-Fi         1\n",
       "Sports         1\n",
       "Travel         1\n",
       "Name: count, dtype: int64"
      ]
     },
     "execution_count": 367,
     "metadata": {},
     "output_type": "execute_result"
    }
   ],
   "source": [
    "category.name.value_counts()"
   ]
  },
  {
   "cell_type": "markdown",
   "id": "e4e274d6-aa87-437a-94be-44d137aa0ec5",
   "metadata": {},
   "source": [
    "##### \"last_update\""
   ]
  },
  {
   "cell_type": "markdown",
   "id": "5424c6c2-8049-4a56-8d85-af22aac492aa",
   "metadata": {},
   "source": [
    "###### Drop  column (constant)"
   ]
  },
  {
   "cell_type": "code",
   "execution_count": 368,
   "id": "27565b91-f3b6-4fce-a386-82db314d3d18",
   "metadata": {},
   "outputs": [],
   "source": [
    "category = category.drop('last_update', axis=1)"
   ]
  },
  {
   "cell_type": "markdown",
   "id": "da4a178d-9e3b-4d80-b87e-9f73f8ee902c",
   "metadata": {
    "jp-MarkdownHeadingCollapsed": true
   },
   "source": [
    "### 2.3 film.csv"
   ]
  },
  {
   "cell_type": "code",
   "execution_count": 369,
   "id": "4e8ab930-35bf-4c58-8dfe-7a8d8bd2c326",
   "metadata": {},
   "outputs": [
    {
     "data": {
      "text/html": [
       "<div>\n",
       "<style scoped>\n",
       "    .dataframe tbody tr th:only-of-type {\n",
       "        vertical-align: middle;\n",
       "    }\n",
       "\n",
       "    .dataframe tbody tr th {\n",
       "        vertical-align: top;\n",
       "    }\n",
       "\n",
       "    .dataframe thead th {\n",
       "        text-align: right;\n",
       "    }\n",
       "</style>\n",
       "<table border=\"1\" class=\"dataframe\">\n",
       "  <thead>\n",
       "    <tr style=\"text-align: right;\">\n",
       "      <th></th>\n",
       "      <th>film_id</th>\n",
       "      <th>title</th>\n",
       "      <th>description</th>\n",
       "      <th>release_year</th>\n",
       "      <th>language_id</th>\n",
       "      <th>original_language_id</th>\n",
       "      <th>rental_duration</th>\n",
       "      <th>rental_rate</th>\n",
       "      <th>length</th>\n",
       "      <th>replacement_cost</th>\n",
       "      <th>rating</th>\n",
       "      <th>special_features</th>\n",
       "      <th>last_update</th>\n",
       "    </tr>\n",
       "  </thead>\n",
       "  <tbody>\n",
       "    <tr>\n",
       "      <th>0</th>\n",
       "      <td>1</td>\n",
       "      <td>ACADEMY DINOSAUR</td>\n",
       "      <td>A Epic Drama of a Feminist And a Mad Scientist...</td>\n",
       "      <td>2006</td>\n",
       "      <td>1</td>\n",
       "      <td>NaN</td>\n",
       "      <td>6</td>\n",
       "      <td>0.99</td>\n",
       "      <td>86</td>\n",
       "      <td>20.99</td>\n",
       "      <td>PG</td>\n",
       "      <td>Deleted Scenes,Behind the Scenes</td>\n",
       "      <td>2006-02-15 05:03:42</td>\n",
       "    </tr>\n",
       "    <tr>\n",
       "      <th>1</th>\n",
       "      <td>2</td>\n",
       "      <td>ACE GOLDFINGER</td>\n",
       "      <td>A Astounding Epistle of a Database Administrat...</td>\n",
       "      <td>2006</td>\n",
       "      <td>1</td>\n",
       "      <td>NaN</td>\n",
       "      <td>3</td>\n",
       "      <td>4.99</td>\n",
       "      <td>48</td>\n",
       "      <td>12.99</td>\n",
       "      <td>G</td>\n",
       "      <td>Trailers,Deleted Scenes</td>\n",
       "      <td>2006-02-15 05:03:42</td>\n",
       "    </tr>\n",
       "  </tbody>\n",
       "</table>\n",
       "</div>"
      ],
      "text/plain": [
       "   film_id             title  \\\n",
       "0        1  ACADEMY DINOSAUR   \n",
       "1        2    ACE GOLDFINGER   \n",
       "\n",
       "                                         description  release_year  \\\n",
       "0  A Epic Drama of a Feminist And a Mad Scientist...          2006   \n",
       "1  A Astounding Epistle of a Database Administrat...          2006   \n",
       "\n",
       "   language_id  original_language_id  rental_duration  rental_rate  length  \\\n",
       "0            1                   NaN                6         0.99      86   \n",
       "1            1                   NaN                3         4.99      48   \n",
       "\n",
       "   replacement_cost rating                  special_features  \\\n",
       "0             20.99     PG  Deleted Scenes,Behind the Scenes   \n",
       "1             12.99      G           Trailers,Deleted Scenes   \n",
       "\n",
       "           last_update  \n",
       "0  2006-02-15 05:03:42  \n",
       "1  2006-02-15 05:03:42  "
      ]
     },
     "execution_count": 369,
     "metadata": {},
     "output_type": "execute_result"
    }
   ],
   "source": [
    "film = pd.read_csv('../data/0-raw/film.csv')\n",
    "film.head(2)"
   ]
  },
  {
   "cell_type": "code",
   "execution_count": 370,
   "id": "27e375a8-2ca0-4789-8142-f121c68d430b",
   "metadata": {},
   "outputs": [
    {
     "name": "stdout",
     "output_type": "stream",
     "text": [
      "<class 'pandas.core.frame.DataFrame'>\n",
      "RangeIndex: 1000 entries, 0 to 999\n",
      "Data columns (total 13 columns):\n",
      " #   Column                Non-Null Count  Dtype  \n",
      "---  ------                --------------  -----  \n",
      " 0   film_id               1000 non-null   int64  \n",
      " 1   title                 1000 non-null   object \n",
      " 2   description           1000 non-null   object \n",
      " 3   release_year          1000 non-null   int64  \n",
      " 4   language_id           1000 non-null   int64  \n",
      " 5   original_language_id  0 non-null      float64\n",
      " 6   rental_duration       1000 non-null   int64  \n",
      " 7   rental_rate           1000 non-null   float64\n",
      " 8   length                1000 non-null   int64  \n",
      " 9   replacement_cost      1000 non-null   float64\n",
      " 10  rating                1000 non-null   object \n",
      " 11  special_features      1000 non-null   object \n",
      " 12  last_update           1000 non-null   object \n",
      "dtypes: float64(3), int64(5), object(5)\n",
      "memory usage: 101.7+ KB\n"
     ]
    }
   ],
   "source": [
    "film.info(memory_usage='all')"
   ]
  },
  {
   "cell_type": "code",
   "execution_count": 371,
   "id": "35fd08a7-41fd-4965-afb7-0fcf519887f5",
   "metadata": {},
   "outputs": [
    {
     "data": {
      "text/plain": [
       "'N nan cols: 1'"
      ]
     },
     "execution_count": 371,
     "metadata": {},
     "output_type": "execute_result"
    },
    {
     "data": {
      "text/plain": [
       "original_language_id    100.0\n",
       "dtype: float64"
      ]
     },
     "execution_count": 371,
     "metadata": {},
     "output_type": "execute_result"
    }
   ],
   "source": [
    "sc.check_nan(film)"
   ]
  },
  {
   "cell_type": "code",
   "execution_count": 372,
   "id": "64f76646-b38e-4190-8750-c65763aef9e1",
   "metadata": {},
   "outputs": [],
   "source": [
    "#Column cleaning function\n",
    "\n",
    "film= sc.column_unification(film)"
   ]
  },
  {
   "cell_type": "code",
   "execution_count": 373,
   "id": "76ba8cbe-cbd4-4719-b307-0f6192715c67",
   "metadata": {},
   "outputs": [
    {
     "data": {
      "text/html": [
       "<div>\n",
       "<style scoped>\n",
       "    .dataframe tbody tr th:only-of-type {\n",
       "        vertical-align: middle;\n",
       "    }\n",
       "\n",
       "    .dataframe tbody tr th {\n",
       "        vertical-align: top;\n",
       "    }\n",
       "\n",
       "    .dataframe thead th {\n",
       "        text-align: right;\n",
       "    }\n",
       "</style>\n",
       "<table border=\"1\" class=\"dataframe\">\n",
       "  <thead>\n",
       "    <tr style=\"text-align: right;\">\n",
       "      <th></th>\n",
       "      <th>count</th>\n",
       "      <th>unique</th>\n",
       "      <th>top</th>\n",
       "      <th>freq</th>\n",
       "      <th>mean</th>\n",
       "      <th>std</th>\n",
       "      <th>min</th>\n",
       "      <th>25%</th>\n",
       "      <th>50%</th>\n",
       "      <th>75%</th>\n",
       "      <th>max</th>\n",
       "    </tr>\n",
       "  </thead>\n",
       "  <tbody>\n",
       "    <tr>\n",
       "      <th>film_id</th>\n",
       "      <td>1000.0</td>\n",
       "      <td>NaN</td>\n",
       "      <td>NaN</td>\n",
       "      <td>NaN</td>\n",
       "      <td>500.5</td>\n",
       "      <td>288.819436</td>\n",
       "      <td>1.0</td>\n",
       "      <td>250.75</td>\n",
       "      <td>500.5</td>\n",
       "      <td>750.25</td>\n",
       "      <td>1000.0</td>\n",
       "    </tr>\n",
       "    <tr>\n",
       "      <th>title</th>\n",
       "      <td>1000</td>\n",
       "      <td>1000</td>\n",
       "      <td>ACADEMY DINOSAUR</td>\n",
       "      <td>1</td>\n",
       "      <td>NaN</td>\n",
       "      <td>NaN</td>\n",
       "      <td>NaN</td>\n",
       "      <td>NaN</td>\n",
       "      <td>NaN</td>\n",
       "      <td>NaN</td>\n",
       "      <td>NaN</td>\n",
       "    </tr>\n",
       "    <tr>\n",
       "      <th>description</th>\n",
       "      <td>1000</td>\n",
       "      <td>1000</td>\n",
       "      <td>A Epic Drama of a Feminist And a Mad Scientist...</td>\n",
       "      <td>1</td>\n",
       "      <td>NaN</td>\n",
       "      <td>NaN</td>\n",
       "      <td>NaN</td>\n",
       "      <td>NaN</td>\n",
       "      <td>NaN</td>\n",
       "      <td>NaN</td>\n",
       "      <td>NaN</td>\n",
       "    </tr>\n",
       "    <tr>\n",
       "      <th>release_year</th>\n",
       "      <td>1000.0</td>\n",
       "      <td>NaN</td>\n",
       "      <td>NaN</td>\n",
       "      <td>NaN</td>\n",
       "      <td>2006.0</td>\n",
       "      <td>0.0</td>\n",
       "      <td>2006.0</td>\n",
       "      <td>2006.0</td>\n",
       "      <td>2006.0</td>\n",
       "      <td>2006.0</td>\n",
       "      <td>2006.0</td>\n",
       "    </tr>\n",
       "    <tr>\n",
       "      <th>language_id</th>\n",
       "      <td>1000.0</td>\n",
       "      <td>NaN</td>\n",
       "      <td>NaN</td>\n",
       "      <td>NaN</td>\n",
       "      <td>1.0</td>\n",
       "      <td>0.0</td>\n",
       "      <td>1.0</td>\n",
       "      <td>1.0</td>\n",
       "      <td>1.0</td>\n",
       "      <td>1.0</td>\n",
       "      <td>1.0</td>\n",
       "    </tr>\n",
       "    <tr>\n",
       "      <th>original_language_id</th>\n",
       "      <td>0.0</td>\n",
       "      <td>NaN</td>\n",
       "      <td>NaN</td>\n",
       "      <td>NaN</td>\n",
       "      <td>NaN</td>\n",
       "      <td>NaN</td>\n",
       "      <td>NaN</td>\n",
       "      <td>NaN</td>\n",
       "      <td>NaN</td>\n",
       "      <td>NaN</td>\n",
       "      <td>NaN</td>\n",
       "    </tr>\n",
       "    <tr>\n",
       "      <th>rental_duration</th>\n",
       "      <td>1000.0</td>\n",
       "      <td>NaN</td>\n",
       "      <td>NaN</td>\n",
       "      <td>NaN</td>\n",
       "      <td>4.985</td>\n",
       "      <td>1.411654</td>\n",
       "      <td>3.0</td>\n",
       "      <td>4.0</td>\n",
       "      <td>5.0</td>\n",
       "      <td>6.0</td>\n",
       "      <td>7.0</td>\n",
       "    </tr>\n",
       "    <tr>\n",
       "      <th>rental_rate</th>\n",
       "      <td>1000.0</td>\n",
       "      <td>NaN</td>\n",
       "      <td>NaN</td>\n",
       "      <td>NaN</td>\n",
       "      <td>2.98</td>\n",
       "      <td>1.646393</td>\n",
       "      <td>0.99</td>\n",
       "      <td>0.99</td>\n",
       "      <td>2.99</td>\n",
       "      <td>4.99</td>\n",
       "      <td>4.99</td>\n",
       "    </tr>\n",
       "    <tr>\n",
       "      <th>length</th>\n",
       "      <td>1000.0</td>\n",
       "      <td>NaN</td>\n",
       "      <td>NaN</td>\n",
       "      <td>NaN</td>\n",
       "      <td>115.272</td>\n",
       "      <td>40.426332</td>\n",
       "      <td>46.0</td>\n",
       "      <td>80.0</td>\n",
       "      <td>114.0</td>\n",
       "      <td>149.25</td>\n",
       "      <td>185.0</td>\n",
       "    </tr>\n",
       "    <tr>\n",
       "      <th>replacement_cost</th>\n",
       "      <td>1000.0</td>\n",
       "      <td>NaN</td>\n",
       "      <td>NaN</td>\n",
       "      <td>NaN</td>\n",
       "      <td>19.984</td>\n",
       "      <td>6.050833</td>\n",
       "      <td>9.99</td>\n",
       "      <td>14.99</td>\n",
       "      <td>19.99</td>\n",
       "      <td>24.99</td>\n",
       "      <td>29.99</td>\n",
       "    </tr>\n",
       "    <tr>\n",
       "      <th>rating</th>\n",
       "      <td>1000</td>\n",
       "      <td>5</td>\n",
       "      <td>PG-13</td>\n",
       "      <td>223</td>\n",
       "      <td>NaN</td>\n",
       "      <td>NaN</td>\n",
       "      <td>NaN</td>\n",
       "      <td>NaN</td>\n",
       "      <td>NaN</td>\n",
       "      <td>NaN</td>\n",
       "      <td>NaN</td>\n",
       "    </tr>\n",
       "    <tr>\n",
       "      <th>special_features</th>\n",
       "      <td>1000</td>\n",
       "      <td>15</td>\n",
       "      <td>Trailers,Commentaries,Behind the Scenes</td>\n",
       "      <td>79</td>\n",
       "      <td>NaN</td>\n",
       "      <td>NaN</td>\n",
       "      <td>NaN</td>\n",
       "      <td>NaN</td>\n",
       "      <td>NaN</td>\n",
       "      <td>NaN</td>\n",
       "      <td>NaN</td>\n",
       "    </tr>\n",
       "    <tr>\n",
       "      <th>last_update</th>\n",
       "      <td>1000</td>\n",
       "      <td>1</td>\n",
       "      <td>2006-02-15 05:03:42</td>\n",
       "      <td>1000</td>\n",
       "      <td>NaN</td>\n",
       "      <td>NaN</td>\n",
       "      <td>NaN</td>\n",
       "      <td>NaN</td>\n",
       "      <td>NaN</td>\n",
       "      <td>NaN</td>\n",
       "      <td>NaN</td>\n",
       "    </tr>\n",
       "  </tbody>\n",
       "</table>\n",
       "</div>"
      ],
      "text/plain": [
       "                       count unique  \\\n",
       "film_id               1000.0    NaN   \n",
       "title                   1000   1000   \n",
       "description             1000   1000   \n",
       "release_year          1000.0    NaN   \n",
       "language_id           1000.0    NaN   \n",
       "original_language_id     0.0    NaN   \n",
       "rental_duration       1000.0    NaN   \n",
       "rental_rate           1000.0    NaN   \n",
       "length                1000.0    NaN   \n",
       "replacement_cost      1000.0    NaN   \n",
       "rating                  1000      5   \n",
       "special_features        1000     15   \n",
       "last_update             1000      1   \n",
       "\n",
       "                                                                    top  freq  \\\n",
       "film_id                                                             NaN   NaN   \n",
       "title                                                  ACADEMY DINOSAUR     1   \n",
       "description           A Epic Drama of a Feminist And a Mad Scientist...     1   \n",
       "release_year                                                        NaN   NaN   \n",
       "language_id                                                         NaN   NaN   \n",
       "original_language_id                                                NaN   NaN   \n",
       "rental_duration                                                     NaN   NaN   \n",
       "rental_rate                                                         NaN   NaN   \n",
       "length                                                              NaN   NaN   \n",
       "replacement_cost                                                    NaN   NaN   \n",
       "rating                                                            PG-13   223   \n",
       "special_features                Trailers,Commentaries,Behind the Scenes    79   \n",
       "last_update                                         2006-02-15 05:03:42  1000   \n",
       "\n",
       "                         mean         std     min     25%     50%     75%  \\\n",
       "film_id                 500.5  288.819436     1.0  250.75   500.5  750.25   \n",
       "title                     NaN         NaN     NaN     NaN     NaN     NaN   \n",
       "description               NaN         NaN     NaN     NaN     NaN     NaN   \n",
       "release_year           2006.0         0.0  2006.0  2006.0  2006.0  2006.0   \n",
       "language_id               1.0         0.0     1.0     1.0     1.0     1.0   \n",
       "original_language_id      NaN         NaN     NaN     NaN     NaN     NaN   \n",
       "rental_duration         4.985    1.411654     3.0     4.0     5.0     6.0   \n",
       "rental_rate              2.98    1.646393    0.99    0.99    2.99    4.99   \n",
       "length                115.272   40.426332    46.0    80.0   114.0  149.25   \n",
       "replacement_cost       19.984    6.050833    9.99   14.99   19.99   24.99   \n",
       "rating                    NaN         NaN     NaN     NaN     NaN     NaN   \n",
       "special_features          NaN         NaN     NaN     NaN     NaN     NaN   \n",
       "last_update               NaN         NaN     NaN     NaN     NaN     NaN   \n",
       "\n",
       "                         max  \n",
       "film_id               1000.0  \n",
       "title                    NaN  \n",
       "description              NaN  \n",
       "release_year          2006.0  \n",
       "language_id              1.0  \n",
       "original_language_id     NaN  \n",
       "rental_duration          7.0  \n",
       "rental_rate             4.99  \n",
       "length                 185.0  \n",
       "replacement_cost       29.99  \n",
       "rating                   NaN  \n",
       "special_features         NaN  \n",
       "last_update              NaN  "
      ]
     },
     "execution_count": 373,
     "metadata": {},
     "output_type": "execute_result"
    }
   ],
   "source": [
    "film.describe(include='all').T"
   ]
  },
  {
   "cell_type": "code",
   "execution_count": 374,
   "id": "d22d3f35-a26d-4176-acba-f863cf58cbef",
   "metadata": {},
   "outputs": [
    {
     "data": {
      "text/plain": [
       "(1000, 13)"
      ]
     },
     "execution_count": 374,
     "metadata": {},
     "output_type": "execute_result"
    }
   ],
   "source": [
    "film.shape"
   ]
  },
  {
   "cell_type": "code",
   "execution_count": 375,
   "id": "00d73e6d-1ae2-4317-8556-2b17dc8113c7",
   "metadata": {},
   "outputs": [
    {
     "data": {
      "text/html": [
       "<div>\n",
       "<style scoped>\n",
       "    .dataframe tbody tr th:only-of-type {\n",
       "        vertical-align: middle;\n",
       "    }\n",
       "\n",
       "    .dataframe tbody tr th {\n",
       "        vertical-align: top;\n",
       "    }\n",
       "\n",
       "    .dataframe thead th {\n",
       "        text-align: right;\n",
       "    }\n",
       "</style>\n",
       "<table border=\"1\" class=\"dataframe\">\n",
       "  <thead>\n",
       "    <tr style=\"text-align: right;\">\n",
       "      <th></th>\n",
       "      <th>film_id</th>\n",
       "      <th>title</th>\n",
       "      <th>description</th>\n",
       "      <th>release_year</th>\n",
       "      <th>language_id</th>\n",
       "      <th>original_language_id</th>\n",
       "      <th>rental_duration</th>\n",
       "      <th>rental_rate</th>\n",
       "      <th>length</th>\n",
       "      <th>replacement_cost</th>\n",
       "      <th>rating</th>\n",
       "      <th>special_features</th>\n",
       "      <th>last_update</th>\n",
       "    </tr>\n",
       "  </thead>\n",
       "  <tbody>\n",
       "  </tbody>\n",
       "</table>\n",
       "</div>"
      ],
      "text/plain": [
       "Empty DataFrame\n",
       "Columns: [film_id, title, description, release_year, language_id, original_language_id, rental_duration, rental_rate, length, replacement_cost, rating, special_features, last_update]\n",
       "Index: []"
      ]
     },
     "execution_count": 375,
     "metadata": {},
     "output_type": "execute_result"
    }
   ],
   "source": [
    "film[film.duplicated(['title'])]"
   ]
  },
  {
   "cell_type": "markdown",
   "id": "d812fd36-a26b-46d1-a5cd-fcc2e4882041",
   "metadata": {},
   "source": [
    "#### \"title\""
   ]
  },
  {
   "cell_type": "code",
   "execution_count": 376,
   "id": "0ae82291-23a3-4584-be9b-1ffee435036f",
   "metadata": {},
   "outputs": [
    {
     "data": {
      "text/html": [
       "<div>\n",
       "<style scoped>\n",
       "    .dataframe tbody tr th:only-of-type {\n",
       "        vertical-align: middle;\n",
       "    }\n",
       "\n",
       "    .dataframe tbody tr th {\n",
       "        vertical-align: top;\n",
       "    }\n",
       "\n",
       "    .dataframe thead th {\n",
       "        text-align: right;\n",
       "    }\n",
       "</style>\n",
       "<table border=\"1\" class=\"dataframe\">\n",
       "  <thead>\n",
       "    <tr style=\"text-align: right;\">\n",
       "      <th></th>\n",
       "      <th>film_id</th>\n",
       "      <th>title</th>\n",
       "      <th>description</th>\n",
       "      <th>release_year</th>\n",
       "      <th>language_id</th>\n",
       "      <th>original_language_id</th>\n",
       "      <th>rental_duration</th>\n",
       "      <th>rental_rate</th>\n",
       "      <th>length</th>\n",
       "      <th>replacement_cost</th>\n",
       "      <th>rating</th>\n",
       "      <th>special_features</th>\n",
       "      <th>last_update</th>\n",
       "    </tr>\n",
       "  </thead>\n",
       "  <tbody>\n",
       "    <tr>\n",
       "      <th>0</th>\n",
       "      <td>1</td>\n",
       "      <td>ACADEMY DINOSAUR</td>\n",
       "      <td>A EPIC DRAMA OF A FEMINIST AND A MAD SCIENTIST...</td>\n",
       "      <td>2006</td>\n",
       "      <td>1</td>\n",
       "      <td>NaN</td>\n",
       "      <td>6</td>\n",
       "      <td>0.99</td>\n",
       "      <td>86</td>\n",
       "      <td>20.99</td>\n",
       "      <td>PG</td>\n",
       "      <td>Deleted Scenes,Behind the Scenes</td>\n",
       "      <td>2006-02-15 05:03:42</td>\n",
       "    </tr>\n",
       "    <tr>\n",
       "      <th>1</th>\n",
       "      <td>2</td>\n",
       "      <td>ACE GOLDFINGER</td>\n",
       "      <td>A ASTOUNDING EPISTLE OF A DATABASE ADMINISTRAT...</td>\n",
       "      <td>2006</td>\n",
       "      <td>1</td>\n",
       "      <td>NaN</td>\n",
       "      <td>3</td>\n",
       "      <td>4.99</td>\n",
       "      <td>48</td>\n",
       "      <td>12.99</td>\n",
       "      <td>G</td>\n",
       "      <td>Trailers,Deleted Scenes</td>\n",
       "      <td>2006-02-15 05:03:42</td>\n",
       "    </tr>\n",
       "    <tr>\n",
       "      <th>2</th>\n",
       "      <td>3</td>\n",
       "      <td>ADAPTATION HOLES</td>\n",
       "      <td>A ASTOUNDING REFLECTION OF A LUMBERJACK AND A ...</td>\n",
       "      <td>2006</td>\n",
       "      <td>1</td>\n",
       "      <td>NaN</td>\n",
       "      <td>7</td>\n",
       "      <td>2.99</td>\n",
       "      <td>50</td>\n",
       "      <td>18.99</td>\n",
       "      <td>NC-17</td>\n",
       "      <td>Trailers,Deleted Scenes</td>\n",
       "      <td>2006-02-15 05:03:42</td>\n",
       "    </tr>\n",
       "    <tr>\n",
       "      <th>3</th>\n",
       "      <td>4</td>\n",
       "      <td>AFFAIR PREJUDICE</td>\n",
       "      <td>A FANCIFUL DOCUMENTARY OF A FRISBEE AND A LUMB...</td>\n",
       "      <td>2006</td>\n",
       "      <td>1</td>\n",
       "      <td>NaN</td>\n",
       "      <td>5</td>\n",
       "      <td>2.99</td>\n",
       "      <td>117</td>\n",
       "      <td>26.99</td>\n",
       "      <td>G</td>\n",
       "      <td>Commentaries,Behind the Scenes</td>\n",
       "      <td>2006-02-15 05:03:42</td>\n",
       "    </tr>\n",
       "    <tr>\n",
       "      <th>4</th>\n",
       "      <td>5</td>\n",
       "      <td>AFRICAN EGG</td>\n",
       "      <td>A FAST-PACED DOCUMENTARY OF A PASTRY CHEF AND ...</td>\n",
       "      <td>2006</td>\n",
       "      <td>1</td>\n",
       "      <td>NaN</td>\n",
       "      <td>6</td>\n",
       "      <td>2.99</td>\n",
       "      <td>130</td>\n",
       "      <td>22.99</td>\n",
       "      <td>G</td>\n",
       "      <td>Deleted Scenes</td>\n",
       "      <td>2006-02-15 05:03:42</td>\n",
       "    </tr>\n",
       "  </tbody>\n",
       "</table>\n",
       "</div>"
      ],
      "text/plain": [
       "   film_id             title  \\\n",
       "0        1  ACADEMY DINOSAUR   \n",
       "1        2    ACE GOLDFINGER   \n",
       "2        3  ADAPTATION HOLES   \n",
       "3        4  AFFAIR PREJUDICE   \n",
       "4        5       AFRICAN EGG   \n",
       "\n",
       "                                         description  release_year  \\\n",
       "0  A EPIC DRAMA OF A FEMINIST AND A MAD SCIENTIST...          2006   \n",
       "1  A ASTOUNDING EPISTLE OF A DATABASE ADMINISTRAT...          2006   \n",
       "2  A ASTOUNDING REFLECTION OF A LUMBERJACK AND A ...          2006   \n",
       "3  A FANCIFUL DOCUMENTARY OF A FRISBEE AND A LUMB...          2006   \n",
       "4  A FAST-PACED DOCUMENTARY OF A PASTRY CHEF AND ...          2006   \n",
       "\n",
       "   language_id  original_language_id  rental_duration  rental_rate  length  \\\n",
       "0            1                   NaN                6         0.99      86   \n",
       "1            1                   NaN                3         4.99      48   \n",
       "2            1                   NaN                7         2.99      50   \n",
       "3            1                   NaN                5         2.99     117   \n",
       "4            1                   NaN                6         2.99     130   \n",
       "\n",
       "   replacement_cost rating                  special_features  \\\n",
       "0             20.99     PG  Deleted Scenes,Behind the Scenes   \n",
       "1             12.99      G           Trailers,Deleted Scenes   \n",
       "2             18.99  NC-17           Trailers,Deleted Scenes   \n",
       "3             26.99      G    Commentaries,Behind the Scenes   \n",
       "4             22.99      G                    Deleted Scenes   \n",
       "\n",
       "           last_update  \n",
       "0  2006-02-15 05:03:42  \n",
       "1  2006-02-15 05:03:42  \n",
       "2  2006-02-15 05:03:42  \n",
       "3  2006-02-15 05:03:42  \n",
       "4  2006-02-15 05:03:42  "
      ]
     },
     "execution_count": 376,
     "metadata": {},
     "output_type": "execute_result"
    }
   ],
   "source": [
    "film.title= film.title.str.upper()\n",
    "\n",
    "film.description= film.description.str.upper()\n",
    "\n",
    "film.head()"
   ]
  },
  {
   "cell_type": "markdown",
   "id": "2b553343-7193-4f89-9ab9-0e4292f60121",
   "metadata": {},
   "source": [
    "##### \"original_language_id\""
   ]
  },
  {
   "cell_type": "markdown",
   "id": "74f99dfa-e734-4a38-810d-88123b46df7a",
   "metadata": {},
   "source": [
    "###### Replace null by 0 to film.original_language_id "
   ]
  },
  {
   "cell_type": "code",
   "execution_count": 377,
   "id": "aecb58d9-8706-4686-aadc-4dea7fe2e0fc",
   "metadata": {},
   "outputs": [
    {
     "data": {
      "text/plain": [
       "original_language_id\n",
       "0    1000\n",
       "Name: count, dtype: int64"
      ]
     },
     "execution_count": 377,
     "metadata": {},
     "output_type": "execute_result"
    }
   ],
   "source": [
    "film.original_language_id=0\n",
    "\n",
    "film.original_language_id.value_counts()"
   ]
  },
  {
   "cell_type": "markdown",
   "id": "91f81ea6-774d-4962-895a-dc3776e8b085",
   "metadata": {},
   "source": [
    "##### \"last_update\""
   ]
  },
  {
   "cell_type": "markdown",
   "id": "e173a477-f1c4-4e43-b719-a93f24460ca8",
   "metadata": {},
   "source": [
    "###### Drop  column (constant)"
   ]
  },
  {
   "cell_type": "code",
   "execution_count": 378,
   "id": "6ab336a4-28b7-4665-8afc-9af8fa837058",
   "metadata": {},
   "outputs": [],
   "source": [
    "film= film.drop('last_update', axis=1)"
   ]
  },
  {
   "cell_type": "markdown",
   "id": "f6781957-f835-47f1-a565-6719b127a687",
   "metadata": {
    "jp-MarkdownHeadingCollapsed": true
   },
   "source": [
    "### 2.4 inventory.csv"
   ]
  },
  {
   "cell_type": "code",
   "execution_count": 379,
   "id": "39e1ba99-6f0f-4941-a31a-131dd594226a",
   "metadata": {},
   "outputs": [
    {
     "data": {
      "text/html": [
       "<div>\n",
       "<style scoped>\n",
       "    .dataframe tbody tr th:only-of-type {\n",
       "        vertical-align: middle;\n",
       "    }\n",
       "\n",
       "    .dataframe tbody tr th {\n",
       "        vertical-align: top;\n",
       "    }\n",
       "\n",
       "    .dataframe thead th {\n",
       "        text-align: right;\n",
       "    }\n",
       "</style>\n",
       "<table border=\"1\" class=\"dataframe\">\n",
       "  <thead>\n",
       "    <tr style=\"text-align: right;\">\n",
       "      <th></th>\n",
       "      <th>inventory_id</th>\n",
       "      <th>film_id</th>\n",
       "      <th>store_id</th>\n",
       "      <th>last_update</th>\n",
       "    </tr>\n",
       "  </thead>\n",
       "  <tbody>\n",
       "    <tr>\n",
       "      <th>0</th>\n",
       "      <td>1</td>\n",
       "      <td>1</td>\n",
       "      <td>1</td>\n",
       "      <td>2006-02-15 05:09:17</td>\n",
       "    </tr>\n",
       "    <tr>\n",
       "      <th>1</th>\n",
       "      <td>2</td>\n",
       "      <td>1</td>\n",
       "      <td>1</td>\n",
       "      <td>2006-02-15 05:09:17</td>\n",
       "    </tr>\n",
       "    <tr>\n",
       "      <th>2</th>\n",
       "      <td>3</td>\n",
       "      <td>1</td>\n",
       "      <td>1</td>\n",
       "      <td>2006-02-15 05:09:17</td>\n",
       "    </tr>\n",
       "    <tr>\n",
       "      <th>3</th>\n",
       "      <td>4</td>\n",
       "      <td>1</td>\n",
       "      <td>1</td>\n",
       "      <td>2006-02-15 05:09:17</td>\n",
       "    </tr>\n",
       "    <tr>\n",
       "      <th>4</th>\n",
       "      <td>5</td>\n",
       "      <td>1</td>\n",
       "      <td>2</td>\n",
       "      <td>2006-02-15 05:09:17</td>\n",
       "    </tr>\n",
       "  </tbody>\n",
       "</table>\n",
       "</div>"
      ],
      "text/plain": [
       "   inventory_id  film_id  store_id          last_update\n",
       "0             1        1         1  2006-02-15 05:09:17\n",
       "1             2        1         1  2006-02-15 05:09:17\n",
       "2             3        1         1  2006-02-15 05:09:17\n",
       "3             4        1         1  2006-02-15 05:09:17\n",
       "4             5        1         2  2006-02-15 05:09:17"
      ]
     },
     "execution_count": 379,
     "metadata": {},
     "output_type": "execute_result"
    }
   ],
   "source": [
    "inventory = pd.read_csv('../data/0-raw/inventory.csv')\n",
    "inventory.head()"
   ]
  },
  {
   "cell_type": "code",
   "execution_count": 380,
   "id": "016047a9-99ba-4549-9b57-9727bf630b3c",
   "metadata": {},
   "outputs": [
    {
     "name": "stdout",
     "output_type": "stream",
     "text": [
      "<class 'pandas.core.frame.DataFrame'>\n",
      "RangeIndex: 1000 entries, 0 to 999\n",
      "Data columns (total 4 columns):\n",
      " #   Column        Non-Null Count  Dtype \n",
      "---  ------        --------------  ----- \n",
      " 0   inventory_id  1000 non-null   int64 \n",
      " 1   film_id       1000 non-null   int64 \n",
      " 2   store_id      1000 non-null   int64 \n",
      " 3   last_update   1000 non-null   object\n",
      "dtypes: int64(3), object(1)\n",
      "memory usage: 97.8 KB\n"
     ]
    }
   ],
   "source": [
    "inventory.info(memory_usage='deep')"
   ]
  },
  {
   "cell_type": "code",
   "execution_count": 381,
   "id": "537bbad1-692c-4927-8ba2-35df962e74d8",
   "metadata": {},
   "outputs": [
    {
     "data": {
      "text/plain": [
       "(1000, 4)"
      ]
     },
     "execution_count": 381,
     "metadata": {},
     "output_type": "execute_result"
    }
   ],
   "source": [
    "inventory.shape"
   ]
  },
  {
   "cell_type": "code",
   "execution_count": 382,
   "id": "bef7ff46-5128-46a8-995d-6847c930fc7f",
   "metadata": {},
   "outputs": [
    {
     "data": {
      "text/plain": [
       "'N nan cols: 0'"
      ]
     },
     "execution_count": 382,
     "metadata": {},
     "output_type": "execute_result"
    },
    {
     "data": {
      "text/plain": [
       "Series([], dtype: float64)"
      ]
     },
     "execution_count": 382,
     "metadata": {},
     "output_type": "execute_result"
    }
   ],
   "source": [
    "sc.check_nan(inventory)"
   ]
  },
  {
   "cell_type": "code",
   "execution_count": 383,
   "id": "de8b2f39-0a41-49ab-b0bc-1f4c70712f09",
   "metadata": {},
   "outputs": [],
   "source": [
    "#Column cleaning function\n",
    "\n",
    "inventory= sc.column_unification(inventory)"
   ]
  },
  {
   "cell_type": "code",
   "execution_count": 384,
   "id": "c59b735d-d4e9-4801-bc3b-775ea425b51b",
   "metadata": {},
   "outputs": [
    {
     "data": {
      "text/html": [
       "<div>\n",
       "<style scoped>\n",
       "    .dataframe tbody tr th:only-of-type {\n",
       "        vertical-align: middle;\n",
       "    }\n",
       "\n",
       "    .dataframe tbody tr th {\n",
       "        vertical-align: top;\n",
       "    }\n",
       "\n",
       "    .dataframe thead th {\n",
       "        text-align: right;\n",
       "    }\n",
       "</style>\n",
       "<table border=\"1\" class=\"dataframe\">\n",
       "  <thead>\n",
       "    <tr style=\"text-align: right;\">\n",
       "      <th></th>\n",
       "      <th>count</th>\n",
       "      <th>unique</th>\n",
       "      <th>top</th>\n",
       "      <th>freq</th>\n",
       "      <th>mean</th>\n",
       "      <th>std</th>\n",
       "      <th>min</th>\n",
       "      <th>25%</th>\n",
       "      <th>50%</th>\n",
       "      <th>75%</th>\n",
       "      <th>max</th>\n",
       "    </tr>\n",
       "  </thead>\n",
       "  <tbody>\n",
       "    <tr>\n",
       "      <th>inventory_id</th>\n",
       "      <td>1000.0</td>\n",
       "      <td>NaN</td>\n",
       "      <td>NaN</td>\n",
       "      <td>NaN</td>\n",
       "      <td>500.5</td>\n",
       "      <td>288.819436</td>\n",
       "      <td>1.0</td>\n",
       "      <td>250.75</td>\n",
       "      <td>500.5</td>\n",
       "      <td>750.25</td>\n",
       "      <td>1000.0</td>\n",
       "    </tr>\n",
       "    <tr>\n",
       "      <th>film_id</th>\n",
       "      <td>1000.0</td>\n",
       "      <td>NaN</td>\n",
       "      <td>NaN</td>\n",
       "      <td>NaN</td>\n",
       "      <td>109.866</td>\n",
       "      <td>63.862042</td>\n",
       "      <td>1.0</td>\n",
       "      <td>56.0</td>\n",
       "      <td>111.5</td>\n",
       "      <td>164.0</td>\n",
       "      <td>223.0</td>\n",
       "    </tr>\n",
       "    <tr>\n",
       "      <th>store_id</th>\n",
       "      <td>1000.0</td>\n",
       "      <td>NaN</td>\n",
       "      <td>NaN</td>\n",
       "      <td>NaN</td>\n",
       "      <td>1.497</td>\n",
       "      <td>0.500241</td>\n",
       "      <td>1.0</td>\n",
       "      <td>1.0</td>\n",
       "      <td>1.0</td>\n",
       "      <td>2.0</td>\n",
       "      <td>2.0</td>\n",
       "    </tr>\n",
       "    <tr>\n",
       "      <th>last_update</th>\n",
       "      <td>1000</td>\n",
       "      <td>1</td>\n",
       "      <td>2006-02-15 05:09:17</td>\n",
       "      <td>1000</td>\n",
       "      <td>NaN</td>\n",
       "      <td>NaN</td>\n",
       "      <td>NaN</td>\n",
       "      <td>NaN</td>\n",
       "      <td>NaN</td>\n",
       "      <td>NaN</td>\n",
       "      <td>NaN</td>\n",
       "    </tr>\n",
       "  </tbody>\n",
       "</table>\n",
       "</div>"
      ],
      "text/plain": [
       "               count unique                  top  freq     mean         std  \\\n",
       "inventory_id  1000.0    NaN                  NaN   NaN    500.5  288.819436   \n",
       "film_id       1000.0    NaN                  NaN   NaN  109.866   63.862042   \n",
       "store_id      1000.0    NaN                  NaN   NaN    1.497    0.500241   \n",
       "last_update     1000      1  2006-02-15 05:09:17  1000      NaN         NaN   \n",
       "\n",
       "              min     25%    50%     75%     max  \n",
       "inventory_id  1.0  250.75  500.5  750.25  1000.0  \n",
       "film_id       1.0    56.0  111.5   164.0   223.0  \n",
       "store_id      1.0     1.0    1.0     2.0     2.0  \n",
       "last_update   NaN     NaN    NaN     NaN     NaN  "
      ]
     },
     "execution_count": 384,
     "metadata": {},
     "output_type": "execute_result"
    }
   ],
   "source": [
    "inventory.describe(include='all').T"
   ]
  },
  {
   "cell_type": "code",
   "execution_count": 385,
   "id": "d01306f0-e4a0-45ad-aad1-58d84125b58e",
   "metadata": {},
   "outputs": [
    {
     "data": {
      "text/plain": [
       "False"
      ]
     },
     "execution_count": 385,
     "metadata": {},
     "output_type": "execute_result"
    }
   ],
   "source": [
    "inventory.duplicated().any()"
   ]
  },
  {
   "cell_type": "markdown",
   "id": "34a0a4c5-5668-493b-8f15-39bc23bfced5",
   "metadata": {},
   "source": [
    "##### \"last_update\""
   ]
  },
  {
   "cell_type": "code",
   "execution_count": 386,
   "id": "132d3731-9cb8-422d-bb35-bef1be9abe0a",
   "metadata": {},
   "outputs": [
    {
     "data": {
      "text/plain": [
       "last_update\n",
       "2006-02-15 05:09:17    1000\n",
       "Name: count, dtype: int64"
      ]
     },
     "execution_count": 386,
     "metadata": {},
     "output_type": "execute_result"
    }
   ],
   "source": [
    "inventory.last_update.value_counts()"
   ]
  },
  {
   "cell_type": "markdown",
   "id": "335a35f9-fbe5-4bb1-8e51-1d8c6c667a4b",
   "metadata": {},
   "source": [
    "###### Drop  column (constant)"
   ]
  },
  {
   "cell_type": "code",
   "execution_count": 387,
   "id": "f9574eda-7431-412d-b42b-d605a5c29060",
   "metadata": {},
   "outputs": [],
   "source": [
    "inventory= inventory.drop('last_update', axis=1)"
   ]
  },
  {
   "cell_type": "markdown",
   "id": "d4041316-2c92-49bf-9b26-c618b199ae0c",
   "metadata": {},
   "source": [
    "##### \"store_id\""
   ]
  },
  {
   "cell_type": "code",
   "execution_count": 388,
   "id": "2cf62f61-0a95-405c-84ea-d0d6f2fa694e",
   "metadata": {},
   "outputs": [
    {
     "data": {
      "text/plain": [
       "store_id\n",
       "1    503\n",
       "2    497\n",
       "Name: count, dtype: int64"
      ]
     },
     "execution_count": 388,
     "metadata": {},
     "output_type": "execute_result"
    }
   ],
   "source": [
    "inventory.store_id.value_counts()"
   ]
  },
  {
   "cell_type": "code",
   "execution_count": 389,
   "id": "5ef7ecfb-87ed-44d2-9a1c-876412c7d5d0",
   "metadata": {},
   "outputs": [
    {
     "data": {
      "text/html": [
       "<div>\n",
       "<style scoped>\n",
       "    .dataframe tbody tr th:only-of-type {\n",
       "        vertical-align: middle;\n",
       "    }\n",
       "\n",
       "    .dataframe tbody tr th {\n",
       "        vertical-align: top;\n",
       "    }\n",
       "\n",
       "    .dataframe thead th {\n",
       "        text-align: right;\n",
       "    }\n",
       "</style>\n",
       "<table border=\"1\" class=\"dataframe\">\n",
       "  <thead>\n",
       "    <tr style=\"text-align: right;\">\n",
       "      <th></th>\n",
       "      <th>inventory_id</th>\n",
       "      <th>film_id</th>\n",
       "      <th>store_id</th>\n",
       "    </tr>\n",
       "  </thead>\n",
       "  <tbody>\n",
       "  </tbody>\n",
       "</table>\n",
       "</div>"
      ],
      "text/plain": [
       "Empty DataFrame\n",
       "Columns: [inventory_id, film_id, store_id]\n",
       "Index: []"
      ]
     },
     "execution_count": 389,
     "metadata": {},
     "output_type": "execute_result"
    }
   ],
   "source": [
    "inventory[inventory.duplicated()]"
   ]
  },
  {
   "cell_type": "code",
   "execution_count": 390,
   "id": "d41a1245-89aa-43ed-8aaf-9c72ea31eeb8",
   "metadata": {},
   "outputs": [
    {
     "data": {
      "text/plain": [
       "inventory_id    int64\n",
       "film_id         int64\n",
       "store_id        int64\n",
       "dtype: object"
      ]
     },
     "execution_count": 390,
     "metadata": {},
     "output_type": "execute_result"
    }
   ],
   "source": [
    "inventory.dtypes"
   ]
  },
  {
   "cell_type": "markdown",
   "id": "33e85b90-4668-41be-9ead-25a3a23f1271",
   "metadata": {},
   "source": [
    "### 2.5 language.csv"
   ]
  },
  {
   "cell_type": "code",
   "execution_count": 391,
   "id": "ec1bf4b6-c30a-4b79-ad52-79d658173d65",
   "metadata": {},
   "outputs": [
    {
     "data": {
      "text/html": [
       "<div>\n",
       "<style scoped>\n",
       "    .dataframe tbody tr th:only-of-type {\n",
       "        vertical-align: middle;\n",
       "    }\n",
       "\n",
       "    .dataframe tbody tr th {\n",
       "        vertical-align: top;\n",
       "    }\n",
       "\n",
       "    .dataframe thead th {\n",
       "        text-align: right;\n",
       "    }\n",
       "</style>\n",
       "<table border=\"1\" class=\"dataframe\">\n",
       "  <thead>\n",
       "    <tr style=\"text-align: right;\">\n",
       "      <th></th>\n",
       "      <th>language_id</th>\n",
       "      <th>name</th>\n",
       "      <th>last_update</th>\n",
       "    </tr>\n",
       "  </thead>\n",
       "  <tbody>\n",
       "    <tr>\n",
       "      <th>0</th>\n",
       "      <td>1</td>\n",
       "      <td>English</td>\n",
       "      <td>2006-02-15 05:02:19</td>\n",
       "    </tr>\n",
       "    <tr>\n",
       "      <th>1</th>\n",
       "      <td>2</td>\n",
       "      <td>Italian</td>\n",
       "      <td>2006-02-15 05:02:19</td>\n",
       "    </tr>\n",
       "  </tbody>\n",
       "</table>\n",
       "</div>"
      ],
      "text/plain": [
       "   language_id     name          last_update\n",
       "0            1  English  2006-02-15 05:02:19\n",
       "1            2  Italian  2006-02-15 05:02:19"
      ]
     },
     "execution_count": 391,
     "metadata": {},
     "output_type": "execute_result"
    }
   ],
   "source": [
    "language = pd.read_csv('../data/0-raw/language.csv')\n",
    "language.head(2)"
   ]
  },
  {
   "cell_type": "code",
   "execution_count": 392,
   "id": "d79cc74f-df75-4919-a1d9-f893df092781",
   "metadata": {},
   "outputs": [
    {
     "data": {
      "text/plain": [
       "(6, 3)"
      ]
     },
     "execution_count": 392,
     "metadata": {},
     "output_type": "execute_result"
    }
   ],
   "source": [
    "language.shape"
   ]
  },
  {
   "cell_type": "code",
   "execution_count": 393,
   "id": "6c7967b9-cabf-4c4e-9701-277a40f8429c",
   "metadata": {},
   "outputs": [
    {
     "data": {
      "text/plain": [
       "'N nan cols: 0'"
      ]
     },
     "execution_count": 393,
     "metadata": {},
     "output_type": "execute_result"
    },
    {
     "data": {
      "text/plain": [
       "Series([], dtype: float64)"
      ]
     },
     "execution_count": 393,
     "metadata": {},
     "output_type": "execute_result"
    }
   ],
   "source": [
    "sc.check_nan(language)"
   ]
  },
  {
   "cell_type": "code",
   "execution_count": 394,
   "id": "91bc5b56-9285-4c22-8f34-34a2dc55b21a",
   "metadata": {},
   "outputs": [],
   "source": [
    "#Column cleaning function\n",
    "\n",
    "language= sc.column_unification(language)"
   ]
  },
  {
   "cell_type": "code",
   "execution_count": 395,
   "id": "9365929c-3ced-443c-b371-46bc1455ed1c",
   "metadata": {},
   "outputs": [
    {
     "name": "stdout",
     "output_type": "stream",
     "text": [
      "<class 'pandas.core.frame.DataFrame'>\n",
      "RangeIndex: 6 entries, 0 to 5\n",
      "Data columns (total 3 columns):\n",
      " #   Column       Non-Null Count  Dtype \n",
      "---  ------       --------------  ----- \n",
      " 0   language_id  6 non-null      int64 \n",
      " 1   name         6 non-null      object\n",
      " 2   last_update  6 non-null      object\n",
      "dtypes: int64(1), object(2)\n",
      "memory usage: 272.0+ bytes\n"
     ]
    }
   ],
   "source": [
    "language.info(memory_usage='all')"
   ]
  },
  {
   "cell_type": "code",
   "execution_count": 396,
   "id": "9fad41ea-0e4e-47e0-90a1-44136fc71125",
   "metadata": {},
   "outputs": [
    {
     "data": {
      "text/html": [
       "<div>\n",
       "<style scoped>\n",
       "    .dataframe tbody tr th:only-of-type {\n",
       "        vertical-align: middle;\n",
       "    }\n",
       "\n",
       "    .dataframe tbody tr th {\n",
       "        vertical-align: top;\n",
       "    }\n",
       "\n",
       "    .dataframe thead th {\n",
       "        text-align: right;\n",
       "    }\n",
       "</style>\n",
       "<table border=\"1\" class=\"dataframe\">\n",
       "  <thead>\n",
       "    <tr style=\"text-align: right;\">\n",
       "      <th></th>\n",
       "      <th>language_id</th>\n",
       "      <th>name</th>\n",
       "      <th>last_update</th>\n",
       "    </tr>\n",
       "  </thead>\n",
       "  <tbody>\n",
       "  </tbody>\n",
       "</table>\n",
       "</div>"
      ],
      "text/plain": [
       "Empty DataFrame\n",
       "Columns: [language_id, name, last_update]\n",
       "Index: []"
      ]
     },
     "execution_count": 396,
     "metadata": {},
     "output_type": "execute_result"
    }
   ],
   "source": [
    "language[language.duplicated(['name'])]"
   ]
  },
  {
   "cell_type": "markdown",
   "id": "f40ffeae-9913-4bfa-8036-10bbedea4697",
   "metadata": {},
   "source": [
    "##### \"last_update\""
   ]
  },
  {
   "cell_type": "markdown",
   "id": "eb0034d2-2505-4745-b4aa-3a148368bf02",
   "metadata": {},
   "source": [
    "###### Drop  column (constant)"
   ]
  },
  {
   "cell_type": "code",
   "execution_count": 397,
   "id": "7ae8cdec-4180-419e-afe5-6d42749da083",
   "metadata": {},
   "outputs": [],
   "source": [
    "language= language.drop('last_update', axis=1)"
   ]
  },
  {
   "cell_type": "markdown",
   "id": "1eb054f7-2240-4de5-aa8b-835551e0a9f4",
   "metadata": {},
   "source": [
    "### 2.6 old_HDD.csv"
   ]
  },
  {
   "cell_type": "code",
   "execution_count": 398,
   "id": "c69f373e-8eb5-43d7-949b-ff6075aeec00",
   "metadata": {},
   "outputs": [
    {
     "data": {
      "text/html": [
       "<div>\n",
       "<style scoped>\n",
       "    .dataframe tbody tr th:only-of-type {\n",
       "        vertical-align: middle;\n",
       "    }\n",
       "\n",
       "    .dataframe tbody tr th {\n",
       "        vertical-align: top;\n",
       "    }\n",
       "\n",
       "    .dataframe thead th {\n",
       "        text-align: right;\n",
       "    }\n",
       "</style>\n",
       "<table border=\"1\" class=\"dataframe\">\n",
       "  <thead>\n",
       "    <tr style=\"text-align: right;\">\n",
       "      <th></th>\n",
       "      <th>first_name</th>\n",
       "      <th>last_name</th>\n",
       "      <th>title</th>\n",
       "      <th>release_year</th>\n",
       "      <th>category_id</th>\n",
       "    </tr>\n",
       "  </thead>\n",
       "  <tbody>\n",
       "    <tr>\n",
       "      <th>0</th>\n",
       "      <td>PENELOPE</td>\n",
       "      <td>GUINESS</td>\n",
       "      <td>ACADEMY DINOSAUR</td>\n",
       "      <td>2006</td>\n",
       "      <td>6</td>\n",
       "    </tr>\n",
       "    <tr>\n",
       "      <th>1</th>\n",
       "      <td>PENELOPE</td>\n",
       "      <td>GUINESS</td>\n",
       "      <td>ANACONDA CONFESSIONS</td>\n",
       "      <td>2006</td>\n",
       "      <td>2</td>\n",
       "    </tr>\n",
       "  </tbody>\n",
       "</table>\n",
       "</div>"
      ],
      "text/plain": [
       "  first_name last_name                 title  release_year  category_id\n",
       "0   PENELOPE   GUINESS      ACADEMY DINOSAUR          2006            6\n",
       "1   PENELOPE   GUINESS  ANACONDA CONFESSIONS          2006            2"
      ]
     },
     "execution_count": 398,
     "metadata": {},
     "output_type": "execute_result"
    }
   ],
   "source": [
    "old_HDD = pd.read_csv('../data/0-raw/old_HDD.csv')\n",
    "old_HDD.head(2)"
   ]
  },
  {
   "cell_type": "code",
   "execution_count": 399,
   "id": "1e09ecf0-3534-461a-b488-99ff17812661",
   "metadata": {},
   "outputs": [
    {
     "name": "stdout",
     "output_type": "stream",
     "text": [
      "<class 'pandas.core.frame.DataFrame'>\n",
      "RangeIndex: 1000 entries, 0 to 999\n",
      "Data columns (total 5 columns):\n",
      " #   Column        Non-Null Count  Dtype \n",
      "---  ------        --------------  ----- \n",
      " 0   first_name    1000 non-null   object\n",
      " 1   last_name     1000 non-null   object\n",
      " 2   title         1000 non-null   object\n",
      " 3   release_year  1000 non-null   int64 \n",
      " 4   category_id   1000 non-null   int64 \n",
      "dtypes: int64(2), object(3)\n",
      "memory usage: 207.6 KB\n"
     ]
    }
   ],
   "source": [
    "old_HDD.info(memory_usage='deep')"
   ]
  },
  {
   "cell_type": "code",
   "execution_count": 400,
   "id": "4a5aaf6e-d785-43b7-8e09-431a3b55b4a9",
   "metadata": {},
   "outputs": [
    {
     "data": {
      "text/plain": [
       "(1000, 5)"
      ]
     },
     "execution_count": 400,
     "metadata": {},
     "output_type": "execute_result"
    }
   ],
   "source": [
    "old_HDD.shape"
   ]
  },
  {
   "cell_type": "code",
   "execution_count": 401,
   "id": "97b2c7b6-d278-46e4-acaa-1abd726ce37c",
   "metadata": {},
   "outputs": [
    {
     "data": {
      "text/plain": [
       "'N nan cols: 0'"
      ]
     },
     "execution_count": 401,
     "metadata": {},
     "output_type": "execute_result"
    },
    {
     "data": {
      "text/plain": [
       "Series([], dtype: float64)"
      ]
     },
     "execution_count": 401,
     "metadata": {},
     "output_type": "execute_result"
    }
   ],
   "source": [
    "sc.check_nan(old_HDD)"
   ]
  },
  {
   "cell_type": "code",
   "execution_count": 402,
   "id": "1c63e913-263e-40d7-8858-dff98d95017e",
   "metadata": {},
   "outputs": [],
   "source": [
    "#Column cleaning function\n",
    "\n",
    "old_HDD= sc.column_unification(old_HDD)"
   ]
  },
  {
   "cell_type": "markdown",
   "id": "2e37bd7b-78f1-4809-82a7-3472c1af5897",
   "metadata": {},
   "source": [
    "##### \"first_name\" & \"last_name\""
   ]
  },
  {
   "cell_type": "code",
   "execution_count": 403,
   "id": "a7d851d1-ebd2-4b15-955a-7a2179d9b53c",
   "metadata": {},
   "outputs": [
    {
     "data": {
      "text/html": [
       "<div>\n",
       "<style scoped>\n",
       "    .dataframe tbody tr th:only-of-type {\n",
       "        vertical-align: middle;\n",
       "    }\n",
       "\n",
       "    .dataframe tbody tr th {\n",
       "        vertical-align: top;\n",
       "    }\n",
       "\n",
       "    .dataframe thead th {\n",
       "        text-align: right;\n",
       "    }\n",
       "</style>\n",
       "<table border=\"1\" class=\"dataframe\">\n",
       "  <thead>\n",
       "    <tr style=\"text-align: right;\">\n",
       "      <th></th>\n",
       "      <th>first_name</th>\n",
       "      <th>last_name</th>\n",
       "      <th>title</th>\n",
       "      <th>release_year</th>\n",
       "      <th>category_id</th>\n",
       "    </tr>\n",
       "  </thead>\n",
       "  <tbody>\n",
       "    <tr>\n",
       "      <th>0</th>\n",
       "      <td>Penelope</td>\n",
       "      <td>Guiness</td>\n",
       "      <td>ACADEMY DINOSAUR</td>\n",
       "      <td>2006</td>\n",
       "      <td>6</td>\n",
       "    </tr>\n",
       "    <tr>\n",
       "      <th>1</th>\n",
       "      <td>Penelope</td>\n",
       "      <td>Guiness</td>\n",
       "      <td>ANACONDA CONFESSIONS</td>\n",
       "      <td>2006</td>\n",
       "      <td>2</td>\n",
       "    </tr>\n",
       "    <tr>\n",
       "      <th>2</th>\n",
       "      <td>Penelope</td>\n",
       "      <td>Guiness</td>\n",
       "      <td>ANGELS LIFE</td>\n",
       "      <td>2006</td>\n",
       "      <td>13</td>\n",
       "    </tr>\n",
       "    <tr>\n",
       "      <th>3</th>\n",
       "      <td>Penelope</td>\n",
       "      <td>Guiness</td>\n",
       "      <td>BULWORTH COMMANDMENTS</td>\n",
       "      <td>2006</td>\n",
       "      <td>10</td>\n",
       "    </tr>\n",
       "    <tr>\n",
       "      <th>4</th>\n",
       "      <td>Penelope</td>\n",
       "      <td>Guiness</td>\n",
       "      <td>CHEAPER CLYDE</td>\n",
       "      <td>2006</td>\n",
       "      <td>14</td>\n",
       "    </tr>\n",
       "  </tbody>\n",
       "</table>\n",
       "</div>"
      ],
      "text/plain": [
       "  first_name last_name                  title  release_year  category_id\n",
       "0   Penelope   Guiness       ACADEMY DINOSAUR          2006            6\n",
       "1   Penelope   Guiness   ANACONDA CONFESSIONS          2006            2\n",
       "2   Penelope   Guiness            ANGELS LIFE          2006           13\n",
       "3   Penelope   Guiness  BULWORTH COMMANDMENTS          2006           10\n",
       "4   Penelope   Guiness          CHEAPER CLYDE          2006           14"
      ]
     },
     "execution_count": 403,
     "metadata": {},
     "output_type": "execute_result"
    }
   ],
   "source": [
    "old_HDD['first_name']= old_HDD['first_name'].str.capitalize()\n",
    "\n",
    "old_HDD['last_name']= old_HDD['last_name'].str.capitalize()\n",
    "\n",
    "old_HDD.head()"
   ]
  },
  {
   "cell_type": "code",
   "execution_count": 404,
   "id": "ae523a35-62be-4c5a-b89f-5a7147361ecd",
   "metadata": {},
   "outputs": [
    {
     "data": {
      "text/html": [
       "<div>\n",
       "<style scoped>\n",
       "    .dataframe tbody tr th:only-of-type {\n",
       "        vertical-align: middle;\n",
       "    }\n",
       "\n",
       "    .dataframe tbody tr th {\n",
       "        vertical-align: top;\n",
       "    }\n",
       "\n",
       "    .dataframe thead th {\n",
       "        text-align: right;\n",
       "    }\n",
       "</style>\n",
       "<table border=\"1\" class=\"dataframe\">\n",
       "  <thead>\n",
       "    <tr style=\"text-align: right;\">\n",
       "      <th></th>\n",
       "      <th>first_name</th>\n",
       "      <th>last_name</th>\n",
       "      <th>title</th>\n",
       "      <th>release_year</th>\n",
       "      <th>category_id</th>\n",
       "    </tr>\n",
       "  </thead>\n",
       "  <tbody>\n",
       "  </tbody>\n",
       "</table>\n",
       "</div>"
      ],
      "text/plain": [
       "Empty DataFrame\n",
       "Columns: [first_name, last_name, title, release_year, category_id]\n",
       "Index: []"
      ]
     },
     "execution_count": 404,
     "metadata": {},
     "output_type": "execute_result"
    }
   ],
   "source": [
    "old_HDD[old_HDD.duplicated(['first_name','last_name', 'title'])]"
   ]
  },
  {
   "cell_type": "code",
   "execution_count": 405,
   "id": "2611fa4f-d200-4c51-9126-2a8e45fc035d",
   "metadata": {},
   "outputs": [
    {
     "data": {
      "text/html": [
       "<div>\n",
       "<style scoped>\n",
       "    .dataframe tbody tr th:only-of-type {\n",
       "        vertical-align: middle;\n",
       "    }\n",
       "\n",
       "    .dataframe tbody tr th {\n",
       "        vertical-align: top;\n",
       "    }\n",
       "\n",
       "    .dataframe thead th {\n",
       "        text-align: right;\n",
       "    }\n",
       "</style>\n",
       "<table border=\"1\" class=\"dataframe\">\n",
       "  <thead>\n",
       "    <tr style=\"text-align: right;\">\n",
       "      <th></th>\n",
       "      <th>count</th>\n",
       "      <th>unique</th>\n",
       "      <th>top</th>\n",
       "      <th>freq</th>\n",
       "      <th>mean</th>\n",
       "      <th>std</th>\n",
       "      <th>min</th>\n",
       "      <th>25%</th>\n",
       "      <th>50%</th>\n",
       "      <th>75%</th>\n",
       "      <th>max</th>\n",
       "    </tr>\n",
       "  </thead>\n",
       "  <tbody>\n",
       "    <tr>\n",
       "      <th>first_name</th>\n",
       "      <td>1000</td>\n",
       "      <td>38</td>\n",
       "      <td>Sandra</td>\n",
       "      <td>56</td>\n",
       "      <td>NaN</td>\n",
       "      <td>NaN</td>\n",
       "      <td>NaN</td>\n",
       "      <td>NaN</td>\n",
       "      <td>NaN</td>\n",
       "      <td>NaN</td>\n",
       "      <td>NaN</td>\n",
       "    </tr>\n",
       "    <tr>\n",
       "      <th>last_name</th>\n",
       "      <td>1000</td>\n",
       "      <td>37</td>\n",
       "      <td>Olivier</td>\n",
       "      <td>53</td>\n",
       "      <td>NaN</td>\n",
       "      <td>NaN</td>\n",
       "      <td>NaN</td>\n",
       "      <td>NaN</td>\n",
       "      <td>NaN</td>\n",
       "      <td>NaN</td>\n",
       "      <td>NaN</td>\n",
       "    </tr>\n",
       "    <tr>\n",
       "      <th>title</th>\n",
       "      <td>1000</td>\n",
       "      <td>614</td>\n",
       "      <td>BOONDOCK BALLROOM</td>\n",
       "      <td>6</td>\n",
       "      <td>NaN</td>\n",
       "      <td>NaN</td>\n",
       "      <td>NaN</td>\n",
       "      <td>NaN</td>\n",
       "      <td>NaN</td>\n",
       "      <td>NaN</td>\n",
       "      <td>NaN</td>\n",
       "    </tr>\n",
       "    <tr>\n",
       "      <th>release_year</th>\n",
       "      <td>1000.0</td>\n",
       "      <td>NaN</td>\n",
       "      <td>NaN</td>\n",
       "      <td>NaN</td>\n",
       "      <td>2006.0</td>\n",
       "      <td>0.0</td>\n",
       "      <td>2006.0</td>\n",
       "      <td>2006.0</td>\n",
       "      <td>2006.0</td>\n",
       "      <td>2006.0</td>\n",
       "      <td>2006.0</td>\n",
       "    </tr>\n",
       "    <tr>\n",
       "      <th>category_id</th>\n",
       "      <td>1000.0</td>\n",
       "      <td>NaN</td>\n",
       "      <td>NaN</td>\n",
       "      <td>NaN</td>\n",
       "      <td>8.355</td>\n",
       "      <td>4.726872</td>\n",
       "      <td>1.0</td>\n",
       "      <td>4.0</td>\n",
       "      <td>8.0</td>\n",
       "      <td>13.0</td>\n",
       "      <td>16.0</td>\n",
       "    </tr>\n",
       "  </tbody>\n",
       "</table>\n",
       "</div>"
      ],
      "text/plain": [
       "               count unique                top freq    mean       std     min  \\\n",
       "first_name      1000     38             Sandra   56     NaN       NaN     NaN   \n",
       "last_name       1000     37            Olivier   53     NaN       NaN     NaN   \n",
       "title           1000    614  BOONDOCK BALLROOM    6     NaN       NaN     NaN   \n",
       "release_year  1000.0    NaN                NaN  NaN  2006.0       0.0  2006.0   \n",
       "category_id   1000.0    NaN                NaN  NaN   8.355  4.726872     1.0   \n",
       "\n",
       "                 25%     50%     75%     max  \n",
       "first_name       NaN     NaN     NaN     NaN  \n",
       "last_name        NaN     NaN     NaN     NaN  \n",
       "title            NaN     NaN     NaN     NaN  \n",
       "release_year  2006.0  2006.0  2006.0  2006.0  \n",
       "category_id      4.0     8.0    13.0    16.0  "
      ]
     },
     "execution_count": 405,
     "metadata": {},
     "output_type": "execute_result"
    }
   ],
   "source": [
    "old_HDD.describe(include='all').T"
   ]
  },
  {
   "cell_type": "markdown",
   "id": "3d8a2b10-bef2-430d-a6c0-94bc07648265",
   "metadata": {},
   "source": [
    "#### \"release_year\" "
   ]
  },
  {
   "cell_type": "markdown",
   "id": "84a21c3a-f0bc-4bdd-8e6b-27899cd3ec95",
   "metadata": {},
   "source": [
    "##### It is a constant column. And this table will be merged with films and actors, so it could be drop"
   ]
  },
  {
   "cell_type": "code",
   "execution_count": 406,
   "id": "b52ce4f3-cb9e-4420-ae75-5a12ec234bf2",
   "metadata": {},
   "outputs": [
    {
     "data": {
      "text/plain": [
       "release_year\n",
       "2006    1000\n",
       "Name: count, dtype: int64"
      ]
     },
     "execution_count": 406,
     "metadata": {},
     "output_type": "execute_result"
    }
   ],
   "source": [
    "old_HDD.release_year.value_counts()"
   ]
  },
  {
   "cell_type": "code",
   "execution_count": 407,
   "id": "891dfdf5-3235-4bfa-a80d-e61e65a46867",
   "metadata": {},
   "outputs": [],
   "source": [
    "old_HDD= old_HDD.drop('release_year', axis=1)"
   ]
  },
  {
   "cell_type": "markdown",
   "id": "38d83af0-9edb-4501-9388-dd2747ecb98d",
   "metadata": {},
   "source": [
    "### 2.7 rental.csv"
   ]
  },
  {
   "cell_type": "code",
   "execution_count": 408,
   "id": "ee117166-3d39-49d8-a517-b5c9072bf7ea",
   "metadata": {},
   "outputs": [
    {
     "data": {
      "text/html": [
       "<div>\n",
       "<style scoped>\n",
       "    .dataframe tbody tr th:only-of-type {\n",
       "        vertical-align: middle;\n",
       "    }\n",
       "\n",
       "    .dataframe tbody tr th {\n",
       "        vertical-align: top;\n",
       "    }\n",
       "\n",
       "    .dataframe thead th {\n",
       "        text-align: right;\n",
       "    }\n",
       "</style>\n",
       "<table border=\"1\" class=\"dataframe\">\n",
       "  <thead>\n",
       "    <tr style=\"text-align: right;\">\n",
       "      <th></th>\n",
       "      <th>rental_id</th>\n",
       "      <th>rental_date</th>\n",
       "      <th>inventory_id</th>\n",
       "      <th>customer_id</th>\n",
       "      <th>return_date</th>\n",
       "      <th>staff_id</th>\n",
       "      <th>last_update</th>\n",
       "    </tr>\n",
       "  </thead>\n",
       "  <tbody>\n",
       "    <tr>\n",
       "      <th>0</th>\n",
       "      <td>1</td>\n",
       "      <td>2005-05-24 22:53:30</td>\n",
       "      <td>367</td>\n",
       "      <td>130</td>\n",
       "      <td>2005-05-26 22:04:30</td>\n",
       "      <td>1</td>\n",
       "      <td>2006-02-15 21:30:53</td>\n",
       "    </tr>\n",
       "    <tr>\n",
       "      <th>1</th>\n",
       "      <td>2</td>\n",
       "      <td>2005-05-24 22:54:33</td>\n",
       "      <td>1525</td>\n",
       "      <td>459</td>\n",
       "      <td>2005-05-28 19:40:33</td>\n",
       "      <td>1</td>\n",
       "      <td>2006-02-15 21:30:53</td>\n",
       "    </tr>\n",
       "    <tr>\n",
       "      <th>2</th>\n",
       "      <td>3</td>\n",
       "      <td>2005-05-24 23:03:39</td>\n",
       "      <td>1711</td>\n",
       "      <td>408</td>\n",
       "      <td>2005-06-01 22:12:39</td>\n",
       "      <td>1</td>\n",
       "      <td>2006-02-15 21:30:53</td>\n",
       "    </tr>\n",
       "    <tr>\n",
       "      <th>3</th>\n",
       "      <td>4</td>\n",
       "      <td>2005-05-24 23:04:41</td>\n",
       "      <td>2452</td>\n",
       "      <td>333</td>\n",
       "      <td>2005-06-03 01:43:41</td>\n",
       "      <td>2</td>\n",
       "      <td>2006-02-15 21:30:53</td>\n",
       "    </tr>\n",
       "    <tr>\n",
       "      <th>4</th>\n",
       "      <td>5</td>\n",
       "      <td>2005-05-24 23:05:21</td>\n",
       "      <td>2079</td>\n",
       "      <td>222</td>\n",
       "      <td>2005-06-02 04:33:21</td>\n",
       "      <td>1</td>\n",
       "      <td>2006-02-15 21:30:53</td>\n",
       "    </tr>\n",
       "  </tbody>\n",
       "</table>\n",
       "</div>"
      ],
      "text/plain": [
       "   rental_id          rental_date  inventory_id  customer_id  \\\n",
       "0          1  2005-05-24 22:53:30           367          130   \n",
       "1          2  2005-05-24 22:54:33          1525          459   \n",
       "2          3  2005-05-24 23:03:39          1711          408   \n",
       "3          4  2005-05-24 23:04:41          2452          333   \n",
       "4          5  2005-05-24 23:05:21          2079          222   \n",
       "\n",
       "           return_date  staff_id          last_update  \n",
       "0  2005-05-26 22:04:30         1  2006-02-15 21:30:53  \n",
       "1  2005-05-28 19:40:33         1  2006-02-15 21:30:53  \n",
       "2  2005-06-01 22:12:39         1  2006-02-15 21:30:53  \n",
       "3  2005-06-03 01:43:41         2  2006-02-15 21:30:53  \n",
       "4  2005-06-02 04:33:21         1  2006-02-15 21:30:53  "
      ]
     },
     "execution_count": 408,
     "metadata": {},
     "output_type": "execute_result"
    }
   ],
   "source": [
    "rental = pd.read_csv('../data/0-raw/rental.csv')\n",
    "rental.head()"
   ]
  },
  {
   "cell_type": "code",
   "execution_count": 409,
   "id": "bb776d12-3b9f-4a98-b5fa-65f85bb9db39",
   "metadata": {},
   "outputs": [
    {
     "name": "stdout",
     "output_type": "stream",
     "text": [
      "<class 'pandas.core.frame.DataFrame'>\n",
      "RangeIndex: 1000 entries, 0 to 999\n",
      "Data columns (total 7 columns):\n",
      " #   Column        Non-Null Count  Dtype \n",
      "---  ------        --------------  ----- \n",
      " 0   rental_id     1000 non-null   int64 \n",
      " 1   rental_date   1000 non-null   object\n",
      " 2   inventory_id  1000 non-null   int64 \n",
      " 3   customer_id   1000 non-null   int64 \n",
      " 4   return_date   1000 non-null   object\n",
      " 5   staff_id      1000 non-null   int64 \n",
      " 6   last_update   1000 non-null   object\n",
      "dtypes: int64(4), object(3)\n",
      "memory usage: 254.0 KB\n"
     ]
    }
   ],
   "source": [
    "rental.info(memory_usage='deep')"
   ]
  },
  {
   "cell_type": "code",
   "execution_count": 410,
   "id": "9665c68e-145f-4549-a195-e4fae2f379c5",
   "metadata": {},
   "outputs": [
    {
     "data": {
      "text/plain": [
       "(1000, 7)"
      ]
     },
     "execution_count": 410,
     "metadata": {},
     "output_type": "execute_result"
    }
   ],
   "source": [
    "rental.shape"
   ]
  },
  {
   "cell_type": "code",
   "execution_count": 411,
   "id": "0530764a-65d9-4b42-b293-b6734e44e9d7",
   "metadata": {},
   "outputs": [
    {
     "data": {
      "text/plain": [
       "'N nan cols: 0'"
      ]
     },
     "execution_count": 411,
     "metadata": {},
     "output_type": "execute_result"
    },
    {
     "data": {
      "text/plain": [
       "Series([], dtype: float64)"
      ]
     },
     "execution_count": 411,
     "metadata": {},
     "output_type": "execute_result"
    }
   ],
   "source": [
    "sc.check_nan(rental)"
   ]
  },
  {
   "cell_type": "code",
   "execution_count": 412,
   "id": "f76cef93-0a26-4ba2-b28a-1952d7b94355",
   "metadata": {},
   "outputs": [],
   "source": [
    "#Column cleaning function\n",
    "\n",
    "rental= sc.column_unification(rental)"
   ]
  },
  {
   "cell_type": "code",
   "execution_count": 413,
   "id": "a6e2cd62-5eec-4a56-a44c-10f858287707",
   "metadata": {},
   "outputs": [
    {
     "data": {
      "text/html": [
       "<div>\n",
       "<style scoped>\n",
       "    .dataframe tbody tr th:only-of-type {\n",
       "        vertical-align: middle;\n",
       "    }\n",
       "\n",
       "    .dataframe tbody tr th {\n",
       "        vertical-align: top;\n",
       "    }\n",
       "\n",
       "    .dataframe thead th {\n",
       "        text-align: right;\n",
       "    }\n",
       "</style>\n",
       "<table border=\"1\" class=\"dataframe\">\n",
       "  <thead>\n",
       "    <tr style=\"text-align: right;\">\n",
       "      <th></th>\n",
       "      <th>count</th>\n",
       "      <th>unique</th>\n",
       "      <th>top</th>\n",
       "      <th>freq</th>\n",
       "      <th>mean</th>\n",
       "      <th>std</th>\n",
       "      <th>min</th>\n",
       "      <th>25%</th>\n",
       "      <th>50%</th>\n",
       "      <th>75%</th>\n",
       "      <th>max</th>\n",
       "    </tr>\n",
       "  </thead>\n",
       "  <tbody>\n",
       "    <tr>\n",
       "      <th>rental_id</th>\n",
       "      <td>1000.0</td>\n",
       "      <td>NaN</td>\n",
       "      <td>NaN</td>\n",
       "      <td>NaN</td>\n",
       "      <td>501.18</td>\n",
       "      <td>289.19665</td>\n",
       "      <td>1.0</td>\n",
       "      <td>250.75</td>\n",
       "      <td>501.5</td>\n",
       "      <td>751.25</td>\n",
       "      <td>1001.0</td>\n",
       "    </tr>\n",
       "    <tr>\n",
       "      <th>rental_date</th>\n",
       "      <td>1000</td>\n",
       "      <td>999</td>\n",
       "      <td>2005-05-30 14:47:31</td>\n",
       "      <td>2</td>\n",
       "      <td>NaN</td>\n",
       "      <td>NaN</td>\n",
       "      <td>NaN</td>\n",
       "      <td>NaN</td>\n",
       "      <td>NaN</td>\n",
       "      <td>NaN</td>\n",
       "      <td>NaN</td>\n",
       "    </tr>\n",
       "    <tr>\n",
       "      <th>inventory_id</th>\n",
       "      <td>1000.0</td>\n",
       "      <td>NaN</td>\n",
       "      <td>NaN</td>\n",
       "      <td>NaN</td>\n",
       "      <td>2258.179</td>\n",
       "      <td>1314.667454</td>\n",
       "      <td>2.0</td>\n",
       "      <td>1157.5</td>\n",
       "      <td>2244.5</td>\n",
       "      <td>3371.75</td>\n",
       "      <td>4581.0</td>\n",
       "    </tr>\n",
       "    <tr>\n",
       "      <th>customer_id</th>\n",
       "      <td>1000.0</td>\n",
       "      <td>NaN</td>\n",
       "      <td>NaN</td>\n",
       "      <td>NaN</td>\n",
       "      <td>296.408</td>\n",
       "      <td>172.509319</td>\n",
       "      <td>1.0</td>\n",
       "      <td>150.0</td>\n",
       "      <td>296.0</td>\n",
       "      <td>445.25</td>\n",
       "      <td>597.0</td>\n",
       "    </tr>\n",
       "    <tr>\n",
       "      <th>return_date</th>\n",
       "      <td>1000</td>\n",
       "      <td>997</td>\n",
       "      <td>2005-06-05 15:16:54</td>\n",
       "      <td>2</td>\n",
       "      <td>NaN</td>\n",
       "      <td>NaN</td>\n",
       "      <td>NaN</td>\n",
       "      <td>NaN</td>\n",
       "      <td>NaN</td>\n",
       "      <td>NaN</td>\n",
       "      <td>NaN</td>\n",
       "    </tr>\n",
       "    <tr>\n",
       "      <th>staff_id</th>\n",
       "      <td>1000.0</td>\n",
       "      <td>NaN</td>\n",
       "      <td>NaN</td>\n",
       "      <td>NaN</td>\n",
       "      <td>1.521</td>\n",
       "      <td>0.499809</td>\n",
       "      <td>1.0</td>\n",
       "      <td>1.0</td>\n",
       "      <td>2.0</td>\n",
       "      <td>2.0</td>\n",
       "      <td>2.0</td>\n",
       "    </tr>\n",
       "    <tr>\n",
       "      <th>last_update</th>\n",
       "      <td>1000</td>\n",
       "      <td>1</td>\n",
       "      <td>2006-02-15 21:30:53</td>\n",
       "      <td>1000</td>\n",
       "      <td>NaN</td>\n",
       "      <td>NaN</td>\n",
       "      <td>NaN</td>\n",
       "      <td>NaN</td>\n",
       "      <td>NaN</td>\n",
       "      <td>NaN</td>\n",
       "      <td>NaN</td>\n",
       "    </tr>\n",
       "  </tbody>\n",
       "</table>\n",
       "</div>"
      ],
      "text/plain": [
       "               count unique                  top  freq      mean          std  \\\n",
       "rental_id     1000.0    NaN                  NaN   NaN    501.18    289.19665   \n",
       "rental_date     1000    999  2005-05-30 14:47:31     2       NaN          NaN   \n",
       "inventory_id  1000.0    NaN                  NaN   NaN  2258.179  1314.667454   \n",
       "customer_id   1000.0    NaN                  NaN   NaN   296.408   172.509319   \n",
       "return_date     1000    997  2005-06-05 15:16:54     2       NaN          NaN   \n",
       "staff_id      1000.0    NaN                  NaN   NaN     1.521     0.499809   \n",
       "last_update     1000      1  2006-02-15 21:30:53  1000       NaN          NaN   \n",
       "\n",
       "              min     25%     50%      75%     max  \n",
       "rental_id     1.0  250.75   501.5   751.25  1001.0  \n",
       "rental_date   NaN     NaN     NaN      NaN     NaN  \n",
       "inventory_id  2.0  1157.5  2244.5  3371.75  4581.0  \n",
       "customer_id   1.0   150.0   296.0   445.25   597.0  \n",
       "return_date   NaN     NaN     NaN      NaN     NaN  \n",
       "staff_id      1.0     1.0     2.0      2.0     2.0  \n",
       "last_update   NaN     NaN     NaN      NaN     NaN  "
      ]
     },
     "execution_count": 413,
     "metadata": {},
     "output_type": "execute_result"
    }
   ],
   "source": [
    "rental.describe(include='all').T"
   ]
  },
  {
   "cell_type": "code",
   "execution_count": 414,
   "id": "61f0a347-ee91-4569-a7eb-babdbcbd0cac",
   "metadata": {},
   "outputs": [
    {
     "data": {
      "text/plain": [
       "False"
      ]
     },
     "execution_count": 414,
     "metadata": {},
     "output_type": "execute_result"
    }
   ],
   "source": [
    "rental.duplicated().any()"
   ]
  },
  {
   "cell_type": "markdown",
   "id": "f10b2907-bc48-40e9-bcb4-36f99e333e27",
   "metadata": {},
   "source": [
    "##### \"rental_id\""
   ]
  },
  {
   "cell_type": "code",
   "execution_count": 415,
   "id": "f9d29eed-8cac-4b8d-8a11-302c6094fdf5",
   "metadata": {},
   "outputs": [],
   "source": [
    "#It has 1001 values. It's need to be reset. It isn't in any other table\n",
    "rental.rental_id= [e for e in range(1,1001)]"
   ]
  },
  {
   "cell_type": "markdown",
   "id": "82d462e1-2983-494f-b0d4-a2a81d41a2c2",
   "metadata": {},
   "source": [
    "##### \"last_update\""
   ]
  },
  {
   "cell_type": "markdown",
   "id": "92958bf1-c2ff-4a9e-a6eb-181dcf9aab66",
   "metadata": {},
   "source": [
    "###### Drop  column (constant)"
   ]
  },
  {
   "cell_type": "code",
   "execution_count": 416,
   "id": "bd9857e3-9d3f-44e2-96ad-00715871e91f",
   "metadata": {},
   "outputs": [],
   "source": [
    "rental= rental.drop('last_update', axis=1)"
   ]
  },
  {
   "cell_type": "code",
   "execution_count": 417,
   "id": "db12f7ad-7953-40fa-a09d-5b6835c89b45",
   "metadata": {},
   "outputs": [
    {
     "data": {
      "text/html": [
       "<div>\n",
       "<style scoped>\n",
       "    .dataframe tbody tr th:only-of-type {\n",
       "        vertical-align: middle;\n",
       "    }\n",
       "\n",
       "    .dataframe tbody tr th {\n",
       "        vertical-align: top;\n",
       "    }\n",
       "\n",
       "    .dataframe thead th {\n",
       "        text-align: right;\n",
       "    }\n",
       "</style>\n",
       "<table border=\"1\" class=\"dataframe\">\n",
       "  <thead>\n",
       "    <tr style=\"text-align: right;\">\n",
       "      <th></th>\n",
       "      <th>category_id</th>\n",
       "      <th>name</th>\n",
       "    </tr>\n",
       "  </thead>\n",
       "  <tbody>\n",
       "    <tr>\n",
       "      <th>0</th>\n",
       "      <td>1</td>\n",
       "      <td>Action</td>\n",
       "    </tr>\n",
       "    <tr>\n",
       "      <th>1</th>\n",
       "      <td>2</td>\n",
       "      <td>Animation</td>\n",
       "    </tr>\n",
       "    <tr>\n",
       "      <th>2</th>\n",
       "      <td>3</td>\n",
       "      <td>Children</td>\n",
       "    </tr>\n",
       "    <tr>\n",
       "      <th>3</th>\n",
       "      <td>4</td>\n",
       "      <td>Classics</td>\n",
       "    </tr>\n",
       "    <tr>\n",
       "      <th>4</th>\n",
       "      <td>5</td>\n",
       "      <td>Comedy</td>\n",
       "    </tr>\n",
       "    <tr>\n",
       "      <th>5</th>\n",
       "      <td>6</td>\n",
       "      <td>Documentary</td>\n",
       "    </tr>\n",
       "    <tr>\n",
       "      <th>6</th>\n",
       "      <td>7</td>\n",
       "      <td>Drama</td>\n",
       "    </tr>\n",
       "    <tr>\n",
       "      <th>7</th>\n",
       "      <td>8</td>\n",
       "      <td>Family</td>\n",
       "    </tr>\n",
       "    <tr>\n",
       "      <th>8</th>\n",
       "      <td>9</td>\n",
       "      <td>Foreign</td>\n",
       "    </tr>\n",
       "    <tr>\n",
       "      <th>9</th>\n",
       "      <td>10</td>\n",
       "      <td>Games</td>\n",
       "    </tr>\n",
       "    <tr>\n",
       "      <th>10</th>\n",
       "      <td>11</td>\n",
       "      <td>Horror</td>\n",
       "    </tr>\n",
       "    <tr>\n",
       "      <th>11</th>\n",
       "      <td>12</td>\n",
       "      <td>Music</td>\n",
       "    </tr>\n",
       "    <tr>\n",
       "      <th>12</th>\n",
       "      <td>13</td>\n",
       "      <td>New</td>\n",
       "    </tr>\n",
       "    <tr>\n",
       "      <th>13</th>\n",
       "      <td>14</td>\n",
       "      <td>Sci-Fi</td>\n",
       "    </tr>\n",
       "    <tr>\n",
       "      <th>14</th>\n",
       "      <td>15</td>\n",
       "      <td>Sports</td>\n",
       "    </tr>\n",
       "    <tr>\n",
       "      <th>15</th>\n",
       "      <td>16</td>\n",
       "      <td>Travel</td>\n",
       "    </tr>\n",
       "  </tbody>\n",
       "</table>\n",
       "</div>"
      ],
      "text/plain": [
       "    category_id         name\n",
       "0             1       Action\n",
       "1             2    Animation\n",
       "2             3     Children\n",
       "3             4     Classics\n",
       "4             5       Comedy\n",
       "5             6  Documentary\n",
       "6             7        Drama\n",
       "7             8       Family\n",
       "8             9      Foreign\n",
       "9            10        Games\n",
       "10           11       Horror\n",
       "11           12        Music\n",
       "12           13          New\n",
       "13           14       Sci-Fi\n",
       "14           15       Sports\n",
       "15           16       Travel"
      ]
     },
     "execution_count": 417,
     "metadata": {},
     "output_type": "execute_result"
    }
   ],
   "source": [
    "category"
   ]
  },
  {
   "cell_type": "markdown",
   "id": "d5fe3278-4719-4382-a49b-5f5d3a7db689",
   "metadata": {
    "jp-MarkdownHeadingCollapsed": true
   },
   "source": [
    "## 3. Export documents"
   ]
  },
  {
   "cell_type": "code",
   "execution_count": 341,
   "id": "52358c4a-e70a-4bf6-91fc-e0192d0c1a2b",
   "metadata": {},
   "outputs": [],
   "source": [
    "actors.to_csv('../data/1-clean/actor.csv', index=False)"
   ]
  },
  {
   "cell_type": "code",
   "execution_count": 342,
   "id": "039450d9-a929-46e6-898d-30aacc326f2f",
   "metadata": {},
   "outputs": [],
   "source": [
    "category.to_csv('../data/1-clean/category.csv', index=False)"
   ]
  },
  {
   "cell_type": "code",
   "execution_count": 343,
   "id": "87d91770-b17c-49ee-8c8c-43b7e2434c5e",
   "metadata": {},
   "outputs": [],
   "source": [
    "film.to_csv('../data/1-clean/film.csv', index=False)"
   ]
  },
  {
   "cell_type": "code",
   "execution_count": 344,
   "id": "e8ce16f3-3fc2-4587-ace1-70060abd4b3b",
   "metadata": {},
   "outputs": [],
   "source": [
    "inventory.to_csv('../data/1-clean/inventory.csv', index=False)"
   ]
  },
  {
   "cell_type": "code",
   "execution_count": 345,
   "id": "f15a35db-917e-4357-a503-59578847684e",
   "metadata": {},
   "outputs": [],
   "source": [
    "language.to_csv('../data/1-clean/language.csv', index=False)"
   ]
  },
  {
   "cell_type": "code",
   "execution_count": 346,
   "id": "f44094ec-d936-4930-9e52-42f8d4f68273",
   "metadata": {},
   "outputs": [],
   "source": [
    "old_HDD.to_csv('../data/1-clean/old_HDD.csv', index=False)"
   ]
  },
  {
   "cell_type": "code",
   "execution_count": 347,
   "id": "52426511-d2f3-49d1-9cce-5bc642522b0b",
   "metadata": {},
   "outputs": [],
   "source": [
    "rental.to_csv('../data/1-clean/rental.csv', index=False)"
   ]
  },
  {
   "cell_type": "markdown",
   "id": "8db0cb7e-b3fd-4f69-bd7e-81d80cc2760f",
   "metadata": {},
   "source": [
    "### DONE CLEANING!"
   ]
  }
 ],
 "metadata": {
  "kernelspec": {
   "display_name": "clase",
   "language": "python",
   "name": "clase"
  },
  "language_info": {
   "codemirror_mode": {
    "name": "ipython",
    "version": 3
   },
   "file_extension": ".py",
   "mimetype": "text/x-python",
   "name": "python",
   "nbconvert_exporter": "python",
   "pygments_lexer": "ipython3",
   "version": "3.10.13"
  }
 },
 "nbformat": 4,
 "nbformat_minor": 5
}
