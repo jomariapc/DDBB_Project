{
 "cells": [
  {
   "cell_type": "markdown",
   "id": "00fe5424-65ea-4400-937d-d95cb5461f67",
   "metadata": {},
   "source": [
    "# II. Data Exploration\n",
    "Once the tables have been cleaned, you can see repeated values and associations to which you need to assign a specific table."
   ]
  },
  {
   "cell_type": "markdown",
   "id": "ba5ded0e-6c7e-427d-9f2d-4d60dddd6d7a",
   "metadata": {},
   "source": [
    "1. Import libraries and scr.py file\n",
    "2. [Data Exploration](#import-clean-documents)\n",
    "    - 2.1. [special_features](#import-special_features)\n",
    "    - 2.2. [category](#import-category)\n",
    "    - 2.3. [films & actors](#import-films-&-actors)\n",
    "    - 2.4. [inventory & rental](#import-inventory-&-rental)\n",
    "    - 2.4. [language](#import-language)\n",
    "4. [Export documents](#export-documents)"
   ]
  },
  {
   "cell_type": "markdown",
   "id": "340fb897-591f-476c-9365-eef8f324cbc0",
   "metadata": {
    "jp-MarkdownHeadingCollapsed": true
   },
   "source": [
    "## 1.Import libraries and scr.py file"
   ]
  },
  {
   "cell_type": "code",
   "execution_count": 61,
   "id": "71be8719-bf77-4a1e-8035-1102eac12ebb",
   "metadata": {},
   "outputs": [],
   "source": [
    "import numpy as np\n",
    "import pandas as pd\n",
    "\n",
    "pd.set_option('display.max_columns', None)"
   ]
  },
  {
   "cell_type": "code",
   "execution_count": 62,
   "id": "5dc5eb58-f36e-4b28-b54c-0f82e6a7661c",
   "metadata": {},
   "outputs": [],
   "source": [
    "import scr as sc #Functions"
   ]
  },
  {
   "cell_type": "code",
   "execution_count": 63,
   "id": "1ded66ba-c489-4bad-933a-a857ec876b05",
   "metadata": {},
   "outputs": [],
   "source": [
    "import pylab as plt  \n",
    "import seaborn as sns\n",
    "\n",
    "%matplotlib inline"
   ]
  },
  {
   "cell_type": "markdown",
   "id": "9566896a-d9fe-41b9-9d3c-3660fc383e74",
   "metadata": {},
   "source": [
    "## 2. Data Exploration"
   ]
  },
  {
   "cell_type": "markdown",
   "id": "b6c6774f-b259-46cb-846a-9d2d12923d27",
   "metadata": {
    "jp-MarkdownHeadingCollapsed": true
   },
   "source": [
    "###  2.1. special_features"
   ]
  },
  {
   "cell_type": "markdown",
   "id": "411576e3-43d2-41a6-a7f3-699ae336e8fc",
   "metadata": {},
   "source": [
    "#### Create a new table special_features"
   ]
  },
  {
   "cell_type": "code",
   "execution_count": 10,
   "id": "749986d7-c87d-4b4a-81f7-3a3f94eef164",
   "metadata": {},
   "outputs": [
    {
     "data": {
      "text/html": [
       "<div>\n",
       "<style scoped>\n",
       "    .dataframe tbody tr th:only-of-type {\n",
       "        vertical-align: middle;\n",
       "    }\n",
       "\n",
       "    .dataframe tbody tr th {\n",
       "        vertical-align: top;\n",
       "    }\n",
       "\n",
       "    .dataframe thead th {\n",
       "        text-align: right;\n",
       "    }\n",
       "</style>\n",
       "<table border=\"1\" class=\"dataframe\">\n",
       "  <thead>\n",
       "    <tr style=\"text-align: right;\">\n",
       "      <th></th>\n",
       "      <th>film_id</th>\n",
       "      <th>title</th>\n",
       "      <th>description</th>\n",
       "      <th>release_year</th>\n",
       "      <th>language_id</th>\n",
       "      <th>original_language_id</th>\n",
       "      <th>rental_duration</th>\n",
       "      <th>rental_rate</th>\n",
       "      <th>length</th>\n",
       "      <th>replacement_cost</th>\n",
       "      <th>rating</th>\n",
       "      <th>special_features</th>\n",
       "    </tr>\n",
       "  </thead>\n",
       "  <tbody>\n",
       "    <tr>\n",
       "      <th>0</th>\n",
       "      <td>1</td>\n",
       "      <td>ACADEMY DINOSAUR</td>\n",
       "      <td>A EPIC DRAMA OF A FEMINIST AND A MAD SCIENTIST...</td>\n",
       "      <td>2006</td>\n",
       "      <td>1</td>\n",
       "      <td>0</td>\n",
       "      <td>6</td>\n",
       "      <td>0.99</td>\n",
       "      <td>86</td>\n",
       "      <td>20.99</td>\n",
       "      <td>PG</td>\n",
       "      <td>Deleted Scenes,Behind the Scenes</td>\n",
       "    </tr>\n",
       "    <tr>\n",
       "      <th>1</th>\n",
       "      <td>2</td>\n",
       "      <td>ACE GOLDFINGER</td>\n",
       "      <td>A ASTOUNDING EPISTLE OF A DATABASE ADMINISTRAT...</td>\n",
       "      <td>2006</td>\n",
       "      <td>1</td>\n",
       "      <td>0</td>\n",
       "      <td>3</td>\n",
       "      <td>4.99</td>\n",
       "      <td>48</td>\n",
       "      <td>12.99</td>\n",
       "      <td>G</td>\n",
       "      <td>Trailers,Deleted Scenes</td>\n",
       "    </tr>\n",
       "    <tr>\n",
       "      <th>2</th>\n",
       "      <td>3</td>\n",
       "      <td>ADAPTATION HOLES</td>\n",
       "      <td>A ASTOUNDING REFLECTION OF A LUMBERJACK AND A ...</td>\n",
       "      <td>2006</td>\n",
       "      <td>1</td>\n",
       "      <td>0</td>\n",
       "      <td>7</td>\n",
       "      <td>2.99</td>\n",
       "      <td>50</td>\n",
       "      <td>18.99</td>\n",
       "      <td>NC-17</td>\n",
       "      <td>Trailers,Deleted Scenes</td>\n",
       "    </tr>\n",
       "  </tbody>\n",
       "</table>\n",
       "</div>"
      ],
      "text/plain": [
       "   film_id             title  \\\n",
       "0        1  ACADEMY DINOSAUR   \n",
       "1        2    ACE GOLDFINGER   \n",
       "2        3  ADAPTATION HOLES   \n",
       "\n",
       "                                         description  release_year  \\\n",
       "0  A EPIC DRAMA OF A FEMINIST AND A MAD SCIENTIST...          2006   \n",
       "1  A ASTOUNDING EPISTLE OF A DATABASE ADMINISTRAT...          2006   \n",
       "2  A ASTOUNDING REFLECTION OF A LUMBERJACK AND A ...          2006   \n",
       "\n",
       "   language_id  original_language_id  rental_duration  rental_rate  length  \\\n",
       "0            1                     0                6         0.99      86   \n",
       "1            1                     0                3         4.99      48   \n",
       "2            1                     0                7         2.99      50   \n",
       "\n",
       "   replacement_cost rating                  special_features  \n",
       "0             20.99     PG  Deleted Scenes,Behind the Scenes  \n",
       "1             12.99      G           Trailers,Deleted Scenes  \n",
       "2             18.99  NC-17           Trailers,Deleted Scenes  "
      ]
     },
     "execution_count": 10,
     "metadata": {},
     "output_type": "execute_result"
    }
   ],
   "source": [
    "film = pd.read_csv('../data/1-clean/film.csv')\n",
    "film.head(3)"
   ]
  },
  {
   "cell_type": "markdown",
   "id": "97ec58a3-186d-478c-97da-7079a6203ecd",
   "metadata": {},
   "source": [
    "First, we call a function that receives the column to return a list with all the elements and transform them to set. Then we create a DataFrame with the values of the list and its own id."
   ]
  },
  {
   "cell_type": "code",
   "execution_count": 11,
   "id": "5ac7fd3c-7282-4bae-a898-8bb3909f1ff8",
   "metadata": {},
   "outputs": [
    {
     "data": {
      "text/plain": [
       "{'Behind the Scenes', 'Commentaries', 'Deleted Scenes', 'None', 'Trailers'}"
      ]
     },
     "execution_count": 11,
     "metadata": {},
     "output_type": "execute_result"
    }
   ],
   "source": [
    "sf_set= set(sc.column_to_list(film.special_features))\n",
    "\n",
    "sf_set.add('None') #For the films that doesn't have one\n",
    "\n",
    "sf_set"
   ]
  },
  {
   "cell_type": "code",
   "execution_count": 12,
   "id": "e53c7329-c78e-4845-a949-9d2a53f86953",
   "metadata": {},
   "outputs": [
    {
     "data": {
      "text/html": [
       "<div>\n",
       "<style scoped>\n",
       "    .dataframe tbody tr th:only-of-type {\n",
       "        vertical-align: middle;\n",
       "    }\n",
       "\n",
       "    .dataframe tbody tr th {\n",
       "        vertical-align: top;\n",
       "    }\n",
       "\n",
       "    .dataframe thead th {\n",
       "        text-align: right;\n",
       "    }\n",
       "</style>\n",
       "<table border=\"1\" class=\"dataframe\">\n",
       "  <thead>\n",
       "    <tr style=\"text-align: right;\">\n",
       "      <th></th>\n",
       "      <th>sp_id</th>\n",
       "      <th>special_feature</th>\n",
       "    </tr>\n",
       "  </thead>\n",
       "  <tbody>\n",
       "    <tr>\n",
       "      <th>0</th>\n",
       "      <td>0</td>\n",
       "      <td>None</td>\n",
       "    </tr>\n",
       "    <tr>\n",
       "      <th>1</th>\n",
       "      <td>1</td>\n",
       "      <td>Commentaries</td>\n",
       "    </tr>\n",
       "    <tr>\n",
       "      <th>2</th>\n",
       "      <td>2</td>\n",
       "      <td>Trailers</td>\n",
       "    </tr>\n",
       "    <tr>\n",
       "      <th>3</th>\n",
       "      <td>3</td>\n",
       "      <td>Deleted Scenes</td>\n",
       "    </tr>\n",
       "    <tr>\n",
       "      <th>4</th>\n",
       "      <td>4</td>\n",
       "      <td>Behind the Scenes</td>\n",
       "    </tr>\n",
       "  </tbody>\n",
       "</table>\n",
       "</div>"
      ],
      "text/plain": [
       "   sp_id    special_feature\n",
       "0      0               None\n",
       "1      1       Commentaries\n",
       "2      2           Trailers\n",
       "3      3     Deleted Scenes\n",
       "4      4  Behind the Scenes"
      ]
     },
     "execution_count": 12,
     "metadata": {},
     "output_type": "execute_result"
    }
   ],
   "source": [
    "sf_dict= {'sp_id': [i for i in range(0,len(sf_set))], \n",
    "          'special_feature': list(sf_set)}\n",
    "\n",
    "special_features= pd.DataFrame(sf_dict)\n",
    "\n",
    "special_features"
   ]
  },
  {
   "cell_type": "markdown",
   "id": "0ffe9885-ac96-4c25-ae46-180a80bd3a2a",
   "metadata": {},
   "source": [
    "#### Asociación con film: many to many\n",
    "On the other hand, we add 4 columns to the df film with its special_features separated. With the previos df we know the maximum is 4, so we create a function that receives the string of all the special_features per film and separates it (with the character that we tell it), in a list of the length that we want, in this case 4. And add it"
   ]
  },
  {
   "cell_type": "code",
   "execution_count": 13,
   "id": "39dce55d-d414-4cce-9fc2-183f347c2797",
   "metadata": {},
   "outputs": [
    {
     "data": {
      "text/plain": [
       "['Deleted Scenes', 'Behind the Scenes', 'None', 'None']"
      ]
     },
     "execution_count": 13,
     "metadata": {},
     "output_type": "execute_result"
    }
   ],
   "source": [
    "sc.split_string('Deleted Scenes,Behind the Scenes', ',', 4, 'None')"
   ]
  },
  {
   "cell_type": "code",
   "execution_count": 14,
   "id": "f2e46d63-efb3-449b-b537-29313d40839d",
   "metadata": {},
   "outputs": [
    {
     "data": {
      "text/html": [
       "<div>\n",
       "<style scoped>\n",
       "    .dataframe tbody tr th:only-of-type {\n",
       "        vertical-align: middle;\n",
       "    }\n",
       "\n",
       "    .dataframe tbody tr th {\n",
       "        vertical-align: top;\n",
       "    }\n",
       "\n",
       "    .dataframe thead th {\n",
       "        text-align: right;\n",
       "    }\n",
       "</style>\n",
       "<table border=\"1\" class=\"dataframe\">\n",
       "  <thead>\n",
       "    <tr style=\"text-align: right;\">\n",
       "      <th></th>\n",
       "      <th>film_id</th>\n",
       "      <th>title</th>\n",
       "      <th>description</th>\n",
       "      <th>release_year</th>\n",
       "      <th>language_id</th>\n",
       "      <th>original_language_id</th>\n",
       "      <th>rental_duration</th>\n",
       "      <th>rental_rate</th>\n",
       "      <th>length</th>\n",
       "      <th>replacement_cost</th>\n",
       "      <th>rating</th>\n",
       "      <th>special_features</th>\n",
       "      <th>sf1</th>\n",
       "      <th>sf2</th>\n",
       "      <th>sf3</th>\n",
       "      <th>sf4</th>\n",
       "    </tr>\n",
       "  </thead>\n",
       "  <tbody>\n",
       "    <tr>\n",
       "      <th>0</th>\n",
       "      <td>1</td>\n",
       "      <td>ACADEMY DINOSAUR</td>\n",
       "      <td>A EPIC DRAMA OF A FEMINIST AND A MAD SCIENTIST...</td>\n",
       "      <td>2006</td>\n",
       "      <td>1</td>\n",
       "      <td>0</td>\n",
       "      <td>6</td>\n",
       "      <td>0.99</td>\n",
       "      <td>86</td>\n",
       "      <td>20.99</td>\n",
       "      <td>PG</td>\n",
       "      <td>Deleted Scenes,Behind the Scenes</td>\n",
       "      <td>Deleted Scenes</td>\n",
       "      <td>Behind the Scenes</td>\n",
       "      <td>None</td>\n",
       "      <td>None</td>\n",
       "    </tr>\n",
       "    <tr>\n",
       "      <th>1</th>\n",
       "      <td>2</td>\n",
       "      <td>ACE GOLDFINGER</td>\n",
       "      <td>A ASTOUNDING EPISTLE OF A DATABASE ADMINISTRAT...</td>\n",
       "      <td>2006</td>\n",
       "      <td>1</td>\n",
       "      <td>0</td>\n",
       "      <td>3</td>\n",
       "      <td>4.99</td>\n",
       "      <td>48</td>\n",
       "      <td>12.99</td>\n",
       "      <td>G</td>\n",
       "      <td>Trailers,Deleted Scenes</td>\n",
       "      <td>Trailers</td>\n",
       "      <td>Deleted Scenes</td>\n",
       "      <td>None</td>\n",
       "      <td>None</td>\n",
       "    </tr>\n",
       "  </tbody>\n",
       "</table>\n",
       "</div>"
      ],
      "text/plain": [
       "   film_id             title  \\\n",
       "0        1  ACADEMY DINOSAUR   \n",
       "1        2    ACE GOLDFINGER   \n",
       "\n",
       "                                         description  release_year  \\\n",
       "0  A EPIC DRAMA OF A FEMINIST AND A MAD SCIENTIST...          2006   \n",
       "1  A ASTOUNDING EPISTLE OF A DATABASE ADMINISTRAT...          2006   \n",
       "\n",
       "   language_id  original_language_id  rental_duration  rental_rate  length  \\\n",
       "0            1                     0                6         0.99      86   \n",
       "1            1                     0                3         4.99      48   \n",
       "\n",
       "   replacement_cost rating                  special_features             sf1  \\\n",
       "0             20.99     PG  Deleted Scenes,Behind the Scenes  Deleted Scenes   \n",
       "1             12.99      G           Trailers,Deleted Scenes        Trailers   \n",
       "\n",
       "                 sf2   sf3   sf4  \n",
       "0  Behind the Scenes  None  None  \n",
       "1     Deleted Scenes  None  None  "
      ]
     },
     "execution_count": 14,
     "metadata": {},
     "output_type": "execute_result"
    }
   ],
   "source": [
    "film[['sf1','sf2','sf3','sf4']]= [sc.split_string(e, ',',4,'None') for e in film.special_features]\n",
    "\n",
    "film.head(2)"
   ]
  },
  {
   "cell_type": "markdown",
   "id": "b2b46bfd-a435-45b8-a8a2-5c04110babfe",
   "metadata": {},
   "source": [
    "And we take the film_id and the four new columns and create a temporary dataframe. The intention of all this is to create a table \"film_id_has_special_features\" in SQL"
   ]
  },
  {
   "cell_type": "code",
   "execution_count": 15,
   "id": "0901010d-9fc1-4592-918d-cde16bf61698",
   "metadata": {},
   "outputs": [
    {
     "data": {
      "text/html": [
       "<div>\n",
       "<style scoped>\n",
       "    .dataframe tbody tr th:only-of-type {\n",
       "        vertical-align: middle;\n",
       "    }\n",
       "\n",
       "    .dataframe tbody tr th {\n",
       "        vertical-align: top;\n",
       "    }\n",
       "\n",
       "    .dataframe thead th {\n",
       "        text-align: right;\n",
       "    }\n",
       "</style>\n",
       "<table border=\"1\" class=\"dataframe\">\n",
       "  <thead>\n",
       "    <tr style=\"text-align: right;\">\n",
       "      <th></th>\n",
       "      <th>film_id</th>\n",
       "      <th>sf1</th>\n",
       "      <th>sf2</th>\n",
       "      <th>sf3</th>\n",
       "      <th>sf4</th>\n",
       "    </tr>\n",
       "  </thead>\n",
       "  <tbody>\n",
       "    <tr>\n",
       "      <th>0</th>\n",
       "      <td>1</td>\n",
       "      <td>Deleted Scenes</td>\n",
       "      <td>Behind the Scenes</td>\n",
       "      <td>None</td>\n",
       "      <td>None</td>\n",
       "    </tr>\n",
       "    <tr>\n",
       "      <th>1</th>\n",
       "      <td>2</td>\n",
       "      <td>Trailers</td>\n",
       "      <td>Deleted Scenes</td>\n",
       "      <td>None</td>\n",
       "      <td>None</td>\n",
       "    </tr>\n",
       "    <tr>\n",
       "      <th>2</th>\n",
       "      <td>3</td>\n",
       "      <td>Trailers</td>\n",
       "      <td>Deleted Scenes</td>\n",
       "      <td>None</td>\n",
       "      <td>None</td>\n",
       "    </tr>\n",
       "    <tr>\n",
       "      <th>3</th>\n",
       "      <td>4</td>\n",
       "      <td>Commentaries</td>\n",
       "      <td>Behind the Scenes</td>\n",
       "      <td>None</td>\n",
       "      <td>None</td>\n",
       "    </tr>\n",
       "    <tr>\n",
       "      <th>4</th>\n",
       "      <td>5</td>\n",
       "      <td>Deleted Scenes</td>\n",
       "      <td>None</td>\n",
       "      <td>None</td>\n",
       "      <td>None</td>\n",
       "    </tr>\n",
       "  </tbody>\n",
       "</table>\n",
       "</div>"
      ],
      "text/plain": [
       "   film_id             sf1                sf2   sf3   sf4\n",
       "0        1  Deleted Scenes  Behind the Scenes  None  None\n",
       "1        2        Trailers     Deleted Scenes  None  None\n",
       "2        3        Trailers     Deleted Scenes  None  None\n",
       "3        4    Commentaries  Behind the Scenes  None  None\n",
       "4        5  Deleted Scenes               None  None  None"
      ]
     },
     "execution_count": 15,
     "metadata": {},
     "output_type": "execute_result"
    }
   ],
   "source": [
    "film_sf_temp= film[['film_id','sf1','sf2','sf3','sf4']]\n",
    "\n",
    "film_sf_temp.head(5)"
   ]
  },
  {
   "cell_type": "code",
   "execution_count": 16,
   "id": "39c55e22-d835-4afb-ac2a-c340f5ca3d60",
   "metadata": {},
   "outputs": [],
   "source": [
    "lst_films=[]\n",
    "lst_sp=[]\n",
    "\n",
    "for index, row in film_sf_temp.iterrows():\n",
    "    \n",
    "    film_id= row['film_id']\n",
    "    \n",
    "    for col in ['sf1', 'sf2', 'sf3', 'sf4']:\n",
    "        \n",
    "        value = row[col]\n",
    "        \n",
    "        if(value!='None'):\n",
    "            \n",
    "            lst_films.append(film_id)\n",
    "            \n",
    "            lst_sp.append(value)\n",
    "            \n",
    "#If you are reading this, is because I couldn't find the time to redo this. It is not the efficienter way and I know :(             "
   ]
  },
  {
   "cell_type": "code",
   "execution_count": 17,
   "id": "6bc887d4-df5b-4ff2-8964-2156f5a31cfc",
   "metadata": {},
   "outputs": [
    {
     "data": {
      "text/html": [
       "<div>\n",
       "<style scoped>\n",
       "    .dataframe tbody tr th:only-of-type {\n",
       "        vertical-align: middle;\n",
       "    }\n",
       "\n",
       "    .dataframe tbody tr th {\n",
       "        vertical-align: top;\n",
       "    }\n",
       "\n",
       "    .dataframe thead th {\n",
       "        text-align: right;\n",
       "    }\n",
       "</style>\n",
       "<table border=\"1\" class=\"dataframe\">\n",
       "  <thead>\n",
       "    <tr style=\"text-align: right;\">\n",
       "      <th></th>\n",
       "      <th>film_id</th>\n",
       "      <th>sp_id</th>\n",
       "    </tr>\n",
       "  </thead>\n",
       "  <tbody>\n",
       "    <tr>\n",
       "      <th>0</th>\n",
       "      <td>1</td>\n",
       "      <td>Deleted Scenes</td>\n",
       "    </tr>\n",
       "    <tr>\n",
       "      <th>1</th>\n",
       "      <td>1</td>\n",
       "      <td>Behind the Scenes</td>\n",
       "    </tr>\n",
       "    <tr>\n",
       "      <th>2</th>\n",
       "      <td>2</td>\n",
       "      <td>Trailers</td>\n",
       "    </tr>\n",
       "  </tbody>\n",
       "</table>\n",
       "</div>"
      ],
      "text/plain": [
       "   film_id              sp_id\n",
       "0        1     Deleted Scenes\n",
       "1        1  Behind the Scenes\n",
       "2        2           Trailers"
      ]
     },
     "execution_count": 17,
     "metadata": {},
     "output_type": "execute_result"
    }
   ],
   "source": [
    "dict_temp= {'film_id': lst_films, \n",
    "          'sp_id': lst_sp}\n",
    "\n",
    "film_has_special_features = pd.DataFrame(dict_temp)\n",
    "\n",
    "film_has_special_features.head(3)"
   ]
  },
  {
   "cell_type": "markdown",
   "id": "9431132a-9884-4db0-916e-8fdd227af2ab",
   "metadata": {},
   "source": [
    "Convert the special_features column to its corresponding id"
   ]
  },
  {
   "cell_type": "code",
   "execution_count": 18,
   "id": "bc758d02-fbf9-435d-afba-db78c94d4f86",
   "metadata": {},
   "outputs": [
    {
     "data": {
      "text/html": [
       "<div>\n",
       "<style scoped>\n",
       "    .dataframe tbody tr th:only-of-type {\n",
       "        vertical-align: middle;\n",
       "    }\n",
       "\n",
       "    .dataframe tbody tr th {\n",
       "        vertical-align: top;\n",
       "    }\n",
       "\n",
       "    .dataframe thead th {\n",
       "        text-align: right;\n",
       "    }\n",
       "</style>\n",
       "<table border=\"1\" class=\"dataframe\">\n",
       "  <thead>\n",
       "    <tr style=\"text-align: right;\">\n",
       "      <th></th>\n",
       "      <th>sp_id</th>\n",
       "      <th>special_feature</th>\n",
       "    </tr>\n",
       "  </thead>\n",
       "  <tbody>\n",
       "    <tr>\n",
       "      <th>0</th>\n",
       "      <td>0</td>\n",
       "      <td>None</td>\n",
       "    </tr>\n",
       "    <tr>\n",
       "      <th>1</th>\n",
       "      <td>1</td>\n",
       "      <td>Commentaries</td>\n",
       "    </tr>\n",
       "    <tr>\n",
       "      <th>2</th>\n",
       "      <td>2</td>\n",
       "      <td>Trailers</td>\n",
       "    </tr>\n",
       "    <tr>\n",
       "      <th>3</th>\n",
       "      <td>3</td>\n",
       "      <td>Deleted Scenes</td>\n",
       "    </tr>\n",
       "    <tr>\n",
       "      <th>4</th>\n",
       "      <td>4</td>\n",
       "      <td>Behind the Scenes</td>\n",
       "    </tr>\n",
       "  </tbody>\n",
       "</table>\n",
       "</div>"
      ],
      "text/plain": [
       "   sp_id    special_feature\n",
       "0      0               None\n",
       "1      1       Commentaries\n",
       "2      2           Trailers\n",
       "3      3     Deleted Scenes\n",
       "4      4  Behind the Scenes"
      ]
     },
     "execution_count": 18,
     "metadata": {},
     "output_type": "execute_result"
    }
   ],
   "source": [
    "special_features.head()"
   ]
  },
  {
   "cell_type": "markdown",
   "id": "26ff347d-ed5d-4480-8e92-3d1d2bcde6f4",
   "metadata": {},
   "source": [
    "#### Create table film_has_special_features"
   ]
  },
  {
   "cell_type": "code",
   "execution_count": 19,
   "id": "0c76e378-294f-42e8-94fc-57d30c43d039",
   "metadata": {},
   "outputs": [],
   "source": [
    "for e in range(len(film_has_special_features)):\n",
    "    \n",
    "    for index, row in special_features.iterrows():\n",
    "        \n",
    "        if(film_has_special_features.loc[e, 'sp_id']==row['special_feature']):\n",
    "            \n",
    "                film_has_special_features.loc[e, 'sp_id']=row['sp_id']\n",
    "    "
   ]
  },
  {
   "cell_type": "code",
   "execution_count": 20,
   "id": "f9e14786-ab08-43e7-9aa4-e45925fbf55a",
   "metadata": {},
   "outputs": [
    {
     "data": {
      "text/html": [
       "<div>\n",
       "<style scoped>\n",
       "    .dataframe tbody tr th:only-of-type {\n",
       "        vertical-align: middle;\n",
       "    }\n",
       "\n",
       "    .dataframe tbody tr th {\n",
       "        vertical-align: top;\n",
       "    }\n",
       "\n",
       "    .dataframe thead th {\n",
       "        text-align: right;\n",
       "    }\n",
       "</style>\n",
       "<table border=\"1\" class=\"dataframe\">\n",
       "  <thead>\n",
       "    <tr style=\"text-align: right;\">\n",
       "      <th></th>\n",
       "      <th>film_id</th>\n",
       "      <th>sp_id</th>\n",
       "    </tr>\n",
       "  </thead>\n",
       "  <tbody>\n",
       "    <tr>\n",
       "      <th>0</th>\n",
       "      <td>1</td>\n",
       "      <td>3</td>\n",
       "    </tr>\n",
       "    <tr>\n",
       "      <th>1</th>\n",
       "      <td>1</td>\n",
       "      <td>4</td>\n",
       "    </tr>\n",
       "    <tr>\n",
       "      <th>2</th>\n",
       "      <td>2</td>\n",
       "      <td>2</td>\n",
       "    </tr>\n",
       "    <tr>\n",
       "      <th>3</th>\n",
       "      <td>2</td>\n",
       "      <td>3</td>\n",
       "    </tr>\n",
       "    <tr>\n",
       "      <th>4</th>\n",
       "      <td>3</td>\n",
       "      <td>2</td>\n",
       "    </tr>\n",
       "  </tbody>\n",
       "</table>\n",
       "</div>"
      ],
      "text/plain": [
       "   film_id sp_id\n",
       "0        1     3\n",
       "1        1     4\n",
       "2        2     2\n",
       "3        2     3\n",
       "4        3     2"
      ]
     },
     "execution_count": 20,
     "metadata": {},
     "output_type": "execute_result"
    }
   ],
   "source": [
    "film_has_special_features.head()"
   ]
  },
  {
   "cell_type": "markdown",
   "id": "05043299-3ca1-4cc3-93c1-e49fd2edde9b",
   "metadata": {},
   "source": [
    "Finally, we delete the related columns of the table film"
   ]
  },
  {
   "cell_type": "code",
   "execution_count": 21,
   "id": "0be7101f-33fc-4ad4-a8d0-bf36a887b21a",
   "metadata": {},
   "outputs": [],
   "source": [
    "film.drop(columns=['special_features','sf1','sf2','sf3','sf4'], inplace=True)"
   ]
  },
  {
   "cell_type": "markdown",
   "id": "ea14d179-55ce-46a6-b43e-eb74f63008b6",
   "metadata": {
    "jp-MarkdownHeadingCollapsed": true
   },
   "source": [
    "### 2.2. category\n",
    "The only table that associates category with \"film\" information is \"old_HDD\", so I created a new column in \"films\" called \"category_id\" and filled it with the records that match in \"old_HDD.title\" with \"category_id\". \n",
    "The rest, with \"Unknown\" category"
   ]
  },
  {
   "cell_type": "code",
   "execution_count": 22,
   "id": "89d88ba0-7c44-430d-be3a-0290615abc8a",
   "metadata": {},
   "outputs": [
    {
     "data": {
      "text/html": [
       "<div>\n",
       "<style scoped>\n",
       "    .dataframe tbody tr th:only-of-type {\n",
       "        vertical-align: middle;\n",
       "    }\n",
       "\n",
       "    .dataframe tbody tr th {\n",
       "        vertical-align: top;\n",
       "    }\n",
       "\n",
       "    .dataframe thead th {\n",
       "        text-align: right;\n",
       "    }\n",
       "</style>\n",
       "<table border=\"1\" class=\"dataframe\">\n",
       "  <thead>\n",
       "    <tr style=\"text-align: right;\">\n",
       "      <th></th>\n",
       "      <th>first_name</th>\n",
       "      <th>last_name</th>\n",
       "      <th>title</th>\n",
       "      <th>category_id</th>\n",
       "    </tr>\n",
       "  </thead>\n",
       "  <tbody>\n",
       "    <tr>\n",
       "      <th>0</th>\n",
       "      <td>Penelope</td>\n",
       "      <td>Guiness</td>\n",
       "      <td>ACADEMY DINOSAUR</td>\n",
       "      <td>6</td>\n",
       "    </tr>\n",
       "    <tr>\n",
       "      <th>1</th>\n",
       "      <td>Penelope</td>\n",
       "      <td>Guiness</td>\n",
       "      <td>ANACONDA CONFESSIONS</td>\n",
       "      <td>2</td>\n",
       "    </tr>\n",
       "    <tr>\n",
       "      <th>2</th>\n",
       "      <td>Penelope</td>\n",
       "      <td>Guiness</td>\n",
       "      <td>ANGELS LIFE</td>\n",
       "      <td>13</td>\n",
       "    </tr>\n",
       "    <tr>\n",
       "      <th>3</th>\n",
       "      <td>Penelope</td>\n",
       "      <td>Guiness</td>\n",
       "      <td>BULWORTH COMMANDMENTS</td>\n",
       "      <td>10</td>\n",
       "    </tr>\n",
       "    <tr>\n",
       "      <th>4</th>\n",
       "      <td>Penelope</td>\n",
       "      <td>Guiness</td>\n",
       "      <td>CHEAPER CLYDE</td>\n",
       "      <td>14</td>\n",
       "    </tr>\n",
       "  </tbody>\n",
       "</table>\n",
       "</div>"
      ],
      "text/plain": [
       "  first_name last_name                  title  category_id\n",
       "0   Penelope   Guiness       ACADEMY DINOSAUR            6\n",
       "1   Penelope   Guiness   ANACONDA CONFESSIONS            2\n",
       "2   Penelope   Guiness            ANGELS LIFE           13\n",
       "3   Penelope   Guiness  BULWORTH COMMANDMENTS           10\n",
       "4   Penelope   Guiness          CHEAPER CLYDE           14"
      ]
     },
     "execution_count": 22,
     "metadata": {},
     "output_type": "execute_result"
    }
   ],
   "source": [
    "old_HDD = pd.read_csv('../data/1-clean/old_HDD.csv')\n",
    "\n",
    "old_HDD.head()"
   ]
  },
  {
   "cell_type": "code",
   "execution_count": 23,
   "id": "ef76c03a-36f0-40fc-8d5a-59407d7ba0bf",
   "metadata": {},
   "outputs": [
    {
     "data": {
      "text/html": [
       "<div>\n",
       "<style scoped>\n",
       "    .dataframe tbody tr th:only-of-type {\n",
       "        vertical-align: middle;\n",
       "    }\n",
       "\n",
       "    .dataframe tbody tr th {\n",
       "        vertical-align: top;\n",
       "    }\n",
       "\n",
       "    .dataframe thead th {\n",
       "        text-align: right;\n",
       "    }\n",
       "</style>\n",
       "<table border=\"1\" class=\"dataframe\">\n",
       "  <thead>\n",
       "    <tr style=\"text-align: right;\">\n",
       "      <th></th>\n",
       "      <th>film_id</th>\n",
       "      <th>title</th>\n",
       "      <th>description</th>\n",
       "      <th>release_year</th>\n",
       "      <th>language_id</th>\n",
       "      <th>original_language_id</th>\n",
       "      <th>rental_duration</th>\n",
       "      <th>rental_rate</th>\n",
       "      <th>length</th>\n",
       "      <th>replacement_cost</th>\n",
       "      <th>rating</th>\n",
       "    </tr>\n",
       "  </thead>\n",
       "  <tbody>\n",
       "    <tr>\n",
       "      <th>0</th>\n",
       "      <td>1</td>\n",
       "      <td>ACADEMY DINOSAUR</td>\n",
       "      <td>A EPIC DRAMA OF A FEMINIST AND A MAD SCIENTIST...</td>\n",
       "      <td>2006</td>\n",
       "      <td>1</td>\n",
       "      <td>0</td>\n",
       "      <td>6</td>\n",
       "      <td>0.99</td>\n",
       "      <td>86</td>\n",
       "      <td>20.99</td>\n",
       "      <td>PG</td>\n",
       "    </tr>\n",
       "    <tr>\n",
       "      <th>1</th>\n",
       "      <td>2</td>\n",
       "      <td>ACE GOLDFINGER</td>\n",
       "      <td>A ASTOUNDING EPISTLE OF A DATABASE ADMINISTRAT...</td>\n",
       "      <td>2006</td>\n",
       "      <td>1</td>\n",
       "      <td>0</td>\n",
       "      <td>3</td>\n",
       "      <td>4.99</td>\n",
       "      <td>48</td>\n",
       "      <td>12.99</td>\n",
       "      <td>G</td>\n",
       "    </tr>\n",
       "    <tr>\n",
       "      <th>2</th>\n",
       "      <td>3</td>\n",
       "      <td>ADAPTATION HOLES</td>\n",
       "      <td>A ASTOUNDING REFLECTION OF A LUMBERJACK AND A ...</td>\n",
       "      <td>2006</td>\n",
       "      <td>1</td>\n",
       "      <td>0</td>\n",
       "      <td>7</td>\n",
       "      <td>2.99</td>\n",
       "      <td>50</td>\n",
       "      <td>18.99</td>\n",
       "      <td>NC-17</td>\n",
       "    </tr>\n",
       "    <tr>\n",
       "      <th>3</th>\n",
       "      <td>4</td>\n",
       "      <td>AFFAIR PREJUDICE</td>\n",
       "      <td>A FANCIFUL DOCUMENTARY OF A FRISBEE AND A LUMB...</td>\n",
       "      <td>2006</td>\n",
       "      <td>1</td>\n",
       "      <td>0</td>\n",
       "      <td>5</td>\n",
       "      <td>2.99</td>\n",
       "      <td>117</td>\n",
       "      <td>26.99</td>\n",
       "      <td>G</td>\n",
       "    </tr>\n",
       "    <tr>\n",
       "      <th>4</th>\n",
       "      <td>5</td>\n",
       "      <td>AFRICAN EGG</td>\n",
       "      <td>A FAST-PACED DOCUMENTARY OF A PASTRY CHEF AND ...</td>\n",
       "      <td>2006</td>\n",
       "      <td>1</td>\n",
       "      <td>0</td>\n",
       "      <td>6</td>\n",
       "      <td>2.99</td>\n",
       "      <td>130</td>\n",
       "      <td>22.99</td>\n",
       "      <td>G</td>\n",
       "    </tr>\n",
       "  </tbody>\n",
       "</table>\n",
       "</div>"
      ],
      "text/plain": [
       "   film_id             title  \\\n",
       "0        1  ACADEMY DINOSAUR   \n",
       "1        2    ACE GOLDFINGER   \n",
       "2        3  ADAPTATION HOLES   \n",
       "3        4  AFFAIR PREJUDICE   \n",
       "4        5       AFRICAN EGG   \n",
       "\n",
       "                                         description  release_year  \\\n",
       "0  A EPIC DRAMA OF A FEMINIST AND A MAD SCIENTIST...          2006   \n",
       "1  A ASTOUNDING EPISTLE OF A DATABASE ADMINISTRAT...          2006   \n",
       "2  A ASTOUNDING REFLECTION OF A LUMBERJACK AND A ...          2006   \n",
       "3  A FANCIFUL DOCUMENTARY OF A FRISBEE AND A LUMB...          2006   \n",
       "4  A FAST-PACED DOCUMENTARY OF A PASTRY CHEF AND ...          2006   \n",
       "\n",
       "   language_id  original_language_id  rental_duration  rental_rate  length  \\\n",
       "0            1                     0                6         0.99      86   \n",
       "1            1                     0                3         4.99      48   \n",
       "2            1                     0                7         2.99      50   \n",
       "3            1                     0                5         2.99     117   \n",
       "4            1                     0                6         2.99     130   \n",
       "\n",
       "   replacement_cost rating  \n",
       "0             20.99     PG  \n",
       "1             12.99      G  \n",
       "2             18.99  NC-17  \n",
       "3             26.99      G  \n",
       "4             22.99      G  "
      ]
     },
     "execution_count": 23,
     "metadata": {},
     "output_type": "execute_result"
    }
   ],
   "source": [
    "film.head()"
   ]
  },
  {
   "cell_type": "code",
   "execution_count": 24,
   "id": "a726b4d8-b51b-43ef-8b29-d25d68bd3e76",
   "metadata": {},
   "outputs": [],
   "source": [
    "film['category_id'] = np.nan"
   ]
  },
  {
   "cell_type": "code",
   "execution_count": 25,
   "id": "81a252c0-28da-4543-8d62-8d932772e372",
   "metadata": {},
   "outputs": [],
   "source": [
    "film = film.apply(sc.fill_column, df_to_compare=old_HDD, column_to_compare='title', column_to_change='category_id', axis=1)"
   ]
  },
  {
   "cell_type": "markdown",
   "id": "72b63bfa-beaf-42ae-b3eb-7adcd21881fe",
   "metadata": {},
   "source": [
    "Once the column is filled, there will be null values that we will replace with category_id 17 that we add to the category table directly. Then we change the value to integer which is how it will go in the database"
   ]
  },
  {
   "cell_type": "code",
   "execution_count": 26,
   "id": "7a7462f5-705a-40ac-8b8e-de87b1a2c087",
   "metadata": {},
   "outputs": [
    {
     "data": {
      "text/plain": [
       "(386, 12)"
      ]
     },
     "execution_count": 26,
     "metadata": {},
     "output_type": "execute_result"
    }
   ],
   "source": [
    "film[(film.category_id.isna())].shape"
   ]
  },
  {
   "cell_type": "code",
   "execution_count": 27,
   "id": "3930245a-4817-4fac-9333-6dc593679deb",
   "metadata": {},
   "outputs": [
    {
     "data": {
      "text/html": [
       "<div>\n",
       "<style scoped>\n",
       "    .dataframe tbody tr th:only-of-type {\n",
       "        vertical-align: middle;\n",
       "    }\n",
       "\n",
       "    .dataframe tbody tr th {\n",
       "        vertical-align: top;\n",
       "    }\n",
       "\n",
       "    .dataframe thead th {\n",
       "        text-align: right;\n",
       "    }\n",
       "</style>\n",
       "<table border=\"1\" class=\"dataframe\">\n",
       "  <thead>\n",
       "    <tr style=\"text-align: right;\">\n",
       "      <th></th>\n",
       "      <th>category_id</th>\n",
       "      <th>name</th>\n",
       "    </tr>\n",
       "  </thead>\n",
       "  <tbody>\n",
       "    <tr>\n",
       "      <th>0</th>\n",
       "      <td>1</td>\n",
       "      <td>Action</td>\n",
       "    </tr>\n",
       "    <tr>\n",
       "      <th>1</th>\n",
       "      <td>2</td>\n",
       "      <td>Animation</td>\n",
       "    </tr>\n",
       "    <tr>\n",
       "      <th>2</th>\n",
       "      <td>3</td>\n",
       "      <td>Children</td>\n",
       "    </tr>\n",
       "    <tr>\n",
       "      <th>3</th>\n",
       "      <td>4</td>\n",
       "      <td>Classics</td>\n",
       "    </tr>\n",
       "    <tr>\n",
       "      <th>4</th>\n",
       "      <td>5</td>\n",
       "      <td>Comedy</td>\n",
       "    </tr>\n",
       "  </tbody>\n",
       "</table>\n",
       "</div>"
      ],
      "text/plain": [
       "   category_id       name\n",
       "0            1     Action\n",
       "1            2  Animation\n",
       "2            3   Children\n",
       "3            4   Classics\n",
       "4            5     Comedy"
      ]
     },
     "execution_count": 27,
     "metadata": {},
     "output_type": "execute_result"
    }
   ],
   "source": [
    "category = pd.read_csv('../data/1-clean/category.csv')\n",
    "\n",
    "category.head()"
   ]
  },
  {
   "cell_type": "code",
   "execution_count": 28,
   "id": "b90ac41e-4eb5-49ae-9e8e-16c68c8deb54",
   "metadata": {},
   "outputs": [
    {
     "data": {
      "text/html": [
       "<div>\n",
       "<style scoped>\n",
       "    .dataframe tbody tr th:only-of-type {\n",
       "        vertical-align: middle;\n",
       "    }\n",
       "\n",
       "    .dataframe tbody tr th {\n",
       "        vertical-align: top;\n",
       "    }\n",
       "\n",
       "    .dataframe thead th {\n",
       "        text-align: right;\n",
       "    }\n",
       "</style>\n",
       "<table border=\"1\" class=\"dataframe\">\n",
       "  <thead>\n",
       "    <tr style=\"text-align: right;\">\n",
       "      <th></th>\n",
       "      <th>category_id</th>\n",
       "      <th>name</th>\n",
       "    </tr>\n",
       "  </thead>\n",
       "  <tbody>\n",
       "    <tr>\n",
       "      <th>16</th>\n",
       "      <td>17</td>\n",
       "      <td>Unassigned</td>\n",
       "    </tr>\n",
       "  </tbody>\n",
       "</table>\n",
       "</div>"
      ],
      "text/plain": [
       "    category_id        name\n",
       "16           17  Unassigned"
      ]
     },
     "execution_count": 28,
     "metadata": {},
     "output_type": "execute_result"
    }
   ],
   "source": [
    "new_row = {'category_id': 17,'name': 'Unassigned'}\n",
    "\n",
    "category.loc[len(category)] = new_row\n",
    "\n",
    "category.tail(1)"
   ]
  },
  {
   "cell_type": "code",
   "execution_count": 29,
   "id": "74c4e1ab-3bd4-41ff-b1f7-94f6766efbf8",
   "metadata": {},
   "outputs": [
    {
     "name": "stdout",
     "output_type": "stream",
     "text": [
      "<class 'pandas.core.frame.DataFrame'>\n",
      "RangeIndex: 1000 entries, 0 to 999\n",
      "Data columns (total 12 columns):\n",
      " #   Column                Non-Null Count  Dtype  \n",
      "---  ------                --------------  -----  \n",
      " 0   film_id               1000 non-null   int64  \n",
      " 1   title                 1000 non-null   object \n",
      " 2   description           1000 non-null   object \n",
      " 3   release_year          1000 non-null   int64  \n",
      " 4   language_id           1000 non-null   int64  \n",
      " 5   original_language_id  1000 non-null   int64  \n",
      " 6   rental_duration       1000 non-null   int64  \n",
      " 7   rental_rate           1000 non-null   float64\n",
      " 8   length                1000 non-null   int64  \n",
      " 9   replacement_cost      1000 non-null   float64\n",
      " 10  rating                1000 non-null   object \n",
      " 11  category_id           614 non-null    float64\n",
      "dtypes: float64(3), int64(6), object(3)\n",
      "memory usage: 93.9+ KB\n"
     ]
    }
   ],
   "source": [
    "film.info()"
   ]
  },
  {
   "cell_type": "code",
   "execution_count": 30,
   "id": "1de5a8a4-4710-4b4b-899c-76a34acee9f7",
   "metadata": {},
   "outputs": [],
   "source": [
    "film['category_id']= film['category_id'].fillna(17)"
   ]
  },
  {
   "cell_type": "code",
   "execution_count": 31,
   "id": "1fcf2087-e33a-4f34-982a-9e9941ac2e5c",
   "metadata": {},
   "outputs": [],
   "source": [
    "film['category_id']=film['category_id'].astype('int')"
   ]
  },
  {
   "cell_type": "markdown",
   "id": "008d7435-5c7e-4f71-934b-72852a77e19d",
   "metadata": {},
   "source": [
    "Last but no least, drop the category_id column from old_HDD"
   ]
  },
  {
   "cell_type": "code",
   "execution_count": 32,
   "id": "ee6b90bf-9ecf-4ead-993e-52c6073f50d4",
   "metadata": {},
   "outputs": [],
   "source": [
    "old_HDD.drop(columns= 'category_id', inplace=True)"
   ]
  },
  {
   "cell_type": "markdown",
   "id": "3b37f36e-4b12-4e03-ac7d-d004f31f21cb",
   "metadata": {
    "jp-MarkdownHeadingCollapsed": true
   },
   "source": [
    "### 2.3. films & actors\n",
    "Now, let's get the party started: \n",
    "Actor and film is a many to many relation. So, the only way to associate those two is to create the \"film_has_actor\" table with their corresponding id. That is only possible thanks to the charming old_HDD table."
   ]
  },
  {
   "cell_type": "markdown",
   "id": "175cbca0-a3f8-481e-afd2-04cc08ca5eb7",
   "metadata": {},
   "source": [
    "First step, add film_id to old_HDD"
   ]
  },
  {
   "cell_type": "code",
   "execution_count": 33,
   "id": "df71aa55-fd5d-4316-91fd-bad5d14e94e9",
   "metadata": {},
   "outputs": [],
   "source": [
    "old_HDD['film_id']=0"
   ]
  },
  {
   "cell_type": "code",
   "execution_count": 34,
   "id": "f6b2b5f3-b930-49ed-9d2b-46f13cfb5a54",
   "metadata": {},
   "outputs": [
    {
     "data": {
      "text/html": [
       "<div>\n",
       "<style scoped>\n",
       "    .dataframe tbody tr th:only-of-type {\n",
       "        vertical-align: middle;\n",
       "    }\n",
       "\n",
       "    .dataframe tbody tr th {\n",
       "        vertical-align: top;\n",
       "    }\n",
       "\n",
       "    .dataframe thead th {\n",
       "        text-align: right;\n",
       "    }\n",
       "</style>\n",
       "<table border=\"1\" class=\"dataframe\">\n",
       "  <thead>\n",
       "    <tr style=\"text-align: right;\">\n",
       "      <th></th>\n",
       "      <th>first_name</th>\n",
       "      <th>last_name</th>\n",
       "      <th>title</th>\n",
       "      <th>film_id</th>\n",
       "    </tr>\n",
       "  </thead>\n",
       "  <tbody>\n",
       "    <tr>\n",
       "      <th>0</th>\n",
       "      <td>Penelope</td>\n",
       "      <td>Guiness</td>\n",
       "      <td>ACADEMY DINOSAUR</td>\n",
       "      <td>1</td>\n",
       "    </tr>\n",
       "    <tr>\n",
       "      <th>1</th>\n",
       "      <td>Penelope</td>\n",
       "      <td>Guiness</td>\n",
       "      <td>ANACONDA CONFESSIONS</td>\n",
       "      <td>23</td>\n",
       "    </tr>\n",
       "    <tr>\n",
       "      <th>2</th>\n",
       "      <td>Penelope</td>\n",
       "      <td>Guiness</td>\n",
       "      <td>ANGELS LIFE</td>\n",
       "      <td>25</td>\n",
       "    </tr>\n",
       "    <tr>\n",
       "      <th>3</th>\n",
       "      <td>Penelope</td>\n",
       "      <td>Guiness</td>\n",
       "      <td>BULWORTH COMMANDMENTS</td>\n",
       "      <td>106</td>\n",
       "    </tr>\n",
       "    <tr>\n",
       "      <th>4</th>\n",
       "      <td>Penelope</td>\n",
       "      <td>Guiness</td>\n",
       "      <td>CHEAPER CLYDE</td>\n",
       "      <td>140</td>\n",
       "    </tr>\n",
       "  </tbody>\n",
       "</table>\n",
       "</div>"
      ],
      "text/plain": [
       "  first_name last_name                  title  film_id\n",
       "0   Penelope   Guiness       ACADEMY DINOSAUR        1\n",
       "1   Penelope   Guiness   ANACONDA CONFESSIONS       23\n",
       "2   Penelope   Guiness            ANGELS LIFE       25\n",
       "3   Penelope   Guiness  BULWORTH COMMANDMENTS      106\n",
       "4   Penelope   Guiness          CHEAPER CLYDE      140"
      ]
     },
     "execution_count": 34,
     "metadata": {},
     "output_type": "execute_result"
    }
   ],
   "source": [
    "old_HDD = old_HDD.apply(sc.fill_column, df_to_compare=film, column_to_compare='title', column_to_change='film_id', axis=1)\n",
    "\n",
    "old_HDD.head()"
   ]
  },
  {
   "cell_type": "markdown",
   "id": "dcaed79c-34b9-472d-88b8-6c1934cda220",
   "metadata": {},
   "source": [
    "Second, add actor_id. For it we need to concat first and last name to compare it in the function"
   ]
  },
  {
   "cell_type": "code",
   "execution_count": 35,
   "id": "5e795ced-8c72-4c09-9110-df624dca3599",
   "metadata": {},
   "outputs": [],
   "source": [
    "old_HDD['full_name']= old_HDD['first_name']+' '+old_HDD['last_name']"
   ]
  },
  {
   "cell_type": "code",
   "execution_count": 36,
   "id": "9b4c2b37-6ec3-4791-ba22-563b43aedc03",
   "metadata": {},
   "outputs": [
    {
     "data": {
      "text/html": [
       "<div>\n",
       "<style scoped>\n",
       "    .dataframe tbody tr th:only-of-type {\n",
       "        vertical-align: middle;\n",
       "    }\n",
       "\n",
       "    .dataframe tbody tr th {\n",
       "        vertical-align: top;\n",
       "    }\n",
       "\n",
       "    .dataframe thead th {\n",
       "        text-align: right;\n",
       "    }\n",
       "</style>\n",
       "<table border=\"1\" class=\"dataframe\">\n",
       "  <thead>\n",
       "    <tr style=\"text-align: right;\">\n",
       "      <th></th>\n",
       "      <th>first_name</th>\n",
       "      <th>last_name</th>\n",
       "      <th>title</th>\n",
       "      <th>film_id</th>\n",
       "      <th>full_name</th>\n",
       "    </tr>\n",
       "  </thead>\n",
       "  <tbody>\n",
       "    <tr>\n",
       "      <th>0</th>\n",
       "      <td>Penelope</td>\n",
       "      <td>Guiness</td>\n",
       "      <td>ACADEMY DINOSAUR</td>\n",
       "      <td>1</td>\n",
       "      <td>Penelope Guiness</td>\n",
       "    </tr>\n",
       "    <tr>\n",
       "      <th>1</th>\n",
       "      <td>Penelope</td>\n",
       "      <td>Guiness</td>\n",
       "      <td>ANACONDA CONFESSIONS</td>\n",
       "      <td>23</td>\n",
       "      <td>Penelope Guiness</td>\n",
       "    </tr>\n",
       "    <tr>\n",
       "      <th>2</th>\n",
       "      <td>Penelope</td>\n",
       "      <td>Guiness</td>\n",
       "      <td>ANGELS LIFE</td>\n",
       "      <td>25</td>\n",
       "      <td>Penelope Guiness</td>\n",
       "    </tr>\n",
       "    <tr>\n",
       "      <th>3</th>\n",
       "      <td>Penelope</td>\n",
       "      <td>Guiness</td>\n",
       "      <td>BULWORTH COMMANDMENTS</td>\n",
       "      <td>106</td>\n",
       "      <td>Penelope Guiness</td>\n",
       "    </tr>\n",
       "    <tr>\n",
       "      <th>4</th>\n",
       "      <td>Penelope</td>\n",
       "      <td>Guiness</td>\n",
       "      <td>CHEAPER CLYDE</td>\n",
       "      <td>140</td>\n",
       "      <td>Penelope Guiness</td>\n",
       "    </tr>\n",
       "  </tbody>\n",
       "</table>\n",
       "</div>"
      ],
      "text/plain": [
       "  first_name last_name                  title  film_id         full_name\n",
       "0   Penelope   Guiness       ACADEMY DINOSAUR        1  Penelope Guiness\n",
       "1   Penelope   Guiness   ANACONDA CONFESSIONS       23  Penelope Guiness\n",
       "2   Penelope   Guiness            ANGELS LIFE       25  Penelope Guiness\n",
       "3   Penelope   Guiness  BULWORTH COMMANDMENTS      106  Penelope Guiness\n",
       "4   Penelope   Guiness          CHEAPER CLYDE      140  Penelope Guiness"
      ]
     },
     "execution_count": 36,
     "metadata": {},
     "output_type": "execute_result"
    }
   ],
   "source": [
    "old_HDD.head()"
   ]
  },
  {
   "cell_type": "code",
   "execution_count": 37,
   "id": "ff21a53a-d4c0-4aba-b0ae-cb4515598628",
   "metadata": {},
   "outputs": [
    {
     "data": {
      "text/html": [
       "<div>\n",
       "<style scoped>\n",
       "    .dataframe tbody tr th:only-of-type {\n",
       "        vertical-align: middle;\n",
       "    }\n",
       "\n",
       "    .dataframe tbody tr th {\n",
       "        vertical-align: top;\n",
       "    }\n",
       "\n",
       "    .dataframe thead th {\n",
       "        text-align: right;\n",
       "    }\n",
       "</style>\n",
       "<table border=\"1\" class=\"dataframe\">\n",
       "  <thead>\n",
       "    <tr style=\"text-align: right;\">\n",
       "      <th></th>\n",
       "      <th>actor_id</th>\n",
       "      <th>first_name</th>\n",
       "      <th>last_name</th>\n",
       "    </tr>\n",
       "  </thead>\n",
       "  <tbody>\n",
       "    <tr>\n",
       "      <th>0</th>\n",
       "      <td>1</td>\n",
       "      <td>Penelope</td>\n",
       "      <td>Guiness</td>\n",
       "    </tr>\n",
       "    <tr>\n",
       "      <th>1</th>\n",
       "      <td>2</td>\n",
       "      <td>Nick</td>\n",
       "      <td>Wahlberg</td>\n",
       "    </tr>\n",
       "  </tbody>\n",
       "</table>\n",
       "</div>"
      ],
      "text/plain": [
       "   actor_id first_name last_name\n",
       "0         1   Penelope   Guiness\n",
       "1         2       Nick  Wahlberg"
      ]
     },
     "execution_count": 37,
     "metadata": {},
     "output_type": "execute_result"
    }
   ],
   "source": [
    "actors = pd.read_csv('../data/1-clean/actor.csv')\n",
    "actors.head(2)"
   ]
  },
  {
   "cell_type": "code",
   "execution_count": 38,
   "id": "e4cd29c6-d3da-4173-bb44-94e39ed74314",
   "metadata": {},
   "outputs": [],
   "source": [
    "actors['full_name']= actors['first_name']+' '+actors['last_name']"
   ]
  },
  {
   "cell_type": "markdown",
   "id": "b7620deb-11af-4151-b159-9fb6e2c134be",
   "metadata": {},
   "source": [
    "Now we can add actor_id to old_HDD"
   ]
  },
  {
   "cell_type": "code",
   "execution_count": 39,
   "id": "0b6ea1c1-a7eb-4a89-88f0-e11c295bc3cb",
   "metadata": {},
   "outputs": [],
   "source": [
    "old_HDD['actor_id']= ''"
   ]
  },
  {
   "cell_type": "code",
   "execution_count": 40,
   "id": "f9e96cb6-db37-4380-9be5-0faaf994c41a",
   "metadata": {},
   "outputs": [
    {
     "data": {
      "text/html": [
       "<div>\n",
       "<style scoped>\n",
       "    .dataframe tbody tr th:only-of-type {\n",
       "        vertical-align: middle;\n",
       "    }\n",
       "\n",
       "    .dataframe tbody tr th {\n",
       "        vertical-align: top;\n",
       "    }\n",
       "\n",
       "    .dataframe thead th {\n",
       "        text-align: right;\n",
       "    }\n",
       "</style>\n",
       "<table border=\"1\" class=\"dataframe\">\n",
       "  <thead>\n",
       "    <tr style=\"text-align: right;\">\n",
       "      <th></th>\n",
       "      <th>first_name</th>\n",
       "      <th>last_name</th>\n",
       "      <th>title</th>\n",
       "      <th>film_id</th>\n",
       "      <th>full_name</th>\n",
       "      <th>actor_id</th>\n",
       "    </tr>\n",
       "  </thead>\n",
       "  <tbody>\n",
       "    <tr>\n",
       "      <th>0</th>\n",
       "      <td>Penelope</td>\n",
       "      <td>Guiness</td>\n",
       "      <td>ACADEMY DINOSAUR</td>\n",
       "      <td>1</td>\n",
       "      <td>Penelope Guiness</td>\n",
       "      <td>1</td>\n",
       "    </tr>\n",
       "    <tr>\n",
       "      <th>1</th>\n",
       "      <td>Penelope</td>\n",
       "      <td>Guiness</td>\n",
       "      <td>ANACONDA CONFESSIONS</td>\n",
       "      <td>23</td>\n",
       "      <td>Penelope Guiness</td>\n",
       "      <td>1</td>\n",
       "    </tr>\n",
       "    <tr>\n",
       "      <th>2</th>\n",
       "      <td>Penelope</td>\n",
       "      <td>Guiness</td>\n",
       "      <td>ANGELS LIFE</td>\n",
       "      <td>25</td>\n",
       "      <td>Penelope Guiness</td>\n",
       "      <td>1</td>\n",
       "    </tr>\n",
       "    <tr>\n",
       "      <th>3</th>\n",
       "      <td>Penelope</td>\n",
       "      <td>Guiness</td>\n",
       "      <td>BULWORTH COMMANDMENTS</td>\n",
       "      <td>106</td>\n",
       "      <td>Penelope Guiness</td>\n",
       "      <td>1</td>\n",
       "    </tr>\n",
       "    <tr>\n",
       "      <th>4</th>\n",
       "      <td>Penelope</td>\n",
       "      <td>Guiness</td>\n",
       "      <td>CHEAPER CLYDE</td>\n",
       "      <td>140</td>\n",
       "      <td>Penelope Guiness</td>\n",
       "      <td>1</td>\n",
       "    </tr>\n",
       "  </tbody>\n",
       "</table>\n",
       "</div>"
      ],
      "text/plain": [
       "  first_name last_name                  title  film_id         full_name  \\\n",
       "0   Penelope   Guiness       ACADEMY DINOSAUR        1  Penelope Guiness   \n",
       "1   Penelope   Guiness   ANACONDA CONFESSIONS       23  Penelope Guiness   \n",
       "2   Penelope   Guiness            ANGELS LIFE       25  Penelope Guiness   \n",
       "3   Penelope   Guiness  BULWORTH COMMANDMENTS      106  Penelope Guiness   \n",
       "4   Penelope   Guiness          CHEAPER CLYDE      140  Penelope Guiness   \n",
       "\n",
       "   actor_id  \n",
       "0         1  \n",
       "1         1  \n",
       "2         1  \n",
       "3         1  \n",
       "4         1  "
      ]
     },
     "execution_count": 40,
     "metadata": {},
     "output_type": "execute_result"
    }
   ],
   "source": [
    "old_HDD = old_HDD.apply(sc.fill_column, df_to_compare=actors, column_to_compare='full_name', column_to_change='actor_id', axis=1)\n",
    "\n",
    "old_HDD.head()"
   ]
  },
  {
   "cell_type": "code",
   "execution_count": 41,
   "id": "5f04bf01-2eee-491e-a5ed-550490ec6593",
   "metadata": {},
   "outputs": [
    {
     "data": {
      "text/html": [
       "<div>\n",
       "<style scoped>\n",
       "    .dataframe tbody tr th:only-of-type {\n",
       "        vertical-align: middle;\n",
       "    }\n",
       "\n",
       "    .dataframe tbody tr th {\n",
       "        vertical-align: top;\n",
       "    }\n",
       "\n",
       "    .dataframe thead th {\n",
       "        text-align: right;\n",
       "    }\n",
       "</style>\n",
       "<table border=\"1\" class=\"dataframe\">\n",
       "  <thead>\n",
       "    <tr style=\"text-align: right;\">\n",
       "      <th></th>\n",
       "      <th>film_id</th>\n",
       "      <th>actor_id</th>\n",
       "    </tr>\n",
       "  </thead>\n",
       "  <tbody>\n",
       "    <tr>\n",
       "      <th>0</th>\n",
       "      <td>1</td>\n",
       "      <td>1</td>\n",
       "    </tr>\n",
       "    <tr>\n",
       "      <th>1</th>\n",
       "      <td>23</td>\n",
       "      <td>1</td>\n",
       "    </tr>\n",
       "  </tbody>\n",
       "</table>\n",
       "</div>"
      ],
      "text/plain": [
       "   film_id  actor_id\n",
       "0        1         1\n",
       "1       23         1"
      ]
     },
     "execution_count": 41,
     "metadata": {},
     "output_type": "execute_result"
    }
   ],
   "source": [
    "old_HDD.drop(columns=['first_name','last_name','title','full_name'], inplace=True)\n",
    "\n",
    "old_HDD.head(2)"
   ]
  },
  {
   "cell_type": "code",
   "execution_count": 42,
   "id": "30613239-089a-43f9-9757-b56113949fcb",
   "metadata": {},
   "outputs": [
    {
     "data": {
      "text/html": [
       "<div>\n",
       "<style scoped>\n",
       "    .dataframe tbody tr th:only-of-type {\n",
       "        vertical-align: middle;\n",
       "    }\n",
       "\n",
       "    .dataframe tbody tr th {\n",
       "        vertical-align: top;\n",
       "    }\n",
       "\n",
       "    .dataframe thead th {\n",
       "        text-align: right;\n",
       "    }\n",
       "</style>\n",
       "<table border=\"1\" class=\"dataframe\">\n",
       "  <thead>\n",
       "    <tr style=\"text-align: right;\">\n",
       "      <th></th>\n",
       "      <th>actor_id</th>\n",
       "      <th>first_name</th>\n",
       "      <th>last_name</th>\n",
       "    </tr>\n",
       "  </thead>\n",
       "  <tbody>\n",
       "    <tr>\n",
       "      <th>0</th>\n",
       "      <td>1</td>\n",
       "      <td>Penelope</td>\n",
       "      <td>Guiness</td>\n",
       "    </tr>\n",
       "    <tr>\n",
       "      <th>1</th>\n",
       "      <td>2</td>\n",
       "      <td>Nick</td>\n",
       "      <td>Wahlberg</td>\n",
       "    </tr>\n",
       "  </tbody>\n",
       "</table>\n",
       "</div>"
      ],
      "text/plain": [
       "   actor_id first_name last_name\n",
       "0         1   Penelope   Guiness\n",
       "1         2       Nick  Wahlberg"
      ]
     },
     "execution_count": 42,
     "metadata": {},
     "output_type": "execute_result"
    }
   ],
   "source": [
    "actors.drop(columns=['full_name'], inplace=True)\n",
    "\n",
    "actors.head(2)"
   ]
  },
  {
   "cell_type": "markdown",
   "id": "e1e64144-ad2e-42a6-ad53-3d3f6032fb51",
   "metadata": {
    "jp-MarkdownHeadingCollapsed": true
   },
   "source": [
    "### 2.4. inventory & rental"
   ]
  },
  {
   "cell_type": "markdown",
   "id": "62738f31-557c-4150-b4a4-2c6ba26136c9",
   "metadata": {},
   "source": [
    "The way both tables are set up, it only allows the rental of one film at a time. So the best idea is to reconvert that table to rental_detail which will be the intermediate table of the many-to-many relationship between rental and film and it will only have: film_id and rental_id "
   ]
  },
  {
   "cell_type": "code",
   "execution_count": 43,
   "id": "6750ce0d-40a1-4a74-82e4-8994ffcf5999",
   "metadata": {},
   "outputs": [
    {
     "data": {
      "text/html": [
       "<div>\n",
       "<style scoped>\n",
       "    .dataframe tbody tr th:only-of-type {\n",
       "        vertical-align: middle;\n",
       "    }\n",
       "\n",
       "    .dataframe tbody tr th {\n",
       "        vertical-align: top;\n",
       "    }\n",
       "\n",
       "    .dataframe thead th {\n",
       "        text-align: right;\n",
       "    }\n",
       "</style>\n",
       "<table border=\"1\" class=\"dataframe\">\n",
       "  <thead>\n",
       "    <tr style=\"text-align: right;\">\n",
       "      <th></th>\n",
       "      <th>inventory_id</th>\n",
       "      <th>film_id</th>\n",
       "      <th>store_id</th>\n",
       "    </tr>\n",
       "  </thead>\n",
       "  <tbody>\n",
       "    <tr>\n",
       "      <th>0</th>\n",
       "      <td>1</td>\n",
       "      <td>1</td>\n",
       "      <td>1</td>\n",
       "    </tr>\n",
       "    <tr>\n",
       "      <th>1</th>\n",
       "      <td>2</td>\n",
       "      <td>1</td>\n",
       "      <td>1</td>\n",
       "    </tr>\n",
       "    <tr>\n",
       "      <th>2</th>\n",
       "      <td>3</td>\n",
       "      <td>1</td>\n",
       "      <td>1</td>\n",
       "    </tr>\n",
       "    <tr>\n",
       "      <th>3</th>\n",
       "      <td>4</td>\n",
       "      <td>1</td>\n",
       "      <td>1</td>\n",
       "    </tr>\n",
       "    <tr>\n",
       "      <th>4</th>\n",
       "      <td>5</td>\n",
       "      <td>1</td>\n",
       "      <td>2</td>\n",
       "    </tr>\n",
       "  </tbody>\n",
       "</table>\n",
       "</div>"
      ],
      "text/plain": [
       "   inventory_id  film_id  store_id\n",
       "0             1        1         1\n",
       "1             2        1         1\n",
       "2             3        1         1\n",
       "3             4        1         1\n",
       "4             5        1         2"
      ]
     },
     "execution_count": 43,
     "metadata": {},
     "output_type": "execute_result"
    }
   ],
   "source": [
    "inventory = pd.read_csv('../data/1-clean/inventory.csv')\n",
    "\n",
    "inventory.head()"
   ]
  },
  {
   "cell_type": "code",
   "execution_count": 44,
   "id": "7702e4d4-c3b9-4ddd-99ea-1f8ba1e15d55",
   "metadata": {},
   "outputs": [
    {
     "data": {
      "text/html": [
       "<div>\n",
       "<style scoped>\n",
       "    .dataframe tbody tr th:only-of-type {\n",
       "        vertical-align: middle;\n",
       "    }\n",
       "\n",
       "    .dataframe tbody tr th {\n",
       "        vertical-align: top;\n",
       "    }\n",
       "\n",
       "    .dataframe thead th {\n",
       "        text-align: right;\n",
       "    }\n",
       "</style>\n",
       "<table border=\"1\" class=\"dataframe\">\n",
       "  <thead>\n",
       "    <tr style=\"text-align: right;\">\n",
       "      <th></th>\n",
       "      <th>rental_id</th>\n",
       "      <th>rental_date</th>\n",
       "      <th>inventory_id</th>\n",
       "      <th>customer_id</th>\n",
       "      <th>return_date</th>\n",
       "      <th>staff_id</th>\n",
       "    </tr>\n",
       "  </thead>\n",
       "  <tbody>\n",
       "    <tr>\n",
       "      <th>995</th>\n",
       "      <td>996</td>\n",
       "      <td>2005-05-31 00:08:25</td>\n",
       "      <td>4243</td>\n",
       "      <td>216</td>\n",
       "      <td>2005-06-02 00:17:25</td>\n",
       "      <td>2</td>\n",
       "    </tr>\n",
       "    <tr>\n",
       "      <th>996</th>\n",
       "      <td>997</td>\n",
       "      <td>2005-05-31 00:16:57</td>\n",
       "      <td>3395</td>\n",
       "      <td>389</td>\n",
       "      <td>2005-06-01 22:41:57</td>\n",
       "      <td>1</td>\n",
       "    </tr>\n",
       "    <tr>\n",
       "      <th>997</th>\n",
       "      <td>998</td>\n",
       "      <td>2005-05-31 00:25:10</td>\n",
       "      <td>4433</td>\n",
       "      <td>413</td>\n",
       "      <td>2005-06-03 06:05:10</td>\n",
       "      <td>2</td>\n",
       "    </tr>\n",
       "    <tr>\n",
       "      <th>998</th>\n",
       "      <td>999</td>\n",
       "      <td>2005-05-31 00:25:56</td>\n",
       "      <td>1774</td>\n",
       "      <td>332</td>\n",
       "      <td>2005-06-08 19:42:56</td>\n",
       "      <td>2</td>\n",
       "    </tr>\n",
       "    <tr>\n",
       "      <th>999</th>\n",
       "      <td>1000</td>\n",
       "      <td>2005-05-31 00:46:31</td>\n",
       "      <td>1498</td>\n",
       "      <td>64</td>\n",
       "      <td>2005-06-06 06:14:31</td>\n",
       "      <td>2</td>\n",
       "    </tr>\n",
       "  </tbody>\n",
       "</table>\n",
       "</div>"
      ],
      "text/plain": [
       "     rental_id          rental_date  inventory_id  customer_id  \\\n",
       "995        996  2005-05-31 00:08:25          4243          216   \n",
       "996        997  2005-05-31 00:16:57          3395          389   \n",
       "997        998  2005-05-31 00:25:10          4433          413   \n",
       "998        999  2005-05-31 00:25:56          1774          332   \n",
       "999       1000  2005-05-31 00:46:31          1498           64   \n",
       "\n",
       "             return_date  staff_id  \n",
       "995  2005-06-02 00:17:25         2  \n",
       "996  2005-06-01 22:41:57         1  \n",
       "997  2005-06-03 06:05:10         2  \n",
       "998  2005-06-08 19:42:56         2  \n",
       "999  2005-06-06 06:14:31         2  "
      ]
     },
     "execution_count": 44,
     "metadata": {},
     "output_type": "execute_result"
    }
   ],
   "source": [
    "rental = pd.read_csv('../data/1-clean/rental.csv')\n",
    "\n",
    "rental.tail()"
   ]
  },
  {
   "cell_type": "markdown",
   "id": "608379d6-2f88-48c6-985d-e67f62d4670c",
   "metadata": {},
   "source": [
    "Drop store_id because the plan is an initial store and in case more are opened, just create a store table and associate with rental"
   ]
  },
  {
   "cell_type": "code",
   "execution_count": 45,
   "id": "265dbc00-97bd-42aa-a8c7-da97fb082ac5",
   "metadata": {},
   "outputs": [
    {
     "data": {
      "text/html": [
       "<div>\n",
       "<style scoped>\n",
       "    .dataframe tbody tr th:only-of-type {\n",
       "        vertical-align: middle;\n",
       "    }\n",
       "\n",
       "    .dataframe tbody tr th {\n",
       "        vertical-align: top;\n",
       "    }\n",
       "\n",
       "    .dataframe thead th {\n",
       "        text-align: right;\n",
       "    }\n",
       "</style>\n",
       "<table border=\"1\" class=\"dataframe\">\n",
       "  <thead>\n",
       "    <tr style=\"text-align: right;\">\n",
       "      <th></th>\n",
       "      <th>inventory_id</th>\n",
       "      <th>film_id</th>\n",
       "    </tr>\n",
       "  </thead>\n",
       "  <tbody>\n",
       "    <tr>\n",
       "      <th>0</th>\n",
       "      <td>1</td>\n",
       "      <td>1</td>\n",
       "    </tr>\n",
       "    <tr>\n",
       "      <th>1</th>\n",
       "      <td>2</td>\n",
       "      <td>1</td>\n",
       "    </tr>\n",
       "    <tr>\n",
       "      <th>2</th>\n",
       "      <td>3</td>\n",
       "      <td>1</td>\n",
       "    </tr>\n",
       "    <tr>\n",
       "      <th>3</th>\n",
       "      <td>4</td>\n",
       "      <td>1</td>\n",
       "    </tr>\n",
       "    <tr>\n",
       "      <th>4</th>\n",
       "      <td>5</td>\n",
       "      <td>1</td>\n",
       "    </tr>\n",
       "  </tbody>\n",
       "</table>\n",
       "</div>"
      ],
      "text/plain": [
       "   inventory_id  film_id\n",
       "0             1        1\n",
       "1             2        1\n",
       "2             3        1\n",
       "3             4        1\n",
       "4             5        1"
      ]
     },
     "execution_count": 45,
     "metadata": {},
     "output_type": "execute_result"
    }
   ],
   "source": [
    "inventory.drop('store_id', axis=1, inplace=True)\n",
    "\n",
    "inventory.head()"
   ]
  },
  {
   "cell_type": "code",
   "execution_count": 46,
   "id": "19cf6023-4f55-4f27-b29c-8b97f3ea94be",
   "metadata": {},
   "outputs": [
    {
     "data": {
      "text/html": [
       "<div>\n",
       "<style scoped>\n",
       "    .dataframe tbody tr th:only-of-type {\n",
       "        vertical-align: middle;\n",
       "    }\n",
       "\n",
       "    .dataframe tbody tr th {\n",
       "        vertical-align: top;\n",
       "    }\n",
       "\n",
       "    .dataframe thead th {\n",
       "        text-align: right;\n",
       "    }\n",
       "</style>\n",
       "<table border=\"1\" class=\"dataframe\">\n",
       "  <thead>\n",
       "    <tr style=\"text-align: right;\">\n",
       "      <th></th>\n",
       "      <th>rental_id</th>\n",
       "      <th>film_id</th>\n",
       "    </tr>\n",
       "  </thead>\n",
       "  <tbody>\n",
       "    <tr>\n",
       "      <th>0</th>\n",
       "      <td>1</td>\n",
       "      <td>1</td>\n",
       "    </tr>\n",
       "    <tr>\n",
       "      <th>1</th>\n",
       "      <td>2</td>\n",
       "      <td>1</td>\n",
       "    </tr>\n",
       "  </tbody>\n",
       "</table>\n",
       "</div>"
      ],
      "text/plain": [
       "   rental_id  film_id\n",
       "0          1        1\n",
       "1          2        1"
      ]
     },
     "execution_count": 46,
     "metadata": {},
     "output_type": "execute_result"
    }
   ],
   "source": [
    "inventory.rename(columns={\"inventory_id\": \"rental_id\"}, inplace=True)\n",
    "\n",
    "inventory.head(2)"
   ]
  },
  {
   "cell_type": "markdown",
   "id": "073b264d-cf56-428a-a225-2c25f53cae9a",
   "metadata": {
    "jp-MarkdownHeadingCollapsed": true
   },
   "source": [
    "### 2.5 language\n",
    "As last step, we add 'Unknown' to \"language\" and we add the unknown language id to \"original_language_id\" in \"film\""
   ]
  },
  {
   "cell_type": "markdown",
   "id": "64f409c5-face-42ee-a0b8-c933ad13a76e",
   "metadata": {},
   "source": [
    "###### Add 0 to language DataFrame as \"unknown\""
   ]
  },
  {
   "cell_type": "code",
   "execution_count": 47,
   "id": "6c8368d0-9ad9-4afd-8e98-4ef678f849d0",
   "metadata": {},
   "outputs": [
    {
     "data": {
      "text/html": [
       "<div>\n",
       "<style scoped>\n",
       "    .dataframe tbody tr th:only-of-type {\n",
       "        vertical-align: middle;\n",
       "    }\n",
       "\n",
       "    .dataframe tbody tr th {\n",
       "        vertical-align: top;\n",
       "    }\n",
       "\n",
       "    .dataframe thead th {\n",
       "        text-align: right;\n",
       "    }\n",
       "</style>\n",
       "<table border=\"1\" class=\"dataframe\">\n",
       "  <thead>\n",
       "    <tr style=\"text-align: right;\">\n",
       "      <th></th>\n",
       "      <th>language_id</th>\n",
       "      <th>name</th>\n",
       "    </tr>\n",
       "  </thead>\n",
       "  <tbody>\n",
       "    <tr>\n",
       "      <th>0</th>\n",
       "      <td>1</td>\n",
       "      <td>English</td>\n",
       "    </tr>\n",
       "    <tr>\n",
       "      <th>1</th>\n",
       "      <td>2</td>\n",
       "      <td>Italian</td>\n",
       "    </tr>\n",
       "  </tbody>\n",
       "</table>\n",
       "</div>"
      ],
      "text/plain": [
       "   language_id     name\n",
       "0            1  English\n",
       "1            2  Italian"
      ]
     },
     "execution_count": 47,
     "metadata": {},
     "output_type": "execute_result"
    }
   ],
   "source": [
    "language = pd.read_csv('../data/1-clean/language.csv')\n",
    "\n",
    "language.head(2)"
   ]
  },
  {
   "cell_type": "code",
   "execution_count": 48,
   "id": "bd50bdef-14b1-4cb0-9501-8e7b8ebeaab0",
   "metadata": {},
   "outputs": [
    {
     "data": {
      "text/html": [
       "<div>\n",
       "<style scoped>\n",
       "    .dataframe tbody tr th:only-of-type {\n",
       "        vertical-align: middle;\n",
       "    }\n",
       "\n",
       "    .dataframe tbody tr th {\n",
       "        vertical-align: top;\n",
       "    }\n",
       "\n",
       "    .dataframe thead th {\n",
       "        text-align: right;\n",
       "    }\n",
       "</style>\n",
       "<table border=\"1\" class=\"dataframe\">\n",
       "  <thead>\n",
       "    <tr style=\"text-align: right;\">\n",
       "      <th></th>\n",
       "      <th>language_id</th>\n",
       "      <th>name</th>\n",
       "    </tr>\n",
       "  </thead>\n",
       "  <tbody>\n",
       "    <tr>\n",
       "      <th>6</th>\n",
       "      <td>7</td>\n",
       "      <td>Unknown</td>\n",
       "    </tr>\n",
       "  </tbody>\n",
       "</table>\n",
       "</div>"
      ],
      "text/plain": [
       "   language_id     name\n",
       "6            7  Unknown"
      ]
     },
     "execution_count": 48,
     "metadata": {},
     "output_type": "execute_result"
    }
   ],
   "source": [
    "new_row = {'language_id': 7,'name': 'Unknown'}\n",
    "\n",
    "language.loc[len(language)] = new_row\n",
    "\n",
    "language.tail(1)"
   ]
  },
  {
   "cell_type": "code",
   "execution_count": 49,
   "id": "41239400-6ca9-429a-832f-fc4ee947c0b6",
   "metadata": {},
   "outputs": [],
   "source": [
    "film.original_language_id= 7"
   ]
  },
  {
   "cell_type": "code",
   "execution_count": 50,
   "id": "f6de9cb5-c4b9-45c1-9047-ae460044b875",
   "metadata": {},
   "outputs": [
    {
     "data": {
      "text/html": [
       "<div>\n",
       "<style scoped>\n",
       "    .dataframe tbody tr th:only-of-type {\n",
       "        vertical-align: middle;\n",
       "    }\n",
       "\n",
       "    .dataframe tbody tr th {\n",
       "        vertical-align: top;\n",
       "    }\n",
       "\n",
       "    .dataframe thead th {\n",
       "        text-align: right;\n",
       "    }\n",
       "</style>\n",
       "<table border=\"1\" class=\"dataframe\">\n",
       "  <thead>\n",
       "    <tr style=\"text-align: right;\">\n",
       "      <th></th>\n",
       "      <th>film_id</th>\n",
       "      <th>title</th>\n",
       "      <th>description</th>\n",
       "      <th>release_year</th>\n",
       "      <th>language_id</th>\n",
       "      <th>original_language_id</th>\n",
       "      <th>rental_duration</th>\n",
       "      <th>rental_rate</th>\n",
       "      <th>length</th>\n",
       "      <th>replacement_cost</th>\n",
       "      <th>rating</th>\n",
       "      <th>category_id</th>\n",
       "    </tr>\n",
       "  </thead>\n",
       "  <tbody>\n",
       "    <tr>\n",
       "      <th>0</th>\n",
       "      <td>1</td>\n",
       "      <td>ACADEMY DINOSAUR</td>\n",
       "      <td>A EPIC DRAMA OF A FEMINIST AND A MAD SCIENTIST...</td>\n",
       "      <td>2006</td>\n",
       "      <td>1</td>\n",
       "      <td>7</td>\n",
       "      <td>6</td>\n",
       "      <td>0.99</td>\n",
       "      <td>86</td>\n",
       "      <td>20.99</td>\n",
       "      <td>PG</td>\n",
       "      <td>6</td>\n",
       "    </tr>\n",
       "    <tr>\n",
       "      <th>1</th>\n",
       "      <td>2</td>\n",
       "      <td>ACE GOLDFINGER</td>\n",
       "      <td>A ASTOUNDING EPISTLE OF A DATABASE ADMINISTRAT...</td>\n",
       "      <td>2006</td>\n",
       "      <td>1</td>\n",
       "      <td>7</td>\n",
       "      <td>3</td>\n",
       "      <td>4.99</td>\n",
       "      <td>48</td>\n",
       "      <td>12.99</td>\n",
       "      <td>G</td>\n",
       "      <td>11</td>\n",
       "    </tr>\n",
       "    <tr>\n",
       "      <th>2</th>\n",
       "      <td>3</td>\n",
       "      <td>ADAPTATION HOLES</td>\n",
       "      <td>A ASTOUNDING REFLECTION OF A LUMBERJACK AND A ...</td>\n",
       "      <td>2006</td>\n",
       "      <td>1</td>\n",
       "      <td>7</td>\n",
       "      <td>7</td>\n",
       "      <td>2.99</td>\n",
       "      <td>50</td>\n",
       "      <td>18.99</td>\n",
       "      <td>NC-17</td>\n",
       "      <td>6</td>\n",
       "    </tr>\n",
       "    <tr>\n",
       "      <th>3</th>\n",
       "      <td>4</td>\n",
       "      <td>AFFAIR PREJUDICE</td>\n",
       "      <td>A FANCIFUL DOCUMENTARY OF A FRISBEE AND A LUMB...</td>\n",
       "      <td>2006</td>\n",
       "      <td>1</td>\n",
       "      <td>7</td>\n",
       "      <td>5</td>\n",
       "      <td>2.99</td>\n",
       "      <td>117</td>\n",
       "      <td>26.99</td>\n",
       "      <td>G</td>\n",
       "      <td>17</td>\n",
       "    </tr>\n",
       "    <tr>\n",
       "      <th>4</th>\n",
       "      <td>5</td>\n",
       "      <td>AFRICAN EGG</td>\n",
       "      <td>A FAST-PACED DOCUMENTARY OF A PASTRY CHEF AND ...</td>\n",
       "      <td>2006</td>\n",
       "      <td>1</td>\n",
       "      <td>7</td>\n",
       "      <td>6</td>\n",
       "      <td>2.99</td>\n",
       "      <td>130</td>\n",
       "      <td>22.99</td>\n",
       "      <td>G</td>\n",
       "      <td>17</td>\n",
       "    </tr>\n",
       "  </tbody>\n",
       "</table>\n",
       "</div>"
      ],
      "text/plain": [
       "   film_id             title  \\\n",
       "0        1  ACADEMY DINOSAUR   \n",
       "1        2    ACE GOLDFINGER   \n",
       "2        3  ADAPTATION HOLES   \n",
       "3        4  AFFAIR PREJUDICE   \n",
       "4        5       AFRICAN EGG   \n",
       "\n",
       "                                         description  release_year  \\\n",
       "0  A EPIC DRAMA OF A FEMINIST AND A MAD SCIENTIST...          2006   \n",
       "1  A ASTOUNDING EPISTLE OF A DATABASE ADMINISTRAT...          2006   \n",
       "2  A ASTOUNDING REFLECTION OF A LUMBERJACK AND A ...          2006   \n",
       "3  A FANCIFUL DOCUMENTARY OF A FRISBEE AND A LUMB...          2006   \n",
       "4  A FAST-PACED DOCUMENTARY OF A PASTRY CHEF AND ...          2006   \n",
       "\n",
       "   language_id  original_language_id  rental_duration  rental_rate  length  \\\n",
       "0            1                     7                6         0.99      86   \n",
       "1            1                     7                3         4.99      48   \n",
       "2            1                     7                7         2.99      50   \n",
       "3            1                     7                5         2.99     117   \n",
       "4            1                     7                6         2.99     130   \n",
       "\n",
       "   replacement_cost rating  category_id  \n",
       "0             20.99     PG            6  \n",
       "1             12.99      G           11  \n",
       "2             18.99  NC-17            6  \n",
       "3             26.99      G           17  \n",
       "4             22.99      G           17  "
      ]
     },
     "execution_count": 50,
     "metadata": {},
     "output_type": "execute_result"
    }
   ],
   "source": [
    "film.head()"
   ]
  },
  {
   "cell_type": "markdown",
   "id": "696c9c93-d8b5-4354-98b9-3a93ae388147",
   "metadata": {
    "jp-MarkdownHeadingCollapsed": true
   },
   "source": [
    "## 3. Export documents"
   ]
  },
  {
   "cell_type": "code",
   "execution_count": 51,
   "id": "0fe49aa0-f04a-4824-8341-a38419b4db87",
   "metadata": {},
   "outputs": [],
   "source": [
    "actors.to_csv('../data/2-processed/actor.csv', index=False)"
   ]
  },
  {
   "cell_type": "code",
   "execution_count": 52,
   "id": "81793651-2c36-42ad-891b-360eb8fe119a",
   "metadata": {},
   "outputs": [],
   "source": [
    "category.to_csv('../data/2-processed/category.csv', index=False)"
   ]
  },
  {
   "cell_type": "code",
   "execution_count": 53,
   "id": "74554657-8397-41b7-886c-a63635af4b12",
   "metadata": {},
   "outputs": [],
   "source": [
    "film.to_csv('../data/2-processed/film.csv', index=False)"
   ]
  },
  {
   "cell_type": "code",
   "execution_count": 54,
   "id": "3c405abb-51a8-4034-b63b-78354fb45e0b",
   "metadata": {},
   "outputs": [],
   "source": [
    "film_has_special_features.to_csv('../data/2-processed/film_has_special_features.csv', index=False)"
   ]
  },
  {
   "cell_type": "code",
   "execution_count": 55,
   "id": "a56784a7-5a29-40d4-8dbe-869bb42f1557",
   "metadata": {},
   "outputs": [],
   "source": [
    "language.to_csv('../data/2-processed/language.csv', index=False)"
   ]
  },
  {
   "cell_type": "code",
   "execution_count": 56,
   "id": "a8307fc6-cde9-4a31-be33-d6d38e7f860c",
   "metadata": {},
   "outputs": [],
   "source": [
    "old_HDD.to_csv('../data/2-processed/film_has_actor.csv', index=False)"
   ]
  },
  {
   "cell_type": "code",
   "execution_count": 57,
   "id": "b9894431-98c8-413f-9917-7e07bf0a6999",
   "metadata": {},
   "outputs": [],
   "source": [
    "special_features.to_csv('../data/2-processed/special_features.csv', index=False)"
   ]
  },
  {
   "cell_type": "code",
   "execution_count": 58,
   "id": "1942fc51-226a-4a8d-9833-6be06c6a1f00",
   "metadata": {},
   "outputs": [],
   "source": [
    "inventory.to_csv('../data/2-processed/rental_detail.csv', index=False)"
   ]
  },
  {
   "cell_type": "code",
   "execution_count": 59,
   "id": "2a3cb77d-c49a-4822-b8e6-80e934fc5778",
   "metadata": {},
   "outputs": [],
   "source": [
    "rental.to_csv('../data/2-processed/rental.csv', index=False)"
   ]
  },
  {
   "cell_type": "code",
   "execution_count": null,
   "id": "f86dba49-cd3d-4366-8178-a8eb2b1cd9d0",
   "metadata": {},
   "outputs": [],
   "source": []
  }
 ],
 "metadata": {
  "kernelspec": {
   "display_name": "clase",
   "language": "python",
   "name": "clase"
  },
  "language_info": {
   "codemirror_mode": {
    "name": "ipython",
    "version": 3
   },
   "file_extension": ".py",
   "mimetype": "text/x-python",
   "name": "python",
   "nbconvert_exporter": "python",
   "pygments_lexer": "ipython3",
   "version": "3.10.13"
  }
 },
 "nbformat": 4,
 "nbformat_minor": 5
}
